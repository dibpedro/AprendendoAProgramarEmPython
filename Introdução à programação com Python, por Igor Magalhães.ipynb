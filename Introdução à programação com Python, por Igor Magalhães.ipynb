{
 "cells": [
  {
   "attachments": {
    "asciidog.png": {
     "image/png": "[encoded data removed]"
    }
   },
   "cell_type": "markdown",
   "metadata": {},
   "source": [
    "\n",
    "\n",
    "\n",
    "\n",
    "<h1><center>\n",
    "Introdução à programação com Python\n",
    "</center></h1>\n",
    "<h3><center>\n",
    "por Igor Magalhães, Giovani Louzada\n",
    "</center></h3>\n",
    "\n",
    "![asciidog.png](attachment:asciidog.png)\n",
    "___"
   ]
  },
  {
   "cell_type": "markdown",
   "metadata": {},
   "source": [
    "Olá, vamos falar um pouquinho sobre programação com *python*. O objetivo desse material de capacitação é ensinar os conceitos principais de programação e computação, para que aquele que usa ele possa, assim, sair do nível básico e fazer projetos mais avançados com facilidade. \n",
    "\n",
    "Nós vamos usar python, mas <b>esse não é um curso de python!</b> O foco desse curso está em ensinar o básico de pensamento computacional, além de como desenvolver *algoritmos* (simplesmente um nome bonito para uma sequência de passos a ser seguida) para problemas que possam surgir.\n",
    "\n",
    "A escolha do python como a linguagem central desse curso é que ele tem uma sintaxe bem simples de entender, bem próxima ao *pseudocódigo* (descrição do algoritmo de uma forma estruturada, mas em linguagem natural), sendo fácil de aprender, mas também é uma linguagem muito poderosa, que pode ser usada para diversas aplicações.\n",
    "\n",
    "Antes de prosseguir, vou usar aqui o Jupyter com Anaconda, um ambiente que considero simples e bem intuitivo para se programar, um ambiente que recomendo. A versão do python aqui usada vai ser o python 3, que não é compatível com python 2.\n",
    "\n",
    "Baixe o anaconda para Windows, Mac ou Linux aqui: www.anaconda.com/distribution/\n",
    "\n",
    "Vamos começar? (:"
   ]
  },
  {
   "cell_type": "markdown",
   "metadata": {},
   "source": [
    "___"
   ]
  },
  {
   "cell_type": "markdown",
   "metadata": {},
   "source": [
    "<h1><b>1. Olá, Mundo</b></h1>"
   ]
  },
  {
   "cell_type": "markdown",
   "metadata": {},
   "source": [
    "___"
   ]
  },
  {
   "cell_type": "code",
   "execution_count": 3,
   "metadata": {},
   "outputs": [
    {
     "name": "stdout",
     "output_type": "stream",
     "text": [
      "Hello, World!\n"
     ]
    }
   ],
   "source": [
    "print(\"Hello, World!\")"
   ]
  },
  {
   "cell_type": "markdown",
   "metadata": {},
   "source": [
    "___\n",
    "E assim começamos nossa jornada. A lenda diz que você só aprende a programar em uma certa linguagem se o seu primeiro programa com ela for um Hello, World! A verdade é que esse talvez seja o programa mais básico na maior parte das linguagens de programação, e nós vamos quebrar ele agora mesmo!\n",
    "\n",
    "O print( ) que você vê é o que nós chamamos de uma *função*, que é basicamente a mesma coisa que nós vemos na matemática, é como se fosse uma máquina que recebe alguma coisa (vamos chamar essa coisa que a função recebe de *input*), e retorna outra coisa (chamaremos essa outra coisa de *output*). No caso do python, as funções sempre vão ser algo parecido com isto:\n",
    "\n",
    "nome_da_função(argumento)\n",
    "\n",
    "tendo o nome da função, seguido por um *argumento* (o input da função) entre parênteses.\n",
    "\n",
    "No caso de print( ), o nome da função é justamente print, e o argumento, nesse caso, é \"Hello, World!\", e percebemos que o output da função é mostrar (ou imprimir) na tela o que está entre as aspas!\n",
    "\n",
    "Você não precisa procurar na internet sempre que quiser saber mais sobre o que uma função faz, você pode usar outra função pra isso! A função help( ) tem como argumento o nome de outra função do python, e ela retorna uma ajuda sobre \n",
    "o que essa outra função faz. \n",
    "\n",
    "Vamos ver um exemplo desse uso:\n",
    "___"
   ]
  },
  {
   "cell_type": "code",
   "execution_count": 2,
   "metadata": {},
   "outputs": [
    {
     "name": "stdout",
     "output_type": "stream",
     "text": [
      "Help on built-in function print in module builtins:\n",
      "\n",
      "print(...)\n",
      "    print(value, ..., sep=' ', end='\\n', file=sys.stdout, flush=False)\n",
      "    \n",
      "    Prints the values to a stream, or to sys.stdout by default.\n",
      "    Optional keyword arguments:\n",
      "    file:  a file-like object (stream); defaults to the current sys.stdout.\n",
      "    sep:   string inserted between values, default a space.\n",
      "    end:   string appended after the last value, default a newline.\n",
      "    flush: whether to forcibly flush the stream.\n",
      "\n"
     ]
    }
   ],
   "source": [
    "help(print)"
   ]
  },
  {
   "cell_type": "markdown",
   "metadata": {},
   "source": [
    "___\n",
    "Aqui nós temos help(print), para vermos um pouquinho sobre o que a função print faz. A primeira coisa que vemos é a lista de argumentos da função print. \"Ué, mas você tinha mostrado print somente com um argumento anteriormente\" você pode pensar, mas é que alguns argumentos das funções em python (e na maior parte das linguagens de programação) são opcionais. Se você não atribuir valor algum a elas, o próprio python vai atribuir um valor padrão.\n",
    "\n",
    "Isso é algo que nos economiza muito tempo, já que não teremos que ficar sempre preenchendo todos os argumentos de uma função, só aqueles que realmente nos interessam.\n",
    "\n",
    "Em print, por exemplo, temos:\n",
    "print(value), que é a que nós já usamos, com esse value sendo \"Hello, World!\", mas também podemos definir o que a função vai imprimir no fim dela, com o argumento *end*.\n",
    "\n",
    "A função help nos diz o que é o end, \"end: string appended after the last value, default a newline.\", que talvez possa parecer um pouco críptico por enquanto, então vamos explorar pra descobrir.\n",
    "\n",
    "Vamos mudar o padrão desse argumento e ver o que acontece:\n",
    "___"
   ]
  },
  {
   "cell_type": "code",
   "execution_count": 3,
   "metadata": {},
   "outputs": [
    {
     "name": "stdout",
     "output_type": "stream",
     "text": [
      "Hello, World!---"
     ]
    }
   ],
   "source": [
    "print(\"Hello, World!\", end='---')"
   ]
  },
  {
   "cell_type": "markdown",
   "metadata": {},
   "source": [
    "___\n",
    "O que esse argumento faz é definir o que vai ser imprimido no fim da função, ou seja, após o argumento value ser imprimido. Por padrão, temos end='\\n', mas talvez você se pergunte \"eu não estou vendo \\n ser imprimido depois do value\". A verdade é que você está sim vendo isso, vamos ver como a função se comporta sem esse argumento:\n",
    "___"
   ]
  },
  {
   "cell_type": "code",
   "execution_count": 4,
   "metadata": {},
   "outputs": [
    {
     "name": "stdout",
     "output_type": "stream",
     "text": [
      "Olá\n",
      "Olá\n"
     ]
    }
   ],
   "source": [
    "print(\"Olá\")\n",
    "print(\"Olá\")"
   ]
  },
  {
   "cell_type": "markdown",
   "metadata": {},
   "source": [
    "___\n",
    "Agora vamos ver se mudarmos esse argumento, que por padrão é end='\\n'\n",
    "___"
   ]
  },
  {
   "cell_type": "code",
   "execution_count": 5,
   "metadata": {},
   "outputs": [
    {
     "name": "stdout",
     "output_type": "stream",
     "text": [
      "Olá Olá "
     ]
    }
   ],
   "source": [
    "print(\"Olá\", end=' ')\n",
    "print(\"Olá\", end=' ')"
   ]
  },
  {
   "cell_type": "markdown",
   "metadata": {},
   "source": [
    "___\n",
    "Assim fica mais fácil de perceber, mas o '\\n' na verdade significa basicamente \"pule linha\"! No fim de todo print no qual o argumento end não foi alterado, esse '\\n' está sempre implícito. Talvez você não veja ele, mas ele está atuando. Vamos testar esse '\\n' em outra parte da função.\n",
    "___"
   ]
  },
  {
   "cell_type": "code",
   "execution_count": 6,
   "metadata": {},
   "outputs": [
    {
     "name": "stdout",
     "output_type": "stream",
     "text": [
      "O\n",
      "lá\n"
     ]
    }
   ],
   "source": [
    "print(\"O\\nlá\")"
   ]
  },
  {
   "cell_type": "markdown",
   "metadata": {},
   "source": [
    "___\n",
    "Pelo visto sempre que ele estiver entre aspas (eu não falei ainda, mas, em python, tanto 'olá' quanto \"olá\" são equivalentes, você pode usar o que escolher, contanto que não use 'olá\". Sempre que começar com um você deve terminar com esse mesmo) esse \\n vai pular uma linha, mesmo que esteja no meio de uma frase!\n",
    "\n",
    "Você também pode, com o print, imprimir mais de um valor na tela. Usando da seguinte forma: print(value1, value2), dessa forma a função vai imprimir os dois valores separados por um espaço. Exemplo:\n",
    "___"
   ]
  },
  {
   "cell_type": "code",
   "execution_count": 7,
   "metadata": {},
   "outputs": [
    {
     "name": "stdout",
     "output_type": "stream",
     "text": [
      "Cachorros são legais\n"
     ]
    }
   ],
   "source": [
    "print(\"Cachorros\", \"são legais\")"
   ]
  },
  {
   "cell_type": "markdown",
   "metadata": {},
   "source": [
    "<h3><b>Exercícios:</b></h3>"
   ]
  },
  {
   "cell_type": "markdown",
   "metadata": {},
   "source": [
    "<i>Exercício 1.1:</i> Faça um programa que imprima na tela a seguinte mensagem:\n",
    "Programar é mais fácil que eu pensava!"
   ]
  },
  {
   "cell_type": "markdown",
   "metadata": {},
   "source": [
    "<i>Exercício 1.2:</i> Faça um programa que imprima na tela a seguinte pirâmide:"
   ]
  },
  {
   "cell_type": "code",
   "execution_count": 8,
   "metadata": {},
   "outputs": [],
   "source": [
    "    #\n",
    "   ##\n",
    "  ###\n",
    " ####\n",
    "#####"
   ]
  },
  {
   "cell_type": "markdown",
   "metadata": {},
   "source": [
    "\n",
    "<i>Exercício 1.3:</i> Agora faça um programa que faça o mesmo do anterior, porém você só pode usar um print( )."
   ]
  },
  {
   "cell_type": "markdown",
   "metadata": {},
   "source": [
    "___"
   ]
  },
  {
   "cell_type": "markdown",
   "metadata": {},
   "source": [
    "<h1><b>2. Variáveis e Tipos</b></h1>"
   ]
  },
  {
   "cell_type": "markdown",
   "metadata": {},
   "source": [
    "___"
   ]
  },
  {
   "cell_type": "code",
   "execution_count": 4,
   "metadata": {},
   "outputs": [
    {
     "name": "stdout",
     "output_type": "stream",
     "text": [
      "2 11\n"
     ]
    }
   ],
   "source": [
    "a = 1 + 1\n",
    "b = \"1\" + \"1\"\n",
    "\n",
    "print(a, b)"
   ]
  },
  {
   "cell_type": "markdown",
   "metadata": {},
   "source": [
    "___\n",
    "E com isso começamos a segunda seção dessa jornada, nela vamos falar um pouquinho sobre abstração com o uso de <i>variáveis</i> (basicamente algo que segura um certo valor enquanto você queira), <i>tipos de dados</i> (como algum dado vai se comportar) e os <i>operadores</i> (formas de transformar seus dados que se comportam como funções, mas têm uma notação diferente) em python (que também existem em outras linguagens de programação, mas possivelmente com uma notação um pouquinho diferente).\n",
    "\n",
    "<h2><b>Tipos</b></h2>\n",
    "Os dados que você usa em python têm seus respectivos tipos, e isso vai definir como esses dados se comportam na medida que você usa eles para certas coisas. Caso você queira descobrir o tipo de algum dos seus dados, você pode, em python, simplesmente usar a função type(dado). Vamos ver um exemplo prático:"
   ]
  },
  {
   "cell_type": "markdown",
   "metadata": {},
   "source": [
    "___"
   ]
  },
  {
   "cell_type": "code",
   "execution_count": 10,
   "metadata": {},
   "outputs": [
    {
     "data": {
      "text/plain": [
       "int"
      ]
     },
     "execution_count": 10,
     "metadata": {},
     "output_type": "execute_result"
    }
   ],
   "source": [
    "type(5)"
   ]
  },
  {
   "cell_type": "code",
   "execution_count": 11,
   "metadata": {},
   "outputs": [
    {
     "data": {
      "text/plain": [
       "str"
      ]
     },
     "execution_count": 11,
     "metadata": {},
     "output_type": "execute_result"
    }
   ],
   "source": [
    "type(\"5\")"
   ]
  },
  {
   "cell_type": "markdown",
   "metadata": {},
   "source": [
    "___\n",
    "Aparentemente o tipo de 5 é int, enquanto o tipo de \"5\" é str. Mas o que esses tipos significam? Logo vou te explicar, antes se atente ao Out nas células. \n",
    "\n",
    "Quando você executar algo em u /ma célula e ele mostrar esse Out, isso <b>não está sendo mostrado para o usuário</b>, é simplesmente uma forma de você ver o resultado de algo que você fez nessa célula. É uma coisa mostrada exclusivamente pro computador e pro programador, digamos assim. Você precisa usar a função print( ) sempre que de fato quiser mostrar algo para o usuário, não esqueça.\n",
    "\n",
    "Mas agora voltando para os tipos em python, nós temos os seguintes tipos como os principais em python:\n",
    "\n",
    "<h3><b> - Inteiros (ou int):</b></h3>\n",
    "São os conhecidos números inteiros, como 1, 2, 3 ou mesmo 0, -1, -2, números sem parte decimal."
   ]
  },
  {
   "cell_type": "markdown",
   "metadata": {},
   "source": [
    "___"
   ]
  },
  {
   "cell_type": "code",
   "execution_count": 12,
   "metadata": {},
   "outputs": [
    {
     "name": "stdout",
     "output_type": "stream",
     "text": [
      "3\n",
      "-1\n"
     ]
    }
   ],
   "source": [
    "print(1 + 2)\n",
    "print(-2 + 1 + 0)"
   ]
  },
  {
   "cell_type": "markdown",
   "metadata": {},
   "source": [
    "___\n",
    "<h3><b> - Números de Ponto Flutuante (ou float):</b></h3>\n",
    "São os números que têm uma parte decimal, como 1.3, 2.4, -1.3, 0.5, números com uma parte decimal no geral. \n",
    "\n",
    "<i>Atenção1: <b>o número 1.0 é um float, enquanto o número 1 é um int.</b></i> Cuidado com isso, mesmo que a parte decimal seja um 0, o número será considerado um float.\n",
    "\n",
    "<i>Atenção2: <b>os floats não são sempre exatamente iguais aos decimais que eles representam</b></i>, isso se deve à forma que os números decimais são representados da forma binária, mas volto nisso depois.\n",
    "___"
   ]
  },
  {
   "cell_type": "code",
   "execution_count": 13,
   "metadata": {},
   "outputs": [
    {
     "name": "stdout",
     "output_type": "stream",
     "text": [
      "4.6\n",
      "-1.0\n"
     ]
    }
   ],
   "source": [
    "print(1.2 + 3.4)\n",
    "print(-1.5 + 0.5)"
   ]
  },
  {
   "cell_type": "markdown",
   "metadata": {},
   "source": [
    "___\n",
    "<h3><b> - Strings (ou str)</b></h3>\n",
    "Strings são basicamente uma sequência de caracteres, e pode ser representada em python por qualquer coisa entre aspas. Assim, \"Cachorros são demais!\" é uma string, com 21 caracteres (os espaços contam como caracteres), da mesma forma que \"123\" é uma string com 3 caracteres, e não um inteiro (ou mesmo um número)."
   ]
  },
  {
   "cell_type": "markdown",
   "metadata": {},
   "source": [
    "___"
   ]
  },
  {
   "cell_type": "code",
   "execution_count": 14,
   "metadata": {},
   "outputs": [
    {
     "name": "stdout",
     "output_type": "stream",
     "text": [
      "123123\n",
      "abc123\n"
     ]
    }
   ],
   "source": [
    "print(\"123\" + \"123\")\n",
    "print(\"abc\" + \"123\")"
   ]
  },
  {
   "cell_type": "markdown",
   "metadata": {},
   "source": [
    "___\n",
    "<h3><b> - Booleanos (ou bool)</b></h3>\n",
    "São tipos de dados que podem assumir dois valores apenas, verdadeiro (True) ou falso (False). Serão muito úteis quando formos estudar *condicionais*, mas mais sobre isso depois."
   ]
  },
  {
   "cell_type": "markdown",
   "metadata": {},
   "source": [
    "___"
   ]
  },
  {
   "cell_type": "code",
   "execution_count": 15,
   "metadata": {},
   "outputs": [
    {
     "name": "stdout",
     "output_type": "stream",
     "text": [
      "1\n"
     ]
    }
   ],
   "source": [
    "print(True + False)"
   ]
  },
  {
   "cell_type": "code",
   "execution_count": 16,
   "metadata": {},
   "outputs": [
    {
     "name": "stdout",
     "output_type": "stream",
     "text": [
      "2\n"
     ]
    }
   ],
   "source": [
    "print(True + True)"
   ]
  },
  {
   "cell_type": "code",
   "execution_count": 17,
   "metadata": {},
   "outputs": [
    {
     "name": "stdout",
     "output_type": "stream",
     "text": [
      "0\n"
     ]
    }
   ],
   "source": [
    "print(False + False)"
   ]
  },
  {
   "cell_type": "markdown",
   "metadata": {},
   "source": [
    "___\n",
    "Como é possível de se ver, os booleanos são intercambiáveis com dois valores inteiros, 1 ou 0. True pode ser representado por 1, False pode ser representado por 0. Embora ali em cima tenhamos somado True com False, o tipo do resultado é, na verdade, um int.\n",
    "___"
   ]
  },
  {
   "cell_type": "code",
   "execution_count": 18,
   "metadata": {},
   "outputs": [
    {
     "data": {
      "text/plain": [
       "int"
      ]
     },
     "execution_count": 18,
     "metadata": {},
     "output_type": "execute_result"
    }
   ],
   "source": [
    "type(False + True)"
   ]
  },
  {
   "cell_type": "markdown",
   "metadata": {},
   "source": [
    " ___\n",
    "<h2><b>Variáveis</b></h2>\n",
    "\n",
    "E assim acabamos os mais básicos tipos de dados, fácil né? Posteriormente estudaremos tipos mais complexos, formados por esses tipos básicos, mas por enquanto vamos nos atentar a esses.\n",
    "\n",
    "Antes de apresentar os operadores, vamos falar sobre <b>variáveis</b>, uma forma de tornar mais abstratos os dados com os quais nós vamos trabalhar. As variáveis em python (e na programação no geral) são quase o mesmo que elas representam na matemática. Nós podemos atribuir valores a essas variáveis e usar como se elas fossem esses valores.\n",
    "\n",
    "a notação para atribuir algum valor a uma variável é:\n",
    "\n",
    "<b>var1 = valor1</b>\n",
    "\n",
    "e lê-se: a variável var1 <b>recebe</b> valor1. Lembrando que esse símbolo, =, <b>não significa \"é igual a\", e sim \"recebe\".</b>\n",
    "\n",
    "Um exemplo prático:\n",
    "___"
   ]
  },
  {
   "cell_type": "code",
   "execution_count": 19,
   "metadata": {},
   "outputs": [
    {
     "name": "stdout",
     "output_type": "stream",
     "text": [
      "(5 + 10) é igual a 15\n",
      "(var1 + var2) é igual a 15\n",
      "(var1 + 10) é igual a 15\n"
     ]
    }
   ],
   "source": [
    "var1 = 5\n",
    "var2 = 10\n",
    "\n",
    "print(\"(5 + 10) é igual a\", 5 + 10)\n",
    "print(\"(var1 + var2) é igual a\", 5 + 10)\n",
    "print(\"(var1 + 10) é igual a\", var1 + 10)"
   ]
  },
  {
   "cell_type": "markdown",
   "metadata": {},
   "source": [
    "___\n",
    "Nós usaremos variáveis naturalmente daqui pra frente, já que elas são a melhor opção pra maior parte das coisas que faremos. Na maior parte do tempo, você não quer ter simplesmente um print(5), você quer ter um print(var), e essa var pode ser 5, mas também pode ser outra coisa. Um exemplo:\n",
    "___"
   ]
  },
  {
   "cell_type": "code",
   "execution_count": 20,
   "metadata": {},
   "outputs": [
    {
     "name": "stdout",
     "output_type": "stream",
     "text": [
      "5\n",
      "3\n"
     ]
    }
   ],
   "source": [
    "var = 5\n",
    "print(var)\n",
    "\n",
    "var = 3\n",
    "print(var)"
   ]
  },
  {
   "cell_type": "markdown",
   "metadata": {},
   "source": [
    "___\n",
    "### Exercícios:"
   ]
  },
  {
   "cell_type": "markdown",
   "metadata": {},
   "source": [
    "<b>_Exercício 2.1_</b>: o que a expressão <b>\"2\" + \"3\"</b> retorna?"
   ]
  },
  {
   "cell_type": "markdown",
   "metadata": {},
   "source": [
    "<b>_Exercício 2.2_</b>: o que a expressão <b>2 + 3</b> retorna?"
   ]
  },
  {
   "cell_type": "markdown",
   "metadata": {},
   "source": [
    "<b>_Exercício 2.3_</b>: o que a expressão <b>\"2\" + 3</b> retorna?"
   ]
  },
  {
   "cell_type": "markdown",
   "metadata": {},
   "source": [
    "<b>_Exercício 2.4_</b>: qual é a diferença entre <b>1, \"1\" e 1.0</b>?"
   ]
  },
  {
   "cell_type": "markdown",
   "metadata": {},
   "source": [
    "<b>_Exercício 2.5_</b>: assuma uma variável <b>valor = 3</b>, o que é <b>valor + 8</b>?"
   ]
  },
  {
   "cell_type": "markdown",
   "metadata": {},
   "source": [
    "<b>_Exercício_ 2.6</b>: assuma uma variável <b>valor = \"3\"</b>, se fizermos a expressão <b>valor = valor + \"8\"</b>, o que print(valor) retornará?"
   ]
  },
  {
   "cell_type": "markdown",
   "metadata": {},
   "source": [
    "___\n",
    "<h1><b>3. Operadores e Input do Usuário</b></h1>\n",
    "Como já disse antes, operadores são basicamente algo que transforma seus dados, e eles se comportam como funções, mas têm uma notação um pouco diferente. Não sei se você percebeu, mas até agora nós já usamos operadores várias vezes, como por exemplo o + e o =.\n",
    "\n",
    "<h3><b> - Adição (+):</b></h3>\n",
    "\n",
    "Esse operador simplesmente adiciona duas variáveis se essas forem de tipo numérico (int ou float), retornando a soma dessas. (retorna int se você somar int com int, e float caso some algo com um float.)"
   ]
  },
  {
   "cell_type": "markdown",
   "metadata": {},
   "source": [
    "___"
   ]
  },
  {
   "cell_type": "code",
   "execution_count": 21,
   "metadata": {},
   "outputs": [
    {
     "data": {
      "text/plain": [
       "3"
      ]
     },
     "execution_count": 21,
     "metadata": {},
     "output_type": "execute_result"
    }
   ],
   "source": [
    "1 + 2"
   ]
  },
  {
   "cell_type": "code",
   "execution_count": 22,
   "metadata": {},
   "outputs": [
    {
     "data": {
      "text/plain": [
       "int"
      ]
     },
     "execution_count": 22,
     "metadata": {},
     "output_type": "execute_result"
    }
   ],
   "source": [
    "type(1 + 2)"
   ]
  },
  {
   "cell_type": "markdown",
   "metadata": {},
   "source": [
    "___"
   ]
  },
  {
   "cell_type": "code",
   "execution_count": 23,
   "metadata": {},
   "outputs": [
    {
     "data": {
      "text/plain": [
       "3.5"
      ]
     },
     "execution_count": 23,
     "metadata": {},
     "output_type": "execute_result"
    }
   ],
   "source": [
    "1 + 2.5"
   ]
  },
  {
   "cell_type": "code",
   "execution_count": 24,
   "metadata": {},
   "outputs": [
    {
     "data": {
      "text/plain": [
       "float"
      ]
     },
     "execution_count": 24,
     "metadata": {},
     "output_type": "execute_result"
    }
   ],
   "source": [
    "type(1 + 2.5)"
   ]
  },
  {
   "cell_type": "markdown",
   "metadata": {},
   "source": [
    "___"
   ]
  },
  {
   "cell_type": "code",
   "execution_count": 25,
   "metadata": {},
   "outputs": [
    {
     "data": {
      "text/plain": [
       "4.0"
      ]
     },
     "execution_count": 25,
     "metadata": {},
     "output_type": "execute_result"
    }
   ],
   "source": [
    "1.5 + 2.5"
   ]
  },
  {
   "cell_type": "code",
   "execution_count": 26,
   "metadata": {},
   "outputs": [
    {
     "data": {
      "text/plain": [
       "float"
      ]
     },
     "execution_count": 26,
     "metadata": {},
     "output_type": "execute_result"
    }
   ],
   "source": [
    "type(1.5 + 2.5)"
   ]
  },
  {
   "cell_type": "markdown",
   "metadata": {},
   "source": [
    "___\n",
    "Mas esse operador também funciona no caso de <b><i>string + string</i></b>, você lembra o que acontece quando fazemos isso? Vamos ver:\n",
    "___"
   ]
  },
  {
   "cell_type": "code",
   "execution_count": 27,
   "metadata": {},
   "outputs": [
    {
     "data": {
      "text/plain": [
       "'12'"
      ]
     },
     "execution_count": 27,
     "metadata": {},
     "output_type": "execute_result"
    }
   ],
   "source": [
    "\"1\" + \"2\""
   ]
  },
  {
   "cell_type": "code",
   "execution_count": 28,
   "metadata": {},
   "outputs": [
    {
     "data": {
      "text/plain": [
       "str"
      ]
     },
     "execution_count": 28,
     "metadata": {},
     "output_type": "execute_result"
    }
   ],
   "source": [
    "type(\"1\" + \"2\")"
   ]
  },
  {
   "cell_type": "markdown",
   "metadata": {},
   "source": [
    "___\n",
    "O que ele faz, de juntar o começo da segunda string no fim da primeira em uma string maior, nós chamamos de <b>concatenar</b>. E isso é algo que faremos muito posteriormente. Algo interessante de se lembrar, operadores têm comportamentos de transformar dados diferentes de acordo com o tipo desses dados.\n",
    "\n",
    "___\n",
    "<h3><b> - Subtração (-):</b></h3>\n",
    "\n",
    "Esse operador subtrai o segundo valor do primeiro. Só funciona se ambos forem numéricos, e vai retornar um int somente se os dois valores forem ints."
   ]
  },
  {
   "cell_type": "markdown",
   "metadata": {},
   "source": [
    "___"
   ]
  },
  {
   "cell_type": "code",
   "execution_count": 29,
   "metadata": {},
   "outputs": [
    {
     "data": {
      "text/plain": [
       "0"
      ]
     },
     "execution_count": 29,
     "metadata": {},
     "output_type": "execute_result"
    }
   ],
   "source": [
    "1 - 1"
   ]
  },
  {
   "cell_type": "code",
   "execution_count": 30,
   "metadata": {},
   "outputs": [
    {
     "data": {
      "text/plain": [
       "-1"
      ]
     },
     "execution_count": 30,
     "metadata": {},
     "output_type": "execute_result"
    }
   ],
   "source": [
    "2 - 3"
   ]
  },
  {
   "cell_type": "code",
   "execution_count": 31,
   "metadata": {},
   "outputs": [
    {
     "data": {
      "text/plain": [
       "0.9999999999999998"
      ]
     },
     "execution_count": 31,
     "metadata": {},
     "output_type": "execute_result"
    }
   ],
   "source": [
    "2.3 - 1.3"
   ]
  },
  {
   "cell_type": "code",
   "execution_count": 32,
   "metadata": {},
   "outputs": [
    {
     "data": {
      "text/plain": [
       "1.2999999999999998"
      ]
     },
     "execution_count": 32,
     "metadata": {},
     "output_type": "execute_result"
    }
   ],
   "source": [
    "2.3 - 1"
   ]
  },
  {
   "cell_type": "markdown",
   "metadata": {},
   "source": [
    "___\n",
    "Perceba que no caso de 2.3 - 1 nós não temos 1.3 como resposta, e sim 1.2999999999999998. \"Por que isso acontece?\", você pode se perguntar. É porque os números, no computador, são representados de forma binária, mesmo os decimais. Assim, tudo que você vê é representado como a soma de divisões de 1 por potências de 2. \n",
    "\n",
    "Assim, 0.5, por exemplo, pode ser representado de forma exata com 1/2. Da mesma forma que 0.75 pode ser representado como 1/2 + 1/4, mas 0.3 jamais pode ser representado por uma soma finita de frações como essas. Assim, o computador faz a soma mais exata possível, e muitas vezes arredonda na representação, por isso é importante conhecer a limitação dos usos de _float_.\n",
    "\n",
    "___\n",
    "<h3><b> - Multiplicação (*):</b></h3>\n",
    "\n",
    "Esse operador simplesmente multiplica um valor por outro se ambos forem numéricos, se comporta como uma sucessão de adições. Mas e se você multiplicar uma string por um número inteiro? Vamos ver o que acontece.\n",
    "\n",
    "___"
   ]
  },
  {
   "cell_type": "code",
   "execution_count": 33,
   "metadata": {},
   "outputs": [
    {
     "data": {
      "text/plain": [
       "'iiiiiiiiii'"
      ]
     },
     "execution_count": 33,
     "metadata": {},
     "output_type": "execute_result"
    }
   ],
   "source": [
    "\"i\" * 10"
   ]
  },
  {
   "cell_type": "code",
   "execution_count": 34,
   "metadata": {},
   "outputs": [
    {
     "data": {
      "text/plain": [
       "str"
      ]
     },
     "execution_count": 34,
     "metadata": {},
     "output_type": "execute_result"
    }
   ],
   "source": [
    "type(\"i\" * 10)"
   ]
  },
  {
   "cell_type": "markdown",
   "metadata": {},
   "source": [
    "___\n",
    "Se você multiplica uma string por um inteiro x, essa string simplesmente é concatenada a si mesma x vezes. O mesmo não funcionaria com um float, até porque não faz sentido ter 2 e meio da letra \"i\".\n",
    "___"
   ]
  },
  {
   "cell_type": "markdown",
   "metadata": {},
   "source": [
    "<h3><b> - Divisão (/):</b></h3>\n",
    "\n",
    "Da mesma forma que a multiplicação, a divisão funciona como a da matemática. Você divide um número por outro. <i>Lembrando que, assim como na matemática, divisão por zero não é algo que faz sentido aqui, o python retornaria um erro caso você tentasse.</i>  Mas tenha atenção, pois, nesse operador, <b>o tipo do resultado é um float mesmo se o divisor e dividendo forem ints</b>:"
   ]
  },
  {
   "cell_type": "markdown",
   "metadata": {},
   "source": [
    "___"
   ]
  },
  {
   "cell_type": "code",
   "execution_count": 35,
   "metadata": {},
   "outputs": [
    {
     "data": {
      "text/plain": [
       "1.5"
      ]
     },
     "execution_count": 35,
     "metadata": {},
     "output_type": "execute_result"
    }
   ],
   "source": [
    "3 / 2"
   ]
  },
  {
   "cell_type": "code",
   "execution_count": 36,
   "metadata": {},
   "outputs": [
    {
     "data": {
      "text/plain": [
       "float"
      ]
     },
     "execution_count": 36,
     "metadata": {},
     "output_type": "execute_result"
    }
   ],
   "source": [
    "type(3/2)"
   ]
  },
  {
   "cell_type": "markdown",
   "metadata": {},
   "source": [
    "___"
   ]
  },
  {
   "cell_type": "code",
   "execution_count": 37,
   "metadata": {},
   "outputs": [
    {
     "data": {
      "text/plain": [
       "2.0"
      ]
     },
     "execution_count": 37,
     "metadata": {},
     "output_type": "execute_result"
    }
   ],
   "source": [
    "4 / 2"
   ]
  },
  {
   "cell_type": "code",
   "execution_count": 38,
   "metadata": {},
   "outputs": [
    {
     "data": {
      "text/plain": [
       "float"
      ]
     },
     "execution_count": 38,
     "metadata": {},
     "output_type": "execute_result"
    }
   ],
   "source": [
    "type(4 / 2)"
   ]
  },
  {
   "cell_type": "markdown",
   "metadata": {},
   "source": [
    "___"
   ]
  },
  {
   "cell_type": "markdown",
   "metadata": {},
   "source": [
    "<h3><b> - Divisão Inteira (//):</b></h3>"
   ]
  },
  {
   "cell_type": "markdown",
   "metadata": {},
   "source": [
    "Você pode ler a divisão inteira de a por b (ou a // b) como \"quantos do a cabem dentro de um b somados?\". <i>Lembrando que, assim como na matemática, divisão por zero não é algo que faz sentido aqui, o python retornaria um erro caso você tentasse.</i> \n",
    "\n",
    "A divisão inteira, diferentemente da divisão normal, vai sempre retornar <b>somente a parte inteira da divisão</b>, caso o divisor e dividendo sejam ints, *truncando* a parte decimal. Caso pelo menos um dos dois seja um float, ela vai retornar um float, mas a parte decimal desse float será 0. "
   ]
  },
  {
   "cell_type": "markdown",
   "metadata": {},
   "source": [
    "___"
   ]
  },
  {
   "cell_type": "code",
   "execution_count": 39,
   "metadata": {},
   "outputs": [
    {
     "data": {
      "text/plain": [
       "1"
      ]
     },
     "execution_count": 39,
     "metadata": {},
     "output_type": "execute_result"
    }
   ],
   "source": [
    "3 // 2 "
   ]
  },
  {
   "cell_type": "code",
   "execution_count": 40,
   "metadata": {},
   "outputs": [
    {
     "data": {
      "text/plain": [
       "int"
      ]
     },
     "execution_count": 40,
     "metadata": {},
     "output_type": "execute_result"
    }
   ],
   "source": [
    "type(3//2)"
   ]
  },
  {
   "cell_type": "markdown",
   "metadata": {},
   "source": [
    "___"
   ]
  },
  {
   "cell_type": "code",
   "execution_count": 41,
   "metadata": {},
   "outputs": [
    {
     "data": {
      "text/plain": [
       "1"
      ]
     },
     "execution_count": 41,
     "metadata": {},
     "output_type": "execute_result"
    }
   ],
   "source": [
    "2 // 2"
   ]
  },
  {
   "cell_type": "code",
   "execution_count": 42,
   "metadata": {},
   "outputs": [
    {
     "data": {
      "text/plain": [
       "int"
      ]
     },
     "execution_count": 42,
     "metadata": {},
     "output_type": "execute_result"
    }
   ],
   "source": [
    "type(2 // 2)"
   ]
  },
  {
   "cell_type": "markdown",
   "metadata": {},
   "source": [
    "___"
   ]
  },
  {
   "cell_type": "code",
   "execution_count": 43,
   "metadata": {},
   "outputs": [
    {
     "data": {
      "text/plain": [
       "1.0"
      ]
     },
     "execution_count": 43,
     "metadata": {},
     "output_type": "execute_result"
    }
   ],
   "source": [
    "3.2 // 2.2"
   ]
  },
  {
   "cell_type": "code",
   "execution_count": 44,
   "metadata": {},
   "outputs": [
    {
     "data": {
      "text/plain": [
       "float"
      ]
     },
     "execution_count": 44,
     "metadata": {},
     "output_type": "execute_result"
    }
   ],
   "source": [
    "type(3.2 // 2.2)"
   ]
  },
  {
   "cell_type": "markdown",
   "metadata": {},
   "source": [
    "___"
   ]
  },
  {
   "cell_type": "code",
   "execution_count": 45,
   "metadata": {},
   "outputs": [
    {
     "data": {
      "text/plain": [
       "0"
      ]
     },
     "execution_count": 45,
     "metadata": {},
     "output_type": "execute_result"
    }
   ],
   "source": [
    "2 // 3"
   ]
  },
  {
   "cell_type": "code",
   "execution_count": 46,
   "metadata": {},
   "outputs": [
    {
     "data": {
      "text/plain": [
       "int"
      ]
     },
     "execution_count": 46,
     "metadata": {},
     "output_type": "execute_result"
    }
   ],
   "source": [
    "type(2 // 3)"
   ]
  },
  {
   "cell_type": "markdown",
   "metadata": {},
   "source": [
    "___"
   ]
  },
  {
   "cell_type": "markdown",
   "metadata": {},
   "source": [
    "<h3><b> - Módulo (%):</b></h3>\n",
    "\n",
    "Não confunda esse módulo com \"valor absoluto\", na verdade essa operação vai te retornar o resto da divisão entre o  primeiro valor e o segundo. Como pode ver abaixo, a operação retorna um inteiro caso ambos os valores sejam inteiros, e retorna um float caso pelo menos um deles não seja. Aqui podemos ver, novamente, exemplos da limitação dos floats."
   ]
  },
  {
   "cell_type": "markdown",
   "metadata": {},
   "source": [
    "___"
   ]
  },
  {
   "cell_type": "code",
   "execution_count": 47,
   "metadata": {},
   "outputs": [
    {
     "data": {
      "text/plain": [
       "1"
      ]
     },
     "execution_count": 47,
     "metadata": {},
     "output_type": "execute_result"
    }
   ],
   "source": [
    "1 % 2"
   ]
  },
  {
   "cell_type": "code",
   "execution_count": 48,
   "metadata": {},
   "outputs": [
    {
     "data": {
      "text/plain": [
       "0"
      ]
     },
     "execution_count": 48,
     "metadata": {},
     "output_type": "execute_result"
    }
   ],
   "source": [
    "2 % 1"
   ]
  },
  {
   "cell_type": "code",
   "execution_count": 49,
   "metadata": {},
   "outputs": [
    {
     "data": {
      "text/plain": [
       "0.0"
      ]
     },
     "execution_count": 49,
     "metadata": {},
     "output_type": "execute_result"
    }
   ],
   "source": [
    "2.3 % 2.3"
   ]
  },
  {
   "cell_type": "code",
   "execution_count": 50,
   "metadata": {},
   "outputs": [
    {
     "data": {
      "text/plain": [
       "0.9999999999999998"
      ]
     },
     "execution_count": 50,
     "metadata": {},
     "output_type": "execute_result"
    }
   ],
   "source": [
    "2.3 % 1.3"
   ]
  },
  {
   "cell_type": "code",
   "execution_count": 51,
   "metadata": {},
   "outputs": [
    {
     "data": {
      "text/plain": [
       "0.30000000000000004"
      ]
     },
     "execution_count": 51,
     "metadata": {},
     "output_type": "execute_result"
    }
   ],
   "source": [
    "1.3 % 1"
   ]
  },
  {
   "cell_type": "code",
   "execution_count": 52,
   "metadata": {},
   "outputs": [
    {
     "data": {
      "text/plain": [
       "1.0"
      ]
     },
     "execution_count": 52,
     "metadata": {},
     "output_type": "execute_result"
    }
   ],
   "source": [
    "1 % 1.3"
   ]
  },
  {
   "cell_type": "markdown",
   "metadata": {},
   "source": [
    "___\n",
    "<h3><b> - Exponenciação (**):</b></h3>\n",
    "\n",
    "Essa é a operação de potência, x ** y representando x elevado a y. Caso y seja uma fração, assim como na matemática, nós temos uma raíz. Assim x ** 2 representa x², enquanto x ** (1/2) representa √(x). Lembrando que, novamente, a operação vai retornar um float se pelo menos um dos dois for float.\n",
    "___"
   ]
  },
  {
   "cell_type": "code",
   "execution_count": 53,
   "metadata": {},
   "outputs": [
    {
     "data": {
      "text/plain": [
       "4"
      ]
     },
     "execution_count": 53,
     "metadata": {},
     "output_type": "execute_result"
    }
   ],
   "source": [
    "2 ** 2"
   ]
  },
  {
   "cell_type": "code",
   "execution_count": 54,
   "metadata": {},
   "outputs": [
    {
     "data": {
      "text/plain": [
       "27"
      ]
     },
     "execution_count": 54,
     "metadata": {},
     "output_type": "execute_result"
    }
   ],
   "source": [
    "3 ** 3"
   ]
  },
  {
   "cell_type": "code",
   "execution_count": 55,
   "metadata": {},
   "outputs": [
    {
     "data": {
      "text/plain": [
       "2.0"
      ]
     },
     "execution_count": 55,
     "metadata": {},
     "output_type": "execute_result"
    }
   ],
   "source": [
    "8 ** (1/3)"
   ]
  },
  {
   "cell_type": "markdown",
   "metadata": {},
   "source": [
    "___\n",
    "Expoentes negativos também funcionam, e, assim como na matemática, 2 ** (-1) representa o mesmo que 1/(2 ** 1), \n",
    "\n",
    "2 ** (-2) representa o mesmo que 1/(2 ** 2).\n",
    "___"
   ]
  },
  {
   "cell_type": "code",
   "execution_count": 56,
   "metadata": {},
   "outputs": [
    {
     "data": {
      "text/plain": [
       "0.5"
      ]
     },
     "execution_count": 56,
     "metadata": {},
     "output_type": "execute_result"
    }
   ],
   "source": [
    "2 ** (-1)"
   ]
  },
  {
   "cell_type": "code",
   "execution_count": 57,
   "metadata": {},
   "outputs": [
    {
     "data": {
      "text/plain": [
       "0.5"
      ]
     },
     "execution_count": 57,
     "metadata": {},
     "output_type": "execute_result"
    }
   ],
   "source": [
    "1 / 2"
   ]
  },
  {
   "cell_type": "code",
   "execution_count": 58,
   "metadata": {},
   "outputs": [
    {
     "data": {
      "text/plain": [
       "0.25"
      ]
     },
     "execution_count": 58,
     "metadata": {},
     "output_type": "execute_result"
    }
   ],
   "source": [
    "2 ** (-2)"
   ]
  },
  {
   "cell_type": "code",
   "execution_count": 59,
   "metadata": {},
   "outputs": [
    {
     "data": {
      "text/plain": [
       "0.25"
      ]
     },
     "execution_count": 59,
     "metadata": {},
     "output_type": "execute_result"
    }
   ],
   "source": [
    "1 / (2 ** 2)"
   ]
  },
  {
   "cell_type": "code",
   "execution_count": 60,
   "metadata": {},
   "outputs": [
    {
     "data": {
      "text/plain": [
       "0.25"
      ]
     },
     "execution_count": 60,
     "metadata": {},
     "output_type": "execute_result"
    }
   ],
   "source": [
    "1 / 4"
   ]
  },
  {
   "cell_type": "markdown",
   "metadata": {},
   "source": [
    "___"
   ]
  },
  {
   "cell_type": "markdown",
   "metadata": {},
   "source": [
    "<b>Ufa</b>, acabamos os operadores básicos, agora vamos falar um pouquinho de como receber valores do usuário, é rapidinho!\n",
    "\n",
    "Para receber um valor, nós usamos a função <i>input( )</i>, ela vai aceitar que o usuário escreva algo no terminal (ou no jupyter notebook).\n",
    "___"
   ]
  },
  {
   "cell_type": "code",
   "execution_count": 61,
   "metadata": {},
   "outputs": [
    {
     "name": "stdout",
     "output_type": "stream",
     "text": [
      "Amo cachorros\n"
     ]
    },
    {
     "data": {
      "text/plain": [
       "'Amo cachorros'"
      ]
     },
     "execution_count": 61,
     "metadata": {},
     "output_type": "execute_result"
    }
   ],
   "source": [
    "input()"
   ]
  },
  {
   "cell_type": "markdown",
   "metadata": {},
   "source": [
    "___\n",
    "Mas parar nós armazenarmos esse valor, precisamos lembrar de atribuir o valor dessa função a alguma variável, para que possamos acessar depois.\n",
    "___"
   ]
  },
  {
   "cell_type": "code",
   "execution_count": 3,
   "metadata": {},
   "outputs": [
    {
     "name": "stdout",
     "output_type": "stream",
     "text": [
      "Amo cachorros\n"
     ]
    }
   ],
   "source": [
    "frase = input( )\n"
   ]
  },
  {
   "cell_type": "code",
   "execution_count": 4,
   "metadata": {},
   "outputs": [
    {
     "name": "stdout",
     "output_type": "stream",
     "text": [
      "Amo cachorros demais\n"
     ]
    }
   ],
   "source": [
    "print(frase + \" demais\")"
   ]
  },
  {
   "cell_type": "markdown",
   "metadata": {},
   "source": [
    "___\n",
    "Mas muitas vezes nós queremos mandar uma mensagem para o usuário, além de pedir algum valor dele. Você não precisa usar um print pra isso, a própria função input já tem um print nela mesma! É o que fica dentro desses parênteses, nós podemos pedir algum valor ao mesmo tempo que pedimos uma mensagem. \n",
    "\n",
    "input(\"O usuário pode ler isso\").\n",
    "___"
   ]
  },
  {
   "cell_type": "code",
   "execution_count": 2,
   "metadata": {},
   "outputs": [
    {
     "name": "stdout",
     "output_type": "stream",
     "text": [
      "Diga algo que você ama: Amo cachorros\n"
     ]
    }
   ],
   "source": [
    "frase = input(\"Diga algo que você ama: \")"
   ]
  },
  {
   "cell_type": "code",
   "execution_count": 71,
   "metadata": {},
   "outputs": [
    {
     "name": "stdout",
     "output_type": "stream",
     "text": [
      "Amo cachorros demais\n"
     ]
    }
   ],
   "source": [
    "print(frase, \"demais\")"
   ]
  },
  {
   "cell_type": "markdown",
   "metadata": {},
   "source": [
    "___\n",
    "<b>Atenção: O valor que vem da função input( ) é sempre uma string!</b> Caso você queira um número (inteiro ou float) do usuário, tem que converter esse valor. Pra isso, temos as funções int( ), que converte um valor pra um inteiro, e float( ), que converte um valor para float.\n",
    "___"
   ]
  },
  {
   "cell_type": "code",
   "execution_count": 74,
   "metadata": {},
   "outputs": [
    {
     "name": "stdout",
     "output_type": "stream",
     "text": [
      "Entre um número inteiro: 23\n",
      "<class 'str'>\n",
      "<class 'int'>\n"
     ]
    }
   ],
   "source": [
    "valor_string = input(\"Entre um número inteiro: \")\n",
    "print(type(valor_string))\n",
    "\n",
    "valor_inteiro = int(valor_string)\n",
    "print(type(valor_inteiro))"
   ]
  },
  {
   "cell_type": "markdown",
   "metadata": {},
   "source": [
    "___\n",
    "Assim podemos ver que, sem a conversão, o programa teria um comportamento totalmente diferente do esperado para valores numéricos. <b>Tome cuidado com isso!</b>\n",
    "\n",
    "Para facilitar, você pode ainda já converter direto na função input, da seguinte forma:"
   ]
  },
  {
   "cell_type": "code",
   "execution_count": 75,
   "metadata": {},
   "outputs": [
    {
     "name": "stdout",
     "output_type": "stream",
     "text": [
      "Entre um número inteiro: 23\n",
      "<class 'int'>\n"
     ]
    }
   ],
   "source": [
    "valor = int(input(\"Entre um número inteiro: \"))\n",
    "\n",
    "print(type(valor))"
   ]
  },
  {
   "cell_type": "markdown",
   "metadata": {},
   "source": [
    "___\n",
    "Viu? Foi rapidinho! Agora vamos partir pros exercícios.\n",
    "___"
   ]
  },
  {
   "cell_type": "markdown",
   "metadata": {},
   "source": [
    "<h3><b>Exercícios:</b></h3>"
   ]
  },
  {
   "cell_type": "markdown",
   "metadata": {},
   "source": [
    "<b><i>Exercício 3.1:</i></b> faça um programa que peça, do usuário, três números, então printe:\n",
    "\n",
    "a) A soma dos dois números\n",
    "\n",
    "b) A subtração desses dois números\n",
    "\n",
    "c) O produto desses dois números\n",
    "\n"
   ]
  },
  {
   "cell_type": "markdown",
   "metadata": {},
   "source": [
    "<b><i>Exercício 3.2:</i></b> faça um programa que peça, do usuário, dois números, então printe: \n",
    "\n",
    "a) \"A divisão entre o número x e o número y é x / y\", \n",
    "\n",
    "exemplo: \n",
    "\n",
    "input 6, 3 retornaria \"A divisão entre o número 6 e o número 3 é 2.0\"\n",
    "\n",
    "b) A divisão inteira e o resto"
   ]
  },
  {
   "cell_type": "markdown",
   "metadata": {},
   "source": [
    "<b><i>Exercício 3.3:</i></b> atribua o valor \"cães são\" a uma variável, e o valor \"muito legais \" a outra. Atribua a, uma outra variável, a soma dessas duas, depois printe na tela o resultado."
   ]
  },
  {
   "cell_type": "markdown",
   "metadata": {},
   "source": [
    "<b><i>Exercício 4.4:</i></b> agora printe o resultado do exercício passado 50 vezes na tela."
   ]
  }
 ],
 "metadata": {
  "kernelspec": {
   "display_name": "Python 3",
   "language": "python",
   "name": "python3"
  },
  "language_info": {
   "codemirror_mode": {
    "name": "ipython",
    "version": 3
   },
   "file_extension": ".py",
   "mimetype": "text/x-python",
   "name": "python",
   "nbconvert_exporter": "python",
   "pygments_lexer": "ipython3",
   "version": "3.7.1"
  }
 },
 "nbformat": 4,
 "nbformat_minor": 2
}
