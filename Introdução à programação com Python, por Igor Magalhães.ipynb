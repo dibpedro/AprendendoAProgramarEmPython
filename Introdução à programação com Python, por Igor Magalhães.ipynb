{
 "cells": [
  {
   "attachments": {
    "asciidog.png": {
     "image/png": "[encoded data removed]"
    }
   },
   "cell_type": "markdown",
   "metadata": {},
   "source": [
    "\n",
    "\n",
    "\n",
    "\n",
    "<h1><center>\n",
    "Introdução à programação com Python\n",
    "</center></h1>\n",
    "<h3><center>\n",
    "por Igor Magalhães, Giovani Louzada\n",
    "</center></h3>\n",
    "\n",
    "![asciidog.png](attachment:asciidog.png)\n",
    "___"
   ]
  },
  {
   "cell_type": "markdown",
   "metadata": {},
   "source": [
    "Olá, vamos falar um pouquinho sobre programação com *python*. O objetivo desse material de capacitação é ensinar os conceitos principais de programação e computação, para que aquele que usa ele possa, assim, sair do nível básico e fazer projetos mais avançados com facilidade. \n",
    "\n",
    "Nós vamos usar python, mas <b>esse não é um curso de python!</b> O foco desse curso está em ensinar o básico de pensamento computacional, além de como desenvolver *algoritmos* (simplesmente um nome bonito para uma sequência de passos a ser seguida) para problemas que possam surgir.\n",
    "\n",
    "A escolha do python como a linguagem central desse curso é que ele tem uma sintaxe bem simples de entender, bem próxima ao *pseudocódigo* (descrição do algoritmo de uma forma estruturada, mas em linguagem natural), sendo fácil de aprender, mas também é uma linguagem muito poderosa, que pode ser usada para diversas aplicações.\n",
    "\n",
    "Antes de prosseguir, vou usar aqui o Jupyter com Anaconda, um ambiente que considero simples e bem intuitivo para se programar, um ambiente que recomendo. A versão do python aqui usada vai ser o python 3, que não é compatível com python 2.\n",
    "\n",
    "Baixe o anaconda para Windows, Mac ou Linux aqui: www.anaconda.com/distribution/\n",
    "\n",
    "Vamos começar? (:"
   ]
  },
  {
   "cell_type": "markdown",
   "metadata": {},
   "source": [
    "___"
   ]
  },
  {
   "cell_type": "markdown",
   "metadata": {},
   "source": [
    "<h1><b>1. Olá, Mundo</b></h1>"
   ]
  },
  {
   "cell_type": "markdown",
   "metadata": {},
   "source": [
    "___"
   ]
  },
  {
   "cell_type": "code",
   "execution_count": 3,
   "metadata": {},
   "outputs": [
    {
     "name": "stdout",
     "output_type": "stream",
     "text": [
      "Hello, World!\n"
     ]
    }
   ],
   "source": [
    "print(\"Hello, World!\")"
   ]
  },
  {
   "cell_type": "markdown",
   "metadata": {},
   "source": [
    "___\n",
    "E assim começamos nossa jornada. A lenda diz que você só aprende a programar em uma certa linguagem se o seu primeiro programa com ela for um Hello, World! A verdade é que esse talvez seja o programa mais básico na maior parte das linguagens de programação, e nós vamos quebrar ele agora mesmo!\n",
    "\n",
    "O print( ) que você vê é o que nós chamamos de uma *função*, que é basicamente a mesma coisa que nós vemos na matemática, é como se fosse uma máquina que recebe alguma coisa (vamos chamar essa coisa que a função recebe de *input*), e retorna outra coisa (chamaremos essa outra coisa de *output*). No caso do python, as funções sempre vão ser algo parecido com isto:\n",
    "\n",
    "nome_da_função(argumento)\n",
    "\n",
    "tendo o nome da função, seguido por um *argumento* (o input da função) entre parênteses.\n",
    "\n",
    "No caso de print( ), o nome da função é justamente print, e o argumento, nesse caso, é \"Hello, World!\", e percebemos que o output da função é mostrar (ou imprimir) na tela o que está entre as aspas!\n",
    "\n",
    "Você não precisa procurar na internet sempre que quiser saber mais sobre o que uma função faz, você pode usar outra função pra isso! A função help( ) tem como argumento o nome de outra função do python, e ela retorna uma ajuda sobre \n",
    "o que essa outra função faz. \n",
    "\n",
    "Vamos ver um exemplo desse uso:\n",
    "___"
   ]
  },
  {
   "cell_type": "code",
   "execution_count": 2,
   "metadata": {},
   "outputs": [
    {
     "name": "stdout",
     "output_type": "stream",
     "text": [
      "Help on built-in function print in module builtins:\n",
      "\n",
      "print(...)\n",
      "    print(value, ..., sep=' ', end='\\n', file=sys.stdout, flush=False)\n",
      "    \n",
      "    Prints the values to a stream, or to sys.stdout by default.\n",
      "    Optional keyword arguments:\n",
      "    file:  a file-like object (stream); defaults to the current sys.stdout.\n",
      "    sep:   string inserted between values, default a space.\n",
      "    end:   string appended after the last value, default a newline.\n",
      "    flush: whether to forcibly flush the stream.\n",
      "\n"
     ]
    }
   ],
   "source": [
    "help(print)"
   ]
  },
  {
   "cell_type": "markdown",
   "metadata": {},
   "source": [
    "___\n",
    "Aqui nós temos help(print), para vermos um pouquinho sobre o que a função print faz. A primeira coisa que vemos é a lista de argumentos da função print. \"Ué, mas você tinha mostrado print somente com um argumento anteriormente\" você pode pensar, mas é que alguns argumentos das funções em python (e na maior parte das linguagens de programação) são opcionais. Se você não atribuir valor algum a elas, o próprio python vai atribuir um valor padrão.\n",
    "\n",
    "Isso é algo que nos economiza muito tempo, já que não teremos que ficar sempre preenchendo todos os argumentos de uma função, só aqueles que realmente nos interessam.\n",
    "\n",
    "Em print, por exemplo, temos:\n",
    "print(value), que é a que nós já usamos, com esse value sendo \"Hello, World!\", mas também podemos definir o que a função vai imprimir no fim dela, com o argumento *end*.\n",
    "\n",
    "A função help nos diz o que é o end, \"end: string appended after the last value, default a newline.\", que talvez possa parecer um pouco críptico por enquanto, então vamos explorar pra descobrir.\n",
    "\n",
    "Vamos mudar o padrão desse argumento e ver o que acontece:\n",
    "___"
   ]
  },
  {
   "cell_type": "code",
   "execution_count": 3,
   "metadata": {},
   "outputs": [
    {
     "name": "stdout",
     "output_type": "stream",
     "text": [
      "Hello, World!---"
     ]
    }
   ],
   "source": [
    "print(\"Hello, World!\", end='---')"
   ]
  },
  {
   "cell_type": "markdown",
   "metadata": {},
   "source": [
    "___\n",
    "O que esse argumento faz é definir o que vai ser imprimido no fim da função, ou seja, após o argumento value ser imprimido. Por padrão, temos end='\\n', mas talvez você se pergunte \"eu não estou vendo \\n ser imprimido depois do value\". A verdade é que você está sim vendo isso, vamos ver como a função se comporta sem esse argumento:\n",
    "___"
   ]
  },
  {
   "cell_type": "code",
   "execution_count": 4,
   "metadata": {},
   "outputs": [
    {
     "name": "stdout",
     "output_type": "stream",
     "text": [
      "Olá\n",
      "Olá\n"
     ]
    }
   ],
   "source": [
    "print(\"Olá\")\n",
    "print(\"Olá\")"
   ]
  },
  {
   "cell_type": "markdown",
   "metadata": {},
   "source": [
    "___\n",
    "Agora vamos ver se mudarmos esse argumento, que por padrão é end='\\n'\n",
    "___"
   ]
  },
  {
   "cell_type": "code",
   "execution_count": 5,
   "metadata": {},
   "outputs": [
    {
     "name": "stdout",
     "output_type": "stream",
     "text": [
      "Olá Olá "
     ]
    }
   ],
   "source": [
    "print(\"Olá\", end=' ')\n",
    "print(\"Olá\", end=' ')"
   ]
  },
  {
   "cell_type": "markdown",
   "metadata": {},
   "source": [
    "___\n",
    "Assim fica mais fácil de perceber, mas o '\\n' na verdade significa basicamente \"pule linha\"! No fim de todo print no qual o argumento end não foi alterado, esse '\\n' está sempre implícito. Talvez você não veja ele, mas ele está atuando. Vamos testar esse '\\n' em outra parte da função.\n",
    "___"
   ]
  },
  {
   "cell_type": "code",
   "execution_count": 6,
   "metadata": {},
   "outputs": [
    {
     "name": "stdout",
     "output_type": "stream",
     "text": [
      "O\n",
      "lá\n"
     ]
    }
   ],
   "source": [
    "print(\"O\\nlá\")"
   ]
  },
  {
   "cell_type": "markdown",
   "metadata": {},
   "source": [
    "___\n",
    "Pelo visto sempre que ele estiver entre aspas (eu não falei ainda, mas, em python, tanto 'olá' quanto \"olá\" são equivalentes, você pode usar o que escolher, contanto que não use 'olá\". Sempre que começar com um você deve terminar com esse mesmo) esse \\n vai pular uma linha, mesmo que esteja no meio de uma frase!\n",
    "\n",
    "Você também pode, com o print, imprimir mais de um valor na tela. Usando da seguinte forma: print(value1, value2), dessa forma a função vai imprimir os dois valores separados por um espaço. Exemplo:\n",
    "___"
   ]
  },
  {
   "cell_type": "code",
   "execution_count": 7,
   "metadata": {},
   "outputs": [
    {
     "name": "stdout",
     "output_type": "stream",
     "text": [
      "Cachorros são legais\n"
     ]
    }
   ],
   "source": [
    "print(\"Cachorros\", \"são legais\")"
   ]
  },
  {
   "cell_type": "markdown",
   "metadata": {},
   "source": [
    "<h3><b>Exercícios:</b></h3>"
   ]
  },
  {
   "cell_type": "markdown",
   "metadata": {},
   "source": [
    "<b><i>Exercício 1.1:</i></b> Faça um programa que imprima na tela a seguinte mensagem:\n",
    "Programar é mais fácil que eu pensava!"
   ]
  },
  {
   "cell_type": "markdown",
   "metadata": {},
   "source": [
    "<b><i>Exercício 1.2:</i></b> Faça um programa que imprima na tela a seguinte pirâmide:"
   ]
  },
  {
   "cell_type": "code",
   "execution_count": 8,
   "metadata": {},
   "outputs": [],
   "source": [
    "    #\n",
    "   ##\n",
    "  ###\n",
    " ####\n",
    "#####"
   ]
  },
  {
   "cell_type": "markdown",
   "metadata": {},
   "source": [
    "\n",
    "<i>Exercício 1.3:</i> Agora faça um programa que faça o mesmo do anterior, porém você só pode usar um print( )."
   ]
  },
  {
   "cell_type": "markdown",
   "metadata": {},
   "source": [
    "___"
   ]
  },
  {
   "cell_type": "markdown",
   "metadata": {},
   "source": [
    "<h1><b>2. Variáveis e Tipos</b></h1>"
   ]
  },
  {
   "cell_type": "markdown",
   "metadata": {},
   "source": [
    "___"
   ]
  },
  {
   "cell_type": "code",
   "execution_count": 4,
   "metadata": {},
   "outputs": [
    {
     "name": "stdout",
     "output_type": "stream",
     "text": [
      "2 11\n"
     ]
    }
   ],
   "source": [
    "a = 1 + 1\n",
    "b = \"1\" + \"1\"\n",
    "\n",
    "print(a, b)"
   ]
  },
  {
   "cell_type": "markdown",
   "metadata": {},
   "source": [
    "___\n",
    "E com isso começamos a segunda seção dessa jornada, nela vamos falar um pouquinho sobre abstração com o uso de <i>variáveis</i> (basicamente algo que segura um certo valor enquanto você queira), <i>tipos de dados</i> (como algum dado vai se comportar) e os <i>operadores</i> (formas de transformar seus dados que se comportam como funções, mas têm uma notação diferente) em python (que também existem em outras linguagens de programação, mas possivelmente com uma notação um pouquinho diferente).\n",
    "\n",
    "<h2><b>Tipos</b></h2>\n",
    "Os dados que você usa em python têm seus respectivos tipos, e isso vai definir como esses dados se comportam na medida que você usa eles para certas coisas. Caso você queira descobrir o tipo de algum dos seus dados, você pode, em python, simplesmente usar a função type(dado). Vamos ver um exemplo prático:"
   ]
  },
  {
   "cell_type": "markdown",
   "metadata": {},
   "source": [
    "___"
   ]
  },
  {
   "cell_type": "code",
   "execution_count": 10,
   "metadata": {},
   "outputs": [
    {
     "data": {
      "text/plain": [
       "int"
      ]
     },
     "execution_count": 10,
     "metadata": {},
     "output_type": "execute_result"
    }
   ],
   "source": [
    "type(5)"
   ]
  },
  {
   "cell_type": "code",
   "execution_count": 11,
   "metadata": {},
   "outputs": [
    {
     "data": {
      "text/plain": [
       "str"
      ]
     },
     "execution_count": 11,
     "metadata": {},
     "output_type": "execute_result"
    }
   ],
   "source": [
    "type(\"5\")"
   ]
  },
  {
   "cell_type": "markdown",
   "metadata": {},
   "source": [
    "___\n",
    "Aparentemente o tipo de 5 é int, enquanto o tipo de \"5\" é str. Mas o que esses tipos significam? Logo vou te explicar, antes se atente ao Out nas células. \n",
    "\n",
    "Quando você executar algo em u /ma célula e ele mostrar esse Out, isso <b>não está sendo mostrado para o usuário</b>, é simplesmente uma forma de você ver o resultado de algo que você fez nessa célula. É uma coisa mostrada exclusivamente pro computador e pro programador, digamos assim. Você precisa usar a função print( ) sempre que de fato quiser mostrar algo para o usuário, não esqueça.\n",
    "\n",
    "Mas agora voltando para os tipos em python, nós temos os seguintes tipos como os principais em python:\n",
    "\n",
    "<h3><b> - Inteiros (ou int):</b></h3>\n",
    "São os conhecidos números inteiros, como 1, 2, 3 ou mesmo 0, -1, -2, números sem parte decimal."
   ]
  },
  {
   "cell_type": "markdown",
   "metadata": {},
   "source": [
    "___"
   ]
  },
  {
   "cell_type": "code",
   "execution_count": 12,
   "metadata": {},
   "outputs": [
    {
     "name": "stdout",
     "output_type": "stream",
     "text": [
      "3\n",
      "-1\n"
     ]
    }
   ],
   "source": [
    "print(1 + 2)\n",
    "print(-2 + 1 + 0)"
   ]
  },
  {
   "cell_type": "markdown",
   "metadata": {},
   "source": [
    "___\n",
    "<h3><b> - Números de Ponto Flutuante (ou float):</b></h3>\n",
    "São os números que têm uma parte decimal, como 1.3, 2.4, -1.3, 0.5, números com uma parte decimal no geral. \n",
    "\n",
    "<i>Atenção1: <b>o número 1.0 é um float, enquanto o número 1 é um int.</b></i> Cuidado com isso, mesmo que a parte decimal seja um 0, o número será considerado um float.\n",
    "\n",
    "<i>Atenção2: <b>os floats não são sempre exatamente iguais aos decimais que eles representam</b></i>, isso se deve à forma que os números decimais são representados da forma binária, mas volto nisso depois.\n",
    "___"
   ]
  },
  {
   "cell_type": "code",
   "execution_count": 13,
   "metadata": {},
   "outputs": [
    {
     "name": "stdout",
     "output_type": "stream",
     "text": [
      "4.6\n",
      "-1.0\n"
     ]
    }
   ],
   "source": [
    "print(1.2 + 3.4)\n",
    "print(-1.5 + 0.5)"
   ]
  },
  {
   "cell_type": "markdown",
   "metadata": {},
   "source": [
    "___\n",
    "<h3><b> - Strings (ou str)</b></h3>\n",
    "Strings são basicamente uma sequência de caracteres, e pode ser representada em python por qualquer coisa entre aspas. Assim, \"Cachorros são demais!\" é uma string, com 21 caracteres (os espaços contam como caracteres), da mesma forma que \"123\" é uma string com 3 caracteres, e não um inteiro (ou mesmo um número)."
   ]
  },
  {
   "cell_type": "markdown",
   "metadata": {},
   "source": [
    "___"
   ]
  },
  {
   "cell_type": "code",
   "execution_count": 14,
   "metadata": {},
   "outputs": [
    {
     "name": "stdout",
     "output_type": "stream",
     "text": [
      "123123\n",
      "abc123\n"
     ]
    }
   ],
   "source": [
    "print(\"123\" + \"123\")\n",
    "print(\"abc\" + \"123\")"
   ]
  },
  {
   "cell_type": "markdown",
   "metadata": {},
   "source": [
    "___\n",
    "<h3><b> - Booleanos (ou bool)</b></h3>\n",
    "São tipos de dados que podem assumir dois valores apenas, verdadeiro (True) ou falso (False). Serão muito úteis quando formos estudar *condicionais*, mas mais sobre isso depois."
   ]
  },
  {
   "cell_type": "markdown",
   "metadata": {},
   "source": [
    "___"
   ]
  },
  {
   "cell_type": "code",
   "execution_count": 15,
   "metadata": {},
   "outputs": [
    {
     "name": "stdout",
     "output_type": "stream",
     "text": [
      "1\n"
     ]
    }
   ],
   "source": [
    "print(True + False)"
   ]
  },
  {
   "cell_type": "code",
   "execution_count": 16,
   "metadata": {},
   "outputs": [
    {
     "name": "stdout",
     "output_type": "stream",
     "text": [
      "2\n"
     ]
    }
   ],
   "source": [
    "print(True + True)"
   ]
  },
  {
   "cell_type": "code",
   "execution_count": 17,
   "metadata": {},
   "outputs": [
    {
     "name": "stdout",
     "output_type": "stream",
     "text": [
      "0\n"
     ]
    }
   ],
   "source": [
    "print(False + False)"
   ]
  },
  {
   "cell_type": "markdown",
   "metadata": {},
   "source": [
    "___\n",
    "Como é possível de se ver, os booleanos são intercambiáveis com dois valores inteiros, 1 ou 0. True pode ser representado por 1, False pode ser representado por 0. Embora ali em cima tenhamos somado True com False, o tipo do resultado é, na verdade, um int.\n",
    "___"
   ]
  },
  {
   "cell_type": "code",
   "execution_count": 18,
   "metadata": {},
   "outputs": [
    {
     "data": {
      "text/plain": [
       "int"
      ]
     },
     "execution_count": 18,
     "metadata": {},
     "output_type": "execute_result"
    }
   ],
   "source": [
    "type(False + True)"
   ]
  },
  {
   "cell_type": "markdown",
   "metadata": {},
   "source": [
    " ___\n",
    "<h2><b>Variáveis</b></h2>\n",
    "\n",
    "E assim acabamos os mais básicos tipos de dados, fácil né? Posteriormente estudaremos tipos mais complexos, formados por esses tipos básicos, mas por enquanto vamos nos atentar a esses.\n",
    "\n",
    "Antes de apresentar os operadores, vamos falar sobre <b>variáveis</b>, uma forma de tornar mais abstratos os dados com os quais nós vamos trabalhar. As variáveis em python (e na programação no geral) são quase o mesmo que elas representam na matemática. Nós podemos atribuir valores a essas variáveis e usar como se elas fossem esses valores.\n",
    "\n",
    "a notação para atribuir algum valor a uma variável é:\n",
    "\n",
    "<b>var1 = valor1</b>\n",
    "\n",
    "e lê-se: a variável var1 <b>recebe</b> valor1. Lembrando que esse símbolo, =, <b>não significa \"é igual a\", e sim \"recebe\".</b>\n",
    "\n",
    "Um exemplo prático:\n",
    "___"
   ]
  },
  {
   "cell_type": "code",
   "execution_count": 19,
   "metadata": {},
   "outputs": [
    {
     "name": "stdout",
     "output_type": "stream",
     "text": [
      "(5 + 10) é igual a 15\n",
      "(var1 + var2) é igual a 15\n",
      "(var1 + 10) é igual a 15\n"
     ]
    }
   ],
   "source": [
    "var1 = 5\n",
    "var2 = 10\n",
    "\n",
    "print(\"(5 + 10) é igual a\", 5 + 10)\n",
    "print(\"(var1 + var2) é igual a\", 5 + 10)\n",
    "print(\"(var1 + 10) é igual a\", var1 + 10)"
   ]
  },
  {
   "cell_type": "markdown",
   "metadata": {},
   "source": [
    "___\n",
    "Nós usaremos variáveis naturalmente daqui pra frente, já que elas são a melhor opção pra maior parte das coisas que faremos. Na maior parte do tempo, você não quer ter simplesmente um print(5), você quer ter um print(var), e essa var pode ser 5, mas também pode ser outra coisa. Um exemplo:\n",
    "___"
   ]
  },
  {
   "cell_type": "code",
   "execution_count": 20,
   "metadata": {},
   "outputs": [
    {
     "name": "stdout",
     "output_type": "stream",
     "text": [
      "5\n",
      "3\n"
     ]
    }
   ],
   "source": [
    "var = 5\n",
    "print(var)\n",
    "\n",
    "var = 3\n",
    "print(var)"
   ]
  },
  {
   "cell_type": "markdown",
   "metadata": {},
   "source": [
    "___\n",
    "<h3><b>Exercícios:</b></h3>"
   ]
  },
  {
   "cell_type": "markdown",
   "metadata": {},
   "source": [
    "<b><i>Exercício 2.1</i></b>: o que a expressão <b>\"2\" + \"3\"</b> retorna?"
   ]
  },
  {
   "cell_type": "markdown",
   "metadata": {},
   "source": [
    "<b><i>Exercício 2.2</i></b>: o que a expressão <b>2 + 3</b> retorna?"
   ]
  },
  {
   "cell_type": "markdown",
   "metadata": {},
   "source": [
    "<b><i>Exercício 2.3</i></b>: o que a expressão <b>\"2\" + 3</b> retorna?"
   ]
  },
  {
   "cell_type": "markdown",
   "metadata": {},
   "source": [
    "<b><i>Exercício 2.4</i></b>: qual é a diferença entre <b>1, \"1\" e 1.0</b>?"
   ]
  },
  {
   "cell_type": "markdown",
   "metadata": {},
   "source": [
    "<b><i>Exercício 2.5</i></b>: assuma uma variável <b>valor = 3</b>, o que é <b>valor + 8</b>?"
   ]
  },
  {
   "cell_type": "markdown",
   "metadata": {},
   "source": [
    "<b><i>Exercício 2.6</i></b>: assuma uma variável <b>valor = \"3\"</b>, se fizermos a expressão <b>valor = valor + \"8\"</b>, o que print(valor) retornará?"
   ]
  },
  {
   "cell_type": "markdown",
   "metadata": {},
   "source": [
    "___\n",
    "<h1><b>3. Operadores e Input do Usuário</b></h1>"
   ]
  },
  {
   "cell_type": "markdown",
   "metadata": {},
   "source": [
    "___"
   ]
  },
  {
   "cell_type": "markdown",
   "metadata": {},
   "source": [
    "Como já disse antes, operadores são basicamente algo que transforma seus dados, e eles se comportam como funções, mas têm uma notação um pouco diferente. Não sei se você percebeu, mas até agora nós já usamos operadores várias vezes, como por exemplo o + e o =.\n",
    "\n",
    "<h3><b> - Adição (+):</b></h3>\n",
    "\n",
    "Esse operador simplesmente adiciona duas variáveis se essas forem de tipo numérico (int ou float), retornando a soma dessas. (retorna int se você somar int com int, e float caso some algo com um float.)"
   ]
  },
  {
   "cell_type": "markdown",
   "metadata": {},
   "source": [
    "___"
   ]
  },
  {
   "cell_type": "code",
   "execution_count": 21,
   "metadata": {},
   "outputs": [
    {
     "data": {
      "text/plain": [
       "3"
      ]
     },
     "execution_count": 21,
     "metadata": {},
     "output_type": "execute_result"
    }
   ],
   "source": [
    "1 + 2"
   ]
  },
  {
   "cell_type": "code",
   "execution_count": 22,
   "metadata": {},
   "outputs": [
    {
     "data": {
      "text/plain": [
       "int"
      ]
     },
     "execution_count": 22,
     "metadata": {},
     "output_type": "execute_result"
    }
   ],
   "source": [
    "type(1 + 2)"
   ]
  },
  {
   "cell_type": "markdown",
   "metadata": {},
   "source": [
    "___"
   ]
  },
  {
   "cell_type": "code",
   "execution_count": 23,
   "metadata": {},
   "outputs": [
    {
     "data": {
      "text/plain": [
       "3.5"
      ]
     },
     "execution_count": 23,
     "metadata": {},
     "output_type": "execute_result"
    }
   ],
   "source": [
    "1 + 2.5"
   ]
  },
  {
   "cell_type": "code",
   "execution_count": 24,
   "metadata": {},
   "outputs": [
    {
     "data": {
      "text/plain": [
       "float"
      ]
     },
     "execution_count": 24,
     "metadata": {},
     "output_type": "execute_result"
    }
   ],
   "source": [
    "type(1 + 2.5)"
   ]
  },
  {
   "cell_type": "markdown",
   "metadata": {},
   "source": [
    "___"
   ]
  },
  {
   "cell_type": "code",
   "execution_count": 25,
   "metadata": {},
   "outputs": [
    {
     "data": {
      "text/plain": [
       "4.0"
      ]
     },
     "execution_count": 25,
     "metadata": {},
     "output_type": "execute_result"
    }
   ],
   "source": [
    "1.5 + 2.5"
   ]
  },
  {
   "cell_type": "code",
   "execution_count": 26,
   "metadata": {},
   "outputs": [
    {
     "data": {
      "text/plain": [
       "float"
      ]
     },
     "execution_count": 26,
     "metadata": {},
     "output_type": "execute_result"
    }
   ],
   "source": [
    "type(1.5 + 2.5)"
   ]
  },
  {
   "cell_type": "markdown",
   "metadata": {},
   "source": [
    "___\n",
    "Mas esse operador também funciona no caso de <b><i>string + string</i></b>, você lembra o que acontece quando fazemos isso? Vamos ver:\n",
    "___"
   ]
  },
  {
   "cell_type": "code",
   "execution_count": 27,
   "metadata": {},
   "outputs": [
    {
     "data": {
      "text/plain": [
       "'12'"
      ]
     },
     "execution_count": 27,
     "metadata": {},
     "output_type": "execute_result"
    }
   ],
   "source": [
    "\"1\" + \"2\""
   ]
  },
  {
   "cell_type": "code",
   "execution_count": 28,
   "metadata": {},
   "outputs": [
    {
     "data": {
      "text/plain": [
       "str"
      ]
     },
     "execution_count": 28,
     "metadata": {},
     "output_type": "execute_result"
    }
   ],
   "source": [
    "type(\"1\" + \"2\")"
   ]
  },
  {
   "cell_type": "markdown",
   "metadata": {},
   "source": [
    "___\n",
    "O que ele faz, de juntar o começo da segunda string no fim da primeira em uma string maior, nós chamamos de <b>concatenar</b>. E isso é algo que faremos muito posteriormente. Algo interessante de se lembrar, operadores têm comportamentos de transformar dados diferentes de acordo com o tipo desses dados.\n",
    "\n",
    "___\n",
    "<h3><b> - Subtração (-):</b></h3>\n",
    "\n",
    "Esse operador subtrai o segundo valor do primeiro. Só funciona se ambos forem numéricos, e vai retornar um int somente se os dois valores forem ints."
   ]
  },
  {
   "cell_type": "markdown",
   "metadata": {},
   "source": [
    "___"
   ]
  },
  {
   "cell_type": "code",
   "execution_count": 29,
   "metadata": {},
   "outputs": [
    {
     "data": {
      "text/plain": [
       "0"
      ]
     },
     "execution_count": 29,
     "metadata": {},
     "output_type": "execute_result"
    }
   ],
   "source": [
    "1 - 1"
   ]
  },
  {
   "cell_type": "code",
   "execution_count": 30,
   "metadata": {},
   "outputs": [
    {
     "data": {
      "text/plain": [
       "-1"
      ]
     },
     "execution_count": 30,
     "metadata": {},
     "output_type": "execute_result"
    }
   ],
   "source": [
    "2 - 3"
   ]
  },
  {
   "cell_type": "code",
   "execution_count": 31,
   "metadata": {},
   "outputs": [
    {
     "data": {
      "text/plain": [
       "0.9999999999999998"
      ]
     },
     "execution_count": 31,
     "metadata": {},
     "output_type": "execute_result"
    }
   ],
   "source": [
    "2.3 - 1.3"
   ]
  },
  {
   "cell_type": "code",
   "execution_count": 32,
   "metadata": {},
   "outputs": [
    {
     "data": {
      "text/plain": [
       "1.2999999999999998"
      ]
     },
     "execution_count": 32,
     "metadata": {},
     "output_type": "execute_result"
    }
   ],
   "source": [
    "2.3 - 1"
   ]
  },
  {
   "cell_type": "markdown",
   "metadata": {},
   "source": [
    "___\n",
    "Perceba que no caso de 2.3 - 1 nós não temos 1.3 como resposta, e sim 1.2999999999999998. \"Por que isso acontece?\", você pode se perguntar. É porque os números, no computador, são representados de forma binária, mesmo os decimais. Assim, tudo que você vê é representado como a soma de divisões de 1 por potências de 2. \n",
    "\n",
    "Assim, 0.5, por exemplo, pode ser representado de forma exata com 1/2. Da mesma forma que 0.75 pode ser representado como 1/2 + 1/4, mas 0.3 jamais pode ser representado por uma soma finita de frações como essas. Assim, o computador faz a soma mais exata possível, e muitas vezes arredonda na representação, por isso é importante conhecer a limitação dos usos de _float_.\n",
    "\n",
    "___\n",
    "<h3><b> - Multiplicação (*):</b></h3>\n",
    "\n",
    "Esse operador simplesmente multiplica um valor por outro se ambos forem numéricos, se comporta como uma sucessão de adições. Mas e se você multiplicar uma string por um número inteiro? Vamos ver o que acontece.\n",
    "\n",
    "___"
   ]
  },
  {
   "cell_type": "code",
   "execution_count": 33,
   "metadata": {},
   "outputs": [
    {
     "data": {
      "text/plain": [
       "'iiiiiiiiii'"
      ]
     },
     "execution_count": 33,
     "metadata": {},
     "output_type": "execute_result"
    }
   ],
   "source": [
    "\"i\" * 10"
   ]
  },
  {
   "cell_type": "code",
   "execution_count": 34,
   "metadata": {},
   "outputs": [
    {
     "data": {
      "text/plain": [
       "str"
      ]
     },
     "execution_count": 34,
     "metadata": {},
     "output_type": "execute_result"
    }
   ],
   "source": [
    "type(\"i\" * 10)"
   ]
  },
  {
   "cell_type": "markdown",
   "metadata": {},
   "source": [
    "___\n",
    "Se você multiplica uma string por um inteiro x, essa string simplesmente é concatenada a si mesma x vezes. O mesmo não funcionaria com um float, até porque não faz sentido ter 2 e meio da letra \"i\".\n",
    "___"
   ]
  },
  {
   "cell_type": "markdown",
   "metadata": {},
   "source": [
    "<h3><b> - Divisão (/):</b></h3>\n",
    "\n",
    "Da mesma forma que a multiplicação, a divisão funciona como a da matemática. Você divide um número por outro. <i>Lembrando que, assim como na matemática, divisão por zero não é algo que faz sentido aqui, o python retornaria um erro caso você tentasse.</i>  Mas tenha atenção, pois, nesse operador, <b>o tipo do resultado é um float mesmo se o divisor e dividendo forem ints</b>:"
   ]
  },
  {
   "cell_type": "markdown",
   "metadata": {},
   "source": [
    "___"
   ]
  },
  {
   "cell_type": "code",
   "execution_count": 35,
   "metadata": {},
   "outputs": [
    {
     "data": {
      "text/plain": [
       "1.5"
      ]
     },
     "execution_count": 35,
     "metadata": {},
     "output_type": "execute_result"
    }
   ],
   "source": [
    "3 / 2"
   ]
  },
  {
   "cell_type": "code",
   "execution_count": 36,
   "metadata": {},
   "outputs": [
    {
     "data": {
      "text/plain": [
       "float"
      ]
     },
     "execution_count": 36,
     "metadata": {},
     "output_type": "execute_result"
    }
   ],
   "source": [
    "type(3/2)"
   ]
  },
  {
   "cell_type": "markdown",
   "metadata": {},
   "source": [
    "___"
   ]
  },
  {
   "cell_type": "code",
   "execution_count": 37,
   "metadata": {},
   "outputs": [
    {
     "data": {
      "text/plain": [
       "2.0"
      ]
     },
     "execution_count": 37,
     "metadata": {},
     "output_type": "execute_result"
    }
   ],
   "source": [
    "4 / 2"
   ]
  },
  {
   "cell_type": "code",
   "execution_count": 38,
   "metadata": {},
   "outputs": [
    {
     "data": {
      "text/plain": [
       "float"
      ]
     },
     "execution_count": 38,
     "metadata": {},
     "output_type": "execute_result"
    }
   ],
   "source": [
    "type(4 / 2)"
   ]
  },
  {
   "cell_type": "markdown",
   "metadata": {},
   "source": [
    "___"
   ]
  },
  {
   "cell_type": "markdown",
   "metadata": {},
   "source": [
    "<h3><b> - Divisão Inteira (//):</b></h3>"
   ]
  },
  {
   "cell_type": "markdown",
   "metadata": {},
   "source": [
    "Você pode ler a divisão inteira de a por b (ou a // b) como \"quantos do a cabem dentro de um b somados?\". <i>Lembrando que, assim como na matemática, divisão por zero não é algo que faz sentido aqui, o python retornaria um erro caso você tentasse.</i> \n",
    "\n",
    "A divisão inteira, diferentemente da divisão normal, vai sempre retornar <b>somente a parte inteira da divisão</b>, caso o divisor e dividendo sejam ints, *truncando* a parte decimal. Caso pelo menos um dos dois seja um float, ela vai retornar um float, mas a parte decimal desse float será 0. "
   ]
  },
  {
   "cell_type": "markdown",
   "metadata": {},
   "source": [
    "___"
   ]
  },
  {
   "cell_type": "code",
   "execution_count": 39,
   "metadata": {},
   "outputs": [
    {
     "data": {
      "text/plain": [
       "1"
      ]
     },
     "execution_count": 39,
     "metadata": {},
     "output_type": "execute_result"
    }
   ],
   "source": [
    "3 // 2 "
   ]
  },
  {
   "cell_type": "code",
   "execution_count": 40,
   "metadata": {},
   "outputs": [
    {
     "data": {
      "text/plain": [
       "int"
      ]
     },
     "execution_count": 40,
     "metadata": {},
     "output_type": "execute_result"
    }
   ],
   "source": [
    "type(3//2)"
   ]
  },
  {
   "cell_type": "markdown",
   "metadata": {},
   "source": [
    "___"
   ]
  },
  {
   "cell_type": "code",
   "execution_count": 41,
   "metadata": {},
   "outputs": [
    {
     "data": {
      "text/plain": [
       "1"
      ]
     },
     "execution_count": 41,
     "metadata": {},
     "output_type": "execute_result"
    }
   ],
   "source": [
    "2 // 2"
   ]
  },
  {
   "cell_type": "code",
   "execution_count": 42,
   "metadata": {},
   "outputs": [
    {
     "data": {
      "text/plain": [
       "int"
      ]
     },
     "execution_count": 42,
     "metadata": {},
     "output_type": "execute_result"
    }
   ],
   "source": [
    "type(2 // 2)"
   ]
  },
  {
   "cell_type": "markdown",
   "metadata": {},
   "source": [
    "___"
   ]
  },
  {
   "cell_type": "code",
   "execution_count": 43,
   "metadata": {},
   "outputs": [
    {
     "data": {
      "text/plain": [
       "1.0"
      ]
     },
     "execution_count": 43,
     "metadata": {},
     "output_type": "execute_result"
    }
   ],
   "source": [
    "3.2 // 2.2"
   ]
  },
  {
   "cell_type": "code",
   "execution_count": 44,
   "metadata": {},
   "outputs": [
    {
     "data": {
      "text/plain": [
       "float"
      ]
     },
     "execution_count": 44,
     "metadata": {},
     "output_type": "execute_result"
    }
   ],
   "source": [
    "type(3.2 // 2.2)"
   ]
  },
  {
   "cell_type": "markdown",
   "metadata": {},
   "source": [
    "___"
   ]
  },
  {
   "cell_type": "code",
   "execution_count": 45,
   "metadata": {},
   "outputs": [
    {
     "data": {
      "text/plain": [
       "0"
      ]
     },
     "execution_count": 45,
     "metadata": {},
     "output_type": "execute_result"
    }
   ],
   "source": [
    "2 // 3"
   ]
  },
  {
   "cell_type": "code",
   "execution_count": 46,
   "metadata": {},
   "outputs": [
    {
     "data": {
      "text/plain": [
       "int"
      ]
     },
     "execution_count": 46,
     "metadata": {},
     "output_type": "execute_result"
    }
   ],
   "source": [
    "type(2 // 3)"
   ]
  },
  {
   "cell_type": "markdown",
   "metadata": {},
   "source": [
    "___"
   ]
  },
  {
   "cell_type": "markdown",
   "metadata": {},
   "source": [
    "<h3><b> - Módulo (%):</b></h3>\n",
    "\n",
    "Não confunda esse módulo com \"valor absoluto\", na verdade essa operação vai te retornar o resto da divisão entre o  primeiro valor e o segundo. Como pode ver abaixo, a operação retorna um inteiro caso ambos os valores sejam inteiros, e retorna um float caso pelo menos um deles não seja. Aqui podemos ver, novamente, exemplos da limitação dos floats."
   ]
  },
  {
   "cell_type": "markdown",
   "metadata": {},
   "source": [
    "___"
   ]
  },
  {
   "cell_type": "code",
   "execution_count": 47,
   "metadata": {},
   "outputs": [
    {
     "data": {
      "text/plain": [
       "1"
      ]
     },
     "execution_count": 47,
     "metadata": {},
     "output_type": "execute_result"
    }
   ],
   "source": [
    "1 % 2"
   ]
  },
  {
   "cell_type": "code",
   "execution_count": 48,
   "metadata": {},
   "outputs": [
    {
     "data": {
      "text/plain": [
       "0"
      ]
     },
     "execution_count": 48,
     "metadata": {},
     "output_type": "execute_result"
    }
   ],
   "source": [
    "2 % 1"
   ]
  },
  {
   "cell_type": "code",
   "execution_count": 49,
   "metadata": {},
   "outputs": [
    {
     "data": {
      "text/plain": [
       "0.0"
      ]
     },
     "execution_count": 49,
     "metadata": {},
     "output_type": "execute_result"
    }
   ],
   "source": [
    "2.3 % 2.3"
   ]
  },
  {
   "cell_type": "code",
   "execution_count": 50,
   "metadata": {},
   "outputs": [
    {
     "data": {
      "text/plain": [
       "0.9999999999999998"
      ]
     },
     "execution_count": 50,
     "metadata": {},
     "output_type": "execute_result"
    }
   ],
   "source": [
    "2.3 % 1.3"
   ]
  },
  {
   "cell_type": "code",
   "execution_count": 51,
   "metadata": {},
   "outputs": [
    {
     "data": {
      "text/plain": [
       "0.30000000000000004"
      ]
     },
     "execution_count": 51,
     "metadata": {},
     "output_type": "execute_result"
    }
   ],
   "source": [
    "1.3 % 1"
   ]
  },
  {
   "cell_type": "code",
   "execution_count": 52,
   "metadata": {},
   "outputs": [
    {
     "data": {
      "text/plain": [
       "1.0"
      ]
     },
     "execution_count": 52,
     "metadata": {},
     "output_type": "execute_result"
    }
   ],
   "source": [
    "1 % 1.3"
   ]
  },
  {
   "cell_type": "markdown",
   "metadata": {},
   "source": [
    "___\n",
    "<h3><b> - Exponenciação (**):</b></h3>\n",
    "\n",
    "Essa é a operação de potência, x ** y representando x elevado a y. Caso y seja uma fração, assim como na matemática, nós temos uma raíz. Assim x ** 2 representa x², enquanto x ** (1/2) representa √(x). Lembrando que, novamente, a operação vai retornar um float se pelo menos um dos dois for float.\n",
    "___"
   ]
  },
  {
   "cell_type": "code",
   "execution_count": 53,
   "metadata": {},
   "outputs": [
    {
     "data": {
      "text/plain": [
       "4"
      ]
     },
     "execution_count": 53,
     "metadata": {},
     "output_type": "execute_result"
    }
   ],
   "source": [
    "2 ** 2"
   ]
  },
  {
   "cell_type": "code",
   "execution_count": 54,
   "metadata": {},
   "outputs": [
    {
     "data": {
      "text/plain": [
       "27"
      ]
     },
     "execution_count": 54,
     "metadata": {},
     "output_type": "execute_result"
    }
   ],
   "source": [
    "3 ** 3"
   ]
  },
  {
   "cell_type": "code",
   "execution_count": 55,
   "metadata": {},
   "outputs": [
    {
     "data": {
      "text/plain": [
       "2.0"
      ]
     },
     "execution_count": 55,
     "metadata": {},
     "output_type": "execute_result"
    }
   ],
   "source": [
    "8 ** (1/3)"
   ]
  },
  {
   "cell_type": "markdown",
   "metadata": {},
   "source": [
    "___\n",
    "Expoentes negativos também funcionam, e, assim como na matemática, 2 ** (-1) representa o mesmo que 1/(2 ** 1), \n",
    "\n",
    "2 ** (-2) representa o mesmo que 1/(2 ** 2).\n",
    "___"
   ]
  },
  {
   "cell_type": "code",
   "execution_count": 56,
   "metadata": {},
   "outputs": [
    {
     "data": {
      "text/plain": [
       "0.5"
      ]
     },
     "execution_count": 56,
     "metadata": {},
     "output_type": "execute_result"
    }
   ],
   "source": [
    "2 ** (-1)"
   ]
  },
  {
   "cell_type": "code",
   "execution_count": 57,
   "metadata": {},
   "outputs": [
    {
     "data": {
      "text/plain": [
       "0.5"
      ]
     },
     "execution_count": 57,
     "metadata": {},
     "output_type": "execute_result"
    }
   ],
   "source": [
    "1 / 2"
   ]
  },
  {
   "cell_type": "code",
   "execution_count": 58,
   "metadata": {},
   "outputs": [
    {
     "data": {
      "text/plain": [
       "0.25"
      ]
     },
     "execution_count": 58,
     "metadata": {},
     "output_type": "execute_result"
    }
   ],
   "source": [
    "2 ** (-2)"
   ]
  },
  {
   "cell_type": "code",
   "execution_count": 59,
   "metadata": {},
   "outputs": [
    {
     "data": {
      "text/plain": [
       "0.25"
      ]
     },
     "execution_count": 59,
     "metadata": {},
     "output_type": "execute_result"
    }
   ],
   "source": [
    "1 / (2 ** 2)"
   ]
  },
  {
   "cell_type": "code",
   "execution_count": 60,
   "metadata": {},
   "outputs": [
    {
     "data": {
      "text/plain": [
       "0.25"
      ]
     },
     "execution_count": 60,
     "metadata": {},
     "output_type": "execute_result"
    }
   ],
   "source": [
    "1 / 4"
   ]
  },
  {
   "cell_type": "markdown",
   "metadata": {},
   "source": [
    "___\n",
    "<h3><b> - Comparação de Igualdade (==):</b></h3>\n",
    "\n",
    "Essa é a operação de comparação de igualdade, x == y representando se x é igual a y. O retorno desse operador é um valor de True ou False, <b>não confunda com o = normal, que serve para atribuir valor.</b> Se lê (a = b) como \"a recebe b\", enquanto (a == b) é lido como \"a é igual a b?\", a segunda podendo ser verdadeira ou falsa. Exemplo:\n",
    "___"
   ]
  },
  {
   "cell_type": "code",
   "execution_count": 79,
   "metadata": {},
   "outputs": [
    {
     "name": "stdout",
     "output_type": "stream",
     "text": [
      "False\n"
     ]
    }
   ],
   "source": [
    "a = 2 #a recebe 2\n",
    "b = 3 #b recebe 3\n",
    "print(a == b) #imprima a resposta para \"a é igual a b?\""
   ]
  },
  {
   "cell_type": "markdown",
   "metadata": {},
   "source": [
    "___\n",
    "<h3><b> - Comparação de Diferente (!=):</b></h3>\n",
    "\n",
    "Essa é a operação de comparação de diferente, x != y representando se x é diferente de y. O retorno desse operador é um valor de True ou False, que é a resposta para a pergunta \"x é diferente de y?\" Exemplo:\n",
    "___"
   ]
  },
  {
   "cell_type": "code",
   "execution_count": 19,
   "metadata": {},
   "outputs": [
    {
     "name": "stdout",
     "output_type": "stream",
     "text": [
      "True\n"
     ]
    }
   ],
   "source": [
    "print(\"2\" != 2)"
   ]
  },
  {
   "cell_type": "markdown",
   "metadata": {},
   "source": [
    "___\n",
    "<h3><b> - Comparação de Maior (>):</b></h3>\n",
    "\n",
    "Essa é a operação de comparação de maior, x > y representando se x é maior que y. O retorno desse operador é um valor de True ou False, que é a resposta para a pergunta \"x é maior que y?\" Exemplo:\n",
    "___"
   ]
  },
  {
   "cell_type": "code",
   "execution_count": 80,
   "metadata": {},
   "outputs": [
    {
     "name": "stdout",
     "output_type": "stream",
     "text": [
      "False\n"
     ]
    }
   ],
   "source": [
    "print(2 > 3)"
   ]
  },
  {
   "cell_type": "markdown",
   "metadata": {},
   "source": [
    "Você também pode usar o operador <b>>= (lê-se maior igual)</b>. x >= y retorna True se x for maior que y ou se x for igual a y."
   ]
  },
  {
   "cell_type": "code",
   "execution_count": 82,
   "metadata": {},
   "outputs": [
    {
     "name": "stdout",
     "output_type": "stream",
     "text": [
      "True\n"
     ]
    }
   ],
   "source": [
    "print(2 >= 2)"
   ]
  },
  {
   "cell_type": "markdown",
   "metadata": {},
   "source": [
    "___\n",
    "<h3><b> - Comparação de Menor (<):</b></h3>\n",
    "\n",
    "Essa é a operação de comparação de menor, x < y representando se x é menor que y. O retorno desse operador é um valor de True ou False, que é a resposta para a pergunta \"x é menor que y?\" Exemplo:\n",
    "___"
   ]
  },
  {
   "cell_type": "code",
   "execution_count": 83,
   "metadata": {},
   "outputs": [
    {
     "name": "stdout",
     "output_type": "stream",
     "text": [
      "True\n"
     ]
    }
   ],
   "source": [
    "print(2 < 3)"
   ]
  },
  {
   "cell_type": "markdown",
   "metadata": {},
   "source": [
    "Você também pode usar o operador <b><= (lê-se menor igual)</b>. x <= y retorna True se x for menor que y ou se x for igual a y."
   ]
  },
  {
   "cell_type": "code",
   "execution_count": 84,
   "metadata": {},
   "outputs": [
    {
     "name": "stdout",
     "output_type": "stream",
     "text": [
      "True\n"
     ]
    }
   ],
   "source": [
    "print(2 <= 3)"
   ]
  },
  {
   "cell_type": "markdown",
   "metadata": {},
   "source": [
    "___\n",
    "<b>Ufa</b>, acabamos os operadores básicos, agora vamos falar um pouquinho de como receber valores do usuário, é rapidinho!\n",
    "\n",
    "Para receber um valor, nós usamos a função <i>input( )</i>, ela vai aceitar que o usuário escreva algo no terminal (ou no jupyter notebook).\n",
    "___"
   ]
  },
  {
   "cell_type": "code",
   "execution_count": 61,
   "metadata": {},
   "outputs": [
    {
     "name": "stdout",
     "output_type": "stream",
     "text": [
      "Amo cachorros\n"
     ]
    },
    {
     "data": {
      "text/plain": [
       "'Amo cachorros'"
      ]
     },
     "execution_count": 61,
     "metadata": {},
     "output_type": "execute_result"
    }
   ],
   "source": [
    "input()"
   ]
  },
  {
   "cell_type": "markdown",
   "metadata": {},
   "source": [
    "___\n",
    "Mas parar nós armazenarmos esse valor, precisamos lembrar de atribuir o valor dessa função a alguma variável, para que possamos acessar depois.\n",
    "___"
   ]
  },
  {
   "cell_type": "code",
   "execution_count": 3,
   "metadata": {},
   "outputs": [
    {
     "name": "stdout",
     "output_type": "stream",
     "text": [
      "Amo cachorros\n"
     ]
    }
   ],
   "source": [
    "frase = input( )\n"
   ]
  },
  {
   "cell_type": "code",
   "execution_count": 4,
   "metadata": {},
   "outputs": [
    {
     "name": "stdout",
     "output_type": "stream",
     "text": [
      "Amo cachorros demais\n"
     ]
    }
   ],
   "source": [
    "print(frase + \" demais\")"
   ]
  },
  {
   "cell_type": "markdown",
   "metadata": {},
   "source": [
    "___\n",
    "Mas muitas vezes nós queremos mandar uma mensagem para o usuário, além de pedir algum valor dele. Você não precisa usar um print pra isso, a própria função input já tem um print nela mesma! É o que fica dentro desses parênteses, nós podemos pedir algum valor ao mesmo tempo que pedimos uma mensagem. \n",
    "\n",
    "input(\"O usuário pode ler isso\").\n",
    "___"
   ]
  },
  {
   "cell_type": "code",
   "execution_count": 2,
   "metadata": {},
   "outputs": [
    {
     "name": "stdout",
     "output_type": "stream",
     "text": [
      "Diga algo que você ama: Amo cachorros\n"
     ]
    }
   ],
   "source": [
    "frase = input(\"Diga algo que você ama: \")"
   ]
  },
  {
   "cell_type": "code",
   "execution_count": 71,
   "metadata": {},
   "outputs": [
    {
     "name": "stdout",
     "output_type": "stream",
     "text": [
      "Amo cachorros demais\n"
     ]
    }
   ],
   "source": [
    "print(frase, \"demais\")"
   ]
  },
  {
   "cell_type": "markdown",
   "metadata": {},
   "source": [
    "___\n",
    "<b>Atenção: O valor que vem da função input( ) é sempre uma string!</b> Caso você queira um número (inteiro ou float) do usuário, tem que converter esse valor. Pra isso, temos as funções int( ), que converte um valor pra um inteiro, e float( ), que converte um valor para float.\n",
    "___"
   ]
  },
  {
   "cell_type": "code",
   "execution_count": 74,
   "metadata": {},
   "outputs": [
    {
     "name": "stdout",
     "output_type": "stream",
     "text": [
      "Entre um número inteiro: 23\n",
      "<class 'str'>\n",
      "<class 'int'>\n"
     ]
    }
   ],
   "source": [
    "valor_string = input(\"Entre um número inteiro: \")\n",
    "print(type(valor_string))\n",
    "\n",
    "valor_inteiro = int(valor_string)\n",
    "print(type(valor_inteiro))"
   ]
  },
  {
   "cell_type": "markdown",
   "metadata": {},
   "source": [
    "___\n",
    "Assim podemos ver que, sem a conversão, o programa teria um comportamento totalmente diferente do esperado para valores numéricos. <b>Tome cuidado com isso!</b>\n",
    "\n",
    "Para facilitar, você pode ainda já converter direto na função input, da seguinte forma:"
   ]
  },
  {
   "cell_type": "code",
   "execution_count": 75,
   "metadata": {},
   "outputs": [
    {
     "name": "stdout",
     "output_type": "stream",
     "text": [
      "Entre um número inteiro: 23\n",
      "<class 'int'>\n"
     ]
    }
   ],
   "source": [
    "valor = int(input(\"Entre um número inteiro: \"))\n",
    "\n",
    "print(type(valor))"
   ]
  },
  {
   "cell_type": "markdown",
   "metadata": {},
   "source": [
    "___\n",
    "Viu? Foi rapidinho! Agora vamos partir pros exercícios.\n",
    "___"
   ]
  },
  {
   "cell_type": "markdown",
   "metadata": {},
   "source": [
    "<h3><b>Exercícios:</b></h3>"
   ]
  },
  {
   "cell_type": "markdown",
   "metadata": {},
   "source": [
    "<b><i>Exercício 3.1:</i></b> faça um programa que peça, do usuário, dois números, então printe:\n",
    "\n",
    "a) A soma dos dois números\n",
    "\n",
    "b) A subtração desses dois números\n",
    "\n",
    "c) O produto desses dois números\n",
    "\n"
   ]
  },
  {
   "cell_type": "markdown",
   "metadata": {},
   "source": [
    "<b><i>Exercício 3.2:</i></b> faça um programa que peça, do usuário, dois números, então printe: \n",
    "\n",
    "a) \"A divisão entre o número x e o número y é x / y\", \n",
    "\n",
    "exemplo: \n",
    "\n",
    "input 6, 3 retornaria \"A divisão entre o número 6 e o número 3 é 2.0\"\n",
    "\n",
    "b) A divisão inteira e o resto"
   ]
  },
  {
   "cell_type": "markdown",
   "metadata": {},
   "source": [
    "<b><i>Exercício 3.3:</i></b> atribua o valor \"cães são\" a uma variável, e o valor \"muito legais \" a outra. Atribua, a uma outra variável, a soma dessas duas, depois printe na tela o resultado."
   ]
  },
  {
   "cell_type": "markdown",
   "metadata": {},
   "source": [
    "<b><i>Exercício 3.4:</i></b> agora printe o resultado do exercício passado 50 vezes na tela."
   ]
  },
  {
   "cell_type": "markdown",
   "metadata": {},
   "source": [
    "___"
   ]
  },
  {
   "cell_type": "markdown",
   "metadata": {},
   "source": [
    "<h1><b>4. Ramificação de Programas</b></h1>"
   ]
  },
  {
   "cell_type": "markdown",
   "metadata": {},
   "source": [
    "___"
   ]
  },
  {
   "cell_type": "markdown",
   "metadata": {},
   "source": [
    "O tipo de programa que estudamos até agora era o de programas de linha reta, que simplesmente iam seguindo seu caminho através do código e executando cada uma de suas partes. Os programas ramificados, no entanto, são bem mais interessantes! Com um programa ramificado nós podemos criar <b>condições</b>, e executar uma ação diferente para cada uma dessas condições. A peça chave aqui vai ser o <b><i>if</i></b>, além do <b><i>else</i></b>. "
   ]
  },
  {
   "cell_type": "markdown",
   "metadata": {},
   "source": [
    "___"
   ]
  },
  {
   "cell_type": "markdown",
   "metadata": {},
   "source": [
    "<h2><b>- if, else</b></h2>"
   ]
  },
  {
   "cell_type": "code",
   "execution_count": 4,
   "metadata": {},
   "outputs": [
    {
     "name": "stdout",
     "output_type": "stream",
     "text": [
      "condição satisfeita!\n"
     ]
    }
   ],
   "source": [
    "if True:\n",
    "    print(\"condição satisfeita!\")\n",
    "else:\n",
    "    print(\"condição não satisfeita!\")"
   ]
  },
  {
   "cell_type": "markdown",
   "metadata": {},
   "source": [
    "Essa vai ser a estrutura básica dos nossos códigos ramificados, if é inglês para \"se\", else para \"se não\". Então o que teremos é basicamente um código a ser executado caso uma condição seja satisfeita, e outro código caso essa condição não seja satisfeita. Pareceu meio críptico? Pera que tem um exemplo logo abaixo!"
   ]
  },
  {
   "cell_type": "markdown",
   "metadata": {},
   "source": [
    "<i>Observação: o espaço até a margem desse print(\"condição satisfeita!\") é o que nós chamamos <b>Indentação</b>, e, no python, ele tem um papel crítico, que é indicar o código que está dentro de estruturas como o if e o else. Esse espaço é dado automaticamente quando você aperta enter para pular de uma linha para outra após um if(True):, e escrever tirando esse espaço indica que você está fora do if. </i>"
   ]
  },
  {
   "cell_type": "code",
   "execution_count": 85,
   "metadata": {},
   "outputs": [
    {
     "name": "stdout",
     "output_type": "stream",
     "text": [
      "Aqui vai ser printado de qualquer forma, porque está fora da estrutura do if\n"
     ]
    }
   ],
   "source": [
    "if(False):\n",
    "    print(\"Aqui vai ser printado só se a condição for verdadeira, já que tá dentro do if\")\n",
    "print(\"Aqui vai ser printado de qualquer forma, porque está fora da estrutura do if\")"
   ]
  },
  {
   "cell_type": "markdown",
   "metadata": {},
   "source": [
    "<i><b>Lembre-se</b>, sempre coloque <b>else</b> para seus <b>if</b>. Mesmo que pareça que não cabe um else em algum if, você deve colocar um else que printe alguma mensagem e termine o loop.</i>"
   ]
  },
  {
   "cell_type": "markdown",
   "metadata": {},
   "source": [
    "___"
   ]
  },
  {
   "cell_type": "markdown",
   "metadata": {},
   "source": [
    "<b><i>Exemplo:</i></b> Faça um programa que receba um número do usuário e retorne se esse número é par ou ímpar. Exemplo: Usuário entra o número 2, o programa retorna \"2 é par\"."
   ]
  },
  {
   "cell_type": "markdown",
   "metadata": {},
   "source": [
    "Bem, vamos começar lembrando o que é um par e o que é um ímpar. Um número par é um número que quando dividido por dois resulta em um número inteiro, ou seja, <b>a divisão de um número par por 2 dá resto zero</b>! Um número ímpar não resulta um inteiro quando dividido por 2, ou seja, o resto da divisão é diferente de zero, fácil assim! Agora vamos tentar escrever nosso algoritmo."
   ]
  },
  {
   "cell_type": "code",
   "execution_count": 2,
   "metadata": {},
   "outputs": [],
   "source": [
    "#a = número que o usuário escrever\n",
    "#se o resto da divisão de a por 2 for igual a zero, printe \"a é par\"\n",
    "#caso contrário, printe \"a é ímpar\""
   ]
  },
  {
   "cell_type": "markdown",
   "metadata": {},
   "source": [
    "Pronto! Agora que sabemos a estrutura básica do nosso código, vamos tentar traduzir isso para python."
   ]
  },
  {
   "cell_type": "code",
   "execution_count": 7,
   "metadata": {},
   "outputs": [
    {
     "name": "stdout",
     "output_type": "stream",
     "text": [
      "Entre um número inteiro: 3\n",
      "3 é ímpar\n"
     ]
    }
   ],
   "source": [
    "a = int(input(\"Entre um número inteiro: \")) #Lembrando de converter o que o usuário entrar para um inteiro, \n",
    "#já que a função input retorna sempre uma string\n",
    "\n",
    "if a % 2 == 0: #se o resto da divisão de a por 2 for 0\n",
    "    print(a, \"é par\")\n",
    "\n",
    "else:\n",
    "    print(a, \"é ímpar\")"
   ]
  },
  {
   "cell_type": "markdown",
   "metadata": {},
   "source": [
    "Analisando a estrutura do nosso código, o que acontece é o seguinte:\n",
    "\n",
    ".O computador pede um input ao usuário\n",
    "\n",
    ".O tipo desse input, que é string, é convertido para um inteiro\n",
    "\n",
    ".O valor desse inteiro é atribuído à variavel a\n",
    "\n",
    ".O código checa se a expressão (a % 2 == 0) é verdadeira\n",
    "\n",
    ".Se essa condição for verdadeira, ele executa o que está <b>indentado</b> logo abaixo desse if, e o programa acaba aí\n",
    "\n",
    ".Se essa condição não for verdadeira, ele executa o que está <b>indentado</b> logo abaixo do else, e o programa acaba aí"
   ]
  },
  {
   "cell_type": "markdown",
   "metadata": {},
   "source": [
    "___"
   ]
  },
  {
   "cell_type": "markdown",
   "metadata": {},
   "source": [
    "<h2><b>- elif</b></h2>"
   ]
  },
  {
   "cell_type": "code",
   "execution_count": 12,
   "metadata": {},
   "outputs": [
    {
     "name": "stdout",
     "output_type": "stream",
     "text": [
      "a = 2\n"
     ]
    }
   ],
   "source": [
    "a = 2\n",
    "\n",
    "if (a == 1):\n",
    "    print(\"a = 1\")\n",
    "\n",
    "elif (a == 2):\n",
    "    print(\"a = 2\")\n",
    "\n",
    "else:\n",
    "    print(\"a não é nem 1 nem 2\")"
   ]
  },
  {
   "cell_type": "markdown",
   "metadata": {},
   "source": [
    "Muitas vezes você vai precisar de mais que só condição em um programa, pra isso, em python, temos o <b><i>elif</i></b>, junção da expressão <i>else if</i>. O elif vai servir pra adicionar uma condição (ou várias) a mais ao seu programa. O elif vai impedir que você precise fazer vários if encadeados, um exemplo logo abaixo pra entender melhor: "
   ]
  },
  {
   "cell_type": "markdown",
   "metadata": {},
   "source": [
    "<i>Observação: nesse código eu coloquei a condição do if e elif entre parênteses, ex: (a == 1), isso não é necessário no Python, mas é algo que aumenta a legibilidade do seu código, o que é sempre recomendado! </i>"
   ]
  },
  {
   "cell_type": "markdown",
   "metadata": {},
   "source": [
    "___"
   ]
  },
  {
   "cell_type": "markdown",
   "metadata": {},
   "source": [
    "<b><i>Exemplo:</i></b> Faça um programa que peça um número inteiro do usuário e diga se esse número é divisível por 2, por 3, por 2 e por 3 ou nenhum. Exemplo: usuário entra 6, o programa retorna \"6 é divisível por 2 e por 3\"."
   ]
  },
  {
   "cell_type": "markdown",
   "metadata": {},
   "source": [
    "Vamos primeiro tentar fazer o programa sem usar elif:"
   ]
  },
  {
   "cell_type": "code",
   "execution_count": 25,
   "metadata": {},
   "outputs": [
    {
     "name": "stdout",
     "output_type": "stream",
     "text": [
      "Entre um número inteiro: 12\n",
      "12 é divisível por 2 e por 3\n"
     ]
    }
   ],
   "source": [
    "a = int(input(\"Entre um número inteiro: \"))\n",
    "\n",
    "if a % 3 == 0:\n",
    "    if a % 2 == 0:\n",
    "        print(a, \"é divisível por 2 e por 3\")\n",
    "    else:\n",
    "        print(a, \"é divisível por 3\")\n",
    "        \n",
    "else:\n",
    "    if a % 2 == 0:\n",
    "        print(a, \"é divisível por 2\")\n",
    "    else:\n",
    "        print(a, \"não é divisível por 2 nem por 3\")"
   ]
  },
  {
   "cell_type": "markdown",
   "metadata": {},
   "source": [
    "Perceba como assim o programa fica bem mais complexo, tendo que colocar condições dentro de condições. Existe forma melhor de fazer isso. Pra fazer essa próxima versão, vamos conhecer novos operadores, os operadores lógicos <b><i>and</i></b> e <b><i>or</i></b>."
   ]
  },
  {
   "cell_type": "markdown",
   "metadata": {},
   "source": [
    "___\n",
    "<h3><b> - Conjunção (and):</b></h3>\n",
    "\n",
    "Essa é a operação de conjunção. Com essa operação, <b>(a e b)</b> vai retornar True somente se <b>a</b> for True e <b>b</b> também for True. And, em inglês, significa \"e\".\n",
    "___"
   ]
  },
  {
   "attachments": {
    "e.png": {
     "image/png": "[encoded data removed]"
    }
   },
   "cell_type": "markdown",
   "metadata": {},
   "source": [
    "Na notação da lógica matemática, p e q pode ser representado por p ^ q, olhando a tabela verdade:\n",
    "\n",
    "![e.png](attachment:e.png)"
   ]
  },
  {
   "cell_type": "code",
   "execution_count": 26,
   "metadata": {},
   "outputs": [
    {
     "name": "stdout",
     "output_type": "stream",
     "text": [
      "True\n"
     ]
    }
   ],
   "source": [
    "a = True\n",
    "b = True\n",
    "c = a and b\n",
    "\n",
    "print(c)"
   ]
  },
  {
   "cell_type": "markdown",
   "metadata": {},
   "source": [
    "___\n",
    "<h3><b> - Disjunção (or):</b></h3>\n",
    "\n",
    "Essa é a operação de disjunção. Com essa operação, <b>(a ou b)</b> vai retornar True se pelo menos uma das duas <b>a</b> ou <b>b</b> for True. Or, em inglês, significa \"ou\".\n",
    "___"
   ]
  },
  {
   "attachments": {
    "ou.png": {
     "image/png": "[encoded data removed]"
    }
   },
   "cell_type": "markdown",
   "metadata": {},
   "source": [
    "Na notação da lógica matemática, p e q pode ser representado por p v q, olhando a tabela verdade:\n",
    "\n",
    "![ou.png](attachment:ou.png)"
   ]
  },
  {
   "cell_type": "code",
   "execution_count": 27,
   "metadata": {},
   "outputs": [
    {
     "name": "stdout",
     "output_type": "stream",
     "text": [
      "True\n"
     ]
    }
   ],
   "source": [
    "a = True\n",
    "b = False\n",
    "c = a or b\n",
    "\n",
    "print(c)"
   ]
  },
  {
   "cell_type": "markdown",
   "metadata": {},
   "source": [
    "___"
   ]
  },
  {
   "cell_type": "markdown",
   "metadata": {},
   "source": [
    "Agora vamos tentar resolver aquele mesmo problema, mas usando and e elif."
   ]
  },
  {
   "cell_type": "markdown",
   "metadata": {},
   "source": [
    "<b><i>Exemplo:</i></b> Faça um programa que peça um número inteiro do usuário e diga se esse número é divisível por 2, por 3, por 2 e por 3 ou nenhum. Exemplo: usuário entra 6, o programa retorna \"6 é divisível por 2 e por 3\"."
   ]
  },
  {
   "cell_type": "markdown",
   "metadata": {},
   "source": [
    "___"
   ]
  },
  {
   "cell_type": "code",
   "execution_count": 30,
   "metadata": {},
   "outputs": [
    {
     "name": "stdout",
     "output_type": "stream",
     "text": [
      "Entre um número inteiro: 23\n",
      "23 não é divisível por 2 nem por 3\n"
     ]
    }
   ],
   "source": [
    "a = int(input(\"Entre um número inteiro: \"))\n",
    "\n",
    "if (a % 2 == 0) and (a % 3 == 0):\n",
    "    print(a, \"é divisível por 2 e por 3\")\n",
    "\n",
    "elif (a % 2 == 0):\n",
    "    print(a, \"é divisível por 2\")\n",
    "    \n",
    "elif (a % 3 == 0):\n",
    "    print(a, \"é divisível por 3\")\n",
    "    \n",
    "else:\n",
    "    print(a, \"não é divisível por 2 nem por 3\")"
   ]
  },
  {
   "cell_type": "markdown",
   "metadata": {},
   "source": [
    "___"
   ]
  },
  {
   "cell_type": "markdown",
   "metadata": {},
   "source": [
    "Assim o programa fica bem mais facilmente legível. É sempre uma boa você tentar tornar o programa o mais fácil possível de identificar, a medida que os programas vão ficando mais complexos isso faz uma diferença grande! "
   ]
  },
  {
   "cell_type": "markdown",
   "metadata": {},
   "source": [
    "___"
   ]
  },
  {
   "cell_type": "markdown",
   "metadata": {},
   "source": [
    "<h3><b>Exercícios:</b></h3>"
   ]
  },
  {
   "cell_type": "markdown",
   "metadata": {},
   "source": [
    "<b><i>Exercício 4.1:</i></b> Faça um programa que receba um número inteiro e diga se é divisível por 5, por 7, por 5 e por 7, ou nenhum. Ex input: 35, programa retorna \"35 é divisível por 5 e por 7\"."
   ]
  },
  {
   "cell_type": "markdown",
   "metadata": {},
   "source": [
    "<b><i>Exercício 4.2:</i></b> Faça um programa que receba um número inteiro e diga se é divisível por 2 ou por 3, ou nenhum dos dois. Ex input: \"24\", o programa retorna \"24 é divisível por 2 ou por 3\"."
   ]
  },
  {
   "cell_type": "markdown",
   "metadata": {},
   "source": [
    "___"
   ]
  },
  {
   "cell_type": "markdown",
   "metadata": {},
   "source": [
    "<h1><b>5. String Slicing</b></h1>"
   ]
  },
  {
   "cell_type": "markdown",
   "metadata": {},
   "source": [
    "___"
   ]
  },
  {
   "cell_type": "markdown",
   "metadata": {},
   "source": [
    "Agora vamos falar um pocuo sobre como cortar uma string! Isso é muito importante, porque depois nós vamos usar essa mesma notação pra pegar pedaços de listas. \"Mas como assim cortar uma string\", você pode se perguntar. Bem, suponha que você tem uma palavra (que é uma string), e quer só as três primeiras letras dela, ou até mesmo só a primeira letra, como fazer isso? Veremos agora, com string slicing! "
   ]
  },
  {
   "cell_type": "markdown",
   "metadata": {},
   "source": [
    "A notação é a seguinte:\n",
    "supomos que temos uma string atribuída a uma variável \"var\", caso você queira a primeira letra, é só escrever var[0] (lembrando que em python nós começamos a contar do zero). Exemplo:"
   ]
  },
  {
   "cell_type": "code",
   "execution_count": 35,
   "metadata": {},
   "outputs": [
    {
     "name": "stdout",
     "output_type": "stream",
     "text": [
      "c\n"
     ]
    }
   ],
   "source": [
    "var = \"cachorro\"\n",
    "print(var[0])"
   ]
  },
  {
   "cell_type": "markdown",
   "metadata": {},
   "source": [
    "E pra pegar os três primeiros, por exemplo, como fazemos? É só fazer var[0:3]. Lembrando que, nesse caso, vai pegar os elementos 0, 1, 2 e não vai pegar o elemento 3. Então fica <b>var[</b>primeiro elemento que você quer pegar<b>:</b>primeiro elemento que você não quer pegar<b>]</b>. Exemplo:"
   ]
  },
  {
   "cell_type": "code",
   "execution_count": 36,
   "metadata": {},
   "outputs": [
    {
     "name": "stdout",
     "output_type": "stream",
     "text": [
      "cac\n"
     ]
    }
   ],
   "source": [
    "var = \"cachorro\"\n",
    "print(var[0:3])"
   ]
  },
  {
   "cell_type": "markdown",
   "metadata": {},
   "source": [
    "<h2><b>- A Função len()</b></h2>"
   ]
  },
  {
   "cell_type": "markdown",
   "metadata": {},
   "source": [
    "___"
   ]
  },
  {
   "cell_type": "markdown",
   "metadata": {},
   "source": [
    "Aqui nós vamos apresentar mais uma função que vai ser útil, a função <b>len(arg)</b>. Essa função recebe, como seu argumento, uma sequência (como por exemplo uma string), e retorna o seu tamanho. No caso da string, retorna o número de caracteres que ela tem, no caso de uma lista (entraremos em mais detalhes jajá) retorna o número de elementos."
   ]
  },
  {
   "cell_type": "code",
   "execution_count": 37,
   "metadata": {},
   "outputs": [
    {
     "data": {
      "text/plain": [
       "8"
      ]
     },
     "execution_count": 37,
     "metadata": {},
     "output_type": "execute_result"
    }
   ],
   "source": [
    "var = \"cachorro\"\n",
    "len(var)"
   ]
  },
  {
   "cell_type": "markdown",
   "metadata": {},
   "source": [
    "Então, para pergar uma fatia da string que dá a string inteira, podemos fazer:"
   ]
  },
  {
   "cell_type": "code",
   "execution_count": 38,
   "metadata": {},
   "outputs": [
    {
     "name": "stdout",
     "output_type": "stream",
     "text": [
      "cachorro\n"
     ]
    }
   ],
   "source": [
    "var = \"cachorro\"\n",
    "print(var[0:len(var)])"
   ]
  },
  {
   "cell_type": "markdown",
   "metadata": {},
   "source": [
    "Não que isso seja útil, mas é sempre bom aprender!"
   ]
  },
  {
   "cell_type": "markdown",
   "metadata": {},
   "source": [
    "___"
   ]
  },
  {
   "cell_type": "markdown",
   "metadata": {},
   "source": [
    "Em python, quando você quer começar um slicing partindo do último elemento de uma sequência, é só você fazer começando do -1. Difícil de entender? Exemplo logo abaixo:"
   ]
  },
  {
   "cell_type": "code",
   "execution_count": 39,
   "metadata": {},
   "outputs": [
    {
     "name": "stdout",
     "output_type": "stream",
     "text": [
      "c\n"
     ]
    }
   ],
   "source": [
    "var = \"abc\"\n",
    "print(var[-1])"
   ]
  },
  {
   "cell_type": "markdown",
   "metadata": {},
   "source": [
    "___"
   ]
  },
  {
   "cell_type": "markdown",
   "metadata": {},
   "source": [
    "Mas e se você quiser fazer um slicing de 2 em 2? ou até mesmo de trás pra frente? Você pode fazer isso! No slicing que fizemos até agora, nós temos var[a:b], sendo <b>var</b> a sequência que queremos cortar, <b>a</b> o primeiro elemento a ser incluso, e <b>b</b> o primeiro elemento a ser deixado de fora. Mas nós podemos fazer var[a:b:c], sendo esse <b>c</b> o passo que nós damos. Se não escrever nada, o python deixa o padrão dele como 1, e por isso vai pulando de um em um elemento."
   ]
  },
  {
   "cell_type": "code",
   "execution_count": 59,
   "metadata": {},
   "outputs": [
    {
     "name": "stdout",
     "output_type": "stream",
     "text": [
      "1357\n"
     ]
    }
   ],
   "source": [
    "var = \"12345678\"\n",
    "print(var[0:len(var):2])"
   ]
  },
  {
   "cell_type": "markdown",
   "metadata": {},
   "source": [
    "Assim o python printou o primeiro, depois printou o elemento que está 2 casas na frente desse, e fez assim por diante até chegar no elemento que ele para."
   ]
  },
  {
   "cell_type": "markdown",
   "metadata": {},
   "source": [
    "___"
   ]
  },
  {
   "cell_type": "markdown",
   "metadata": {},
   "source": [
    "Antes de partir pros exercícios, vamos ver mais uma coisinha! Para facilitar, você nem precisa escrever todos os elementos do slice, tendo var[a:b:c], você pode escrever var[::], e o python vai automaticamente assumir que a = 0, b = len(var) e c = 1. Assim, você pode ocultar as que não forem diferente do padrão. Exemplo: vou inverter uma string só usando slicing abaixo:"
   ]
  },
  {
   "cell_type": "code",
   "execution_count": 73,
   "metadata": {},
   "outputs": [
    {
     "name": "stdout",
     "output_type": "stream",
     "text": [
      "amor\n"
     ]
    }
   ],
   "source": [
    "var = \"roma\"\n",
    "print(var[::-1])"
   ]
  },
  {
   "cell_type": "markdown",
   "metadata": {},
   "source": [
    "E com todo esse amor pela programação, vamos partir para os exercícios!"
   ]
  },
  {
   "cell_type": "markdown",
   "metadata": {},
   "source": [
    "___"
   ]
  },
  {
   "cell_type": "markdown",
   "metadata": {},
   "source": [
    "<h3><b>Exercícios:</b></h3>"
   ]
  },
  {
   "cell_type": "markdown",
   "metadata": {},
   "source": [
    "<b><i>Exercício 5.1:</i></b> dada a sequência seq = \"123456789\", printe os múltiplos de 3 usando apenas um slicing."
   ]
  },
  {
   "cell_type": "markdown",
   "metadata": {},
   "source": [
    "<b><i>Exercício 5.2:</i></b> faça um programa que recebe um número como input e diz se ele é divisível por 5 ou não, o programa deve analisar somente o último dígito do número recebido."
   ]
  },
  {
   "cell_type": "markdown",
   "metadata": {},
   "source": [
    "<b><i>Exercício 5.3:</i></b> faça um programa que recebe um número inteiro como input do usuário e retorna qual é a letra que tem nessa posição. Exemplo: usuário digita 1 (primeira letra do alfabeto), o programa retorna a."
   ]
  },
  {
   "cell_type": "markdown",
   "metadata": {},
   "source": [
    "___"
   ]
  },
  {
   "cell_type": "markdown",
   "metadata": {},
   "source": [
    "<h1><b>6. Os Loops for</b></h1>"
   ]
  },
  {
   "cell_type": "markdown",
   "metadata": {},
   "source": [
    "___"
   ]
  },
  {
   "cell_type": "code",
   "execution_count": 2,
   "metadata": {},
   "outputs": [
    {
     "name": "stdout",
     "output_type": "stream",
     "text": [
      "0\n",
      "1\n",
      "2\n",
      "3\n",
      "4\n"
     ]
    }
   ],
   "source": [
    "for i in range(5):\n",
    "    print(i)"
   ]
  },
  {
   "cell_type": "markdown",
   "metadata": {},
   "source": [
    "___"
   ]
  },
  {
   "cell_type": "markdown",
   "metadata": {},
   "source": [
    "Muitas vezes, quando programando, você vai querer repetir uma coisa um número específico de vezes. Se eu quiser printar OLÁ 5 vezes, posso fazer assim:"
   ]
  },
  {
   "cell_type": "code",
   "execution_count": 1,
   "metadata": {},
   "outputs": [
    {
     "name": "stdout",
     "output_type": "stream",
     "text": [
      "OLÁ\n",
      "OLÁ\n",
      "OLÁ\n",
      "OLÁ\n",
      "OLÁ\n"
     ]
    }
   ],
   "source": [
    "print(\"OLÁ\")\n",
    "print(\"OLÁ\")\n",
    "print(\"OLÁ\")\n",
    "print(\"OLÁ\")\n",
    "print(\"OLÁ\")"
   ]
  },
  {
   "cell_type": "markdown",
   "metadata": {},
   "source": [
    "Até que não dá tanto trabalho, mas pense se eu quisesse fazer isso 10, 100 ou até 1000 vezes... mesmo copiando e colando isso seria bem ineficiente. Aí que entra o <b><i>loop</i></b> <b>for</b>! Um loop, como seu nome já diz, é algo baseado em repetição, e com o <b>for</b> nós vamos fazer repetições em torno de uma sequência. Não entendeu direito? Pera aí que já vem um exemplo!"
   ]
  },
  {
   "cell_type": "markdown",
   "metadata": {},
   "source": [
    "Primeiro vamos analisar a estrutura de um loop for. O for sempre vai ser algo assim:\n",
    "<p><b>for</b> <i>variável</i> <b>in</b> <i>sequência</i><b>:</b></p>\n",
    "&nbsp;&nbsp;&nbsp;&nbsp;<i>código</i>"
   ]
  },
  {
   "cell_type": "markdown",
   "metadata": {},
   "source": [
    "Com as partes em negrito sendo as partes fixas do loop for. Essa <i>variável</i> vai ser uma variável local, ou seja, <b>ela só existe dentro do loop</b>, e ela é quem vai ser alterada pela própria estrutura do loop. Se não tiver entendendo direito, fique tranquilo, agorinha vamos ter um exemplo e vai ficar claro. Para essa sequência, nós vamos usar uma nova função que vai nos ajudar, a função <b><i>range()</i></b>!"
   ]
  },
  {
   "cell_type": "code",
   "execution_count": 11,
   "metadata": {},
   "outputs": [
    {
     "name": "stdout",
     "output_type": "stream",
     "text": [
      "0\n",
      "1\n",
      "2\n"
     ]
    }
   ],
   "source": [
    "for num in [0, 1, 2]: #essa coisa entre colchetes é uma lista, mas não se preocupe com isso agora!\n",
    "    \n",
    "    print(num)"
   ]
  },
  {
   "cell_type": "markdown",
   "metadata": {},
   "source": [
    "Analisando o que acontece no código:\n",
    "\n",
    ".a varíavel num assume o valor 0 \n",
    "\n",
    ".o código printa num (que é 0) \n",
    "\n",
    ".a variável num assume o valor 1 \n",
    "\n",
    ".o código printa num (que é 1) \n",
    "\n",
    ".a variável num assume o valor 2\n",
    "\n",
    ".o código printa num (que é 2)\n",
    "\n",
    ".o loop é terminado"
   ]
  },
  {
   "cell_type": "markdown",
   "metadata": {},
   "source": [
    "___"
   ]
  },
  {
   "cell_type": "markdown",
   "metadata": {},
   "source": [
    "<h2><b>- A função range(começo, fim, passo)</b></h2>\n",
    "\n",
    "Essa função serve para criar uma sequência de números. Você pode especificar 3 coisas, o primeiro número que vai entrar na sequência, o primeiro número que não vai entrar na sequência, e o passo que a função vai dar. Lembrou de alguma coisa? Sim, é a mesma estrutura do slicing! Se você usar a função range() como range(num), ela vai assumir que o começo é 0 e o passo é 1, e o <b>num</b> vai ser o primeiro número que não vai entrar na sequência, o limite de parada."
   ]
  },
  {
   "cell_type": "markdown",
   "metadata": {},
   "source": [
    "Na prática, a forma que nós vamos usar a função range em um <b>for</b> é simplesmente colocando como argumento da função o número de vezes que nós queremos que o for execute o código. Exemplo:"
   ]
  },
  {
   "cell_type": "code",
   "execution_count": 13,
   "metadata": {},
   "outputs": [
    {
     "name": "stdout",
     "output_type": "stream",
     "text": [
      "0\n",
      "1\n",
      "2\n"
     ]
    }
   ],
   "source": [
    "#lembrando que esse i é uma variável local\n",
    "for i in range(3): #nós queremos executar o código 3 vezes\n",
    "    print(i)"
   ]
  },
  {
   "cell_type": "markdown",
   "metadata": {},
   "source": [
    "Agora vamos ver o que acontece nesse código:\n",
    "\n",
    ".a variável local i assume o primeiro valor da sequência criada por range, que é 0\n",
    "\n",
    ".o código é executado, printando a variável i (que é 0)\n",
    "\n",
    ".i assume o segundo valor da sequência, que é 1\n",
    "\n",
    ".a variável i (com valor 1) é printada\n",
    "\n",
    ".i assume o terceiro valor da sequência, 2\n",
    "\n",
    ".a variável i (com valor 2) é printada\n",
    "\n",
    ".a variável i assume o valor 3, e o loop é terminado"
   ]
  },
  {
   "cell_type": "markdown",
   "metadata": {},
   "source": [
    "___"
   ]
  },
  {
   "cell_type": "markdown",
   "metadata": {},
   "source": [
    "Agora vamos ver um exemplo de como resolver um problema um pouco mais complexo usando o for e a função range."
   ]
  },
  {
   "cell_type": "markdown",
   "metadata": {},
   "source": [
    "<b><i>Exemplo:</i></b> Faça um programa que receba uma palavra como input do usuário e soletre essa palavra."
   ]
  },
  {
   "cell_type": "markdown",
   "metadata": {},
   "source": [
    "Vamos pensar primeiro em como esse código deve agir\n",
    "\n",
    ".O código deve começar recebendo a palavra\n",
    "\n",
    ".A variável local deve então assumir um índice, começando do 0, e indo até o número de letras que a palavra tem\n",
    "\n",
    ".O código deve printar a letra correspondente ao índice\n",
    "\n",
    ".O código deve parar de executar quando a palavra não tiver mais letras"
   ]
  },
  {
   "cell_type": "code",
   "execution_count": 15,
   "metadata": {},
   "outputs": [
    {
     "name": "stdout",
     "output_type": "stream",
     "text": [
      "Entre uma palavra para ser soletrada: labrador\n",
      "l\n",
      "a\n",
      "b\n",
      "r\n",
      "a\n",
      "d\n",
      "o\n",
      "r\n"
     ]
    }
   ],
   "source": [
    "palavra = input(\"Entre uma palavra para ser soletrada: \")\n",
    "\n",
    "for i in range(len(palavra)):\n",
    "    print(palavra[i])"
   ]
  },
  {
   "cell_type": "markdown",
   "metadata": {},
   "source": [
    "Agora partiu exercícios!"
   ]
  },
  {
   "cell_type": "markdown",
   "metadata": {},
   "source": [
    "___"
   ]
  },
  {
   "cell_type": "markdown",
   "metadata": {},
   "source": [
    "<h3><b>Exercícios:</b></h3>"
   ]
  },
  {
   "cell_type": "markdown",
   "metadata": {},
   "source": [
    "<b><i>Exercício 6.1</i></b>: Imprima na tela os múltiplos de 4 até 100."
   ]
  },
  {
   "cell_type": "markdown",
   "metadata": {},
   "source": [
    "<b><i>Exercício 6.2</i></b>: Imprima na tela os números até 100 que são múltiplos de 2, 3 e 5."
   ]
  },
  {
   "cell_type": "markdown",
   "metadata": {},
   "source": [
    "<b><i>Exercício 6.3</i></b>: Faça um programa que implemente uma multiplicação usando apenas somas. O programa deve receber dois números do usuário e retornar a * b, mas só pode usar somas. Exemplo: Usuário entra 3 e 5, o programa faz 5 + 5 + 5 e retorna 15."
   ]
  },
  {
   "cell_type": "markdown",
   "metadata": {},
   "source": [
    "<b><i>Exercício 6.4</i></b>: Faça um programa que implemente uma potência usando apenas produto. O programa deve receber dois números do usuário e retornar a ** b, mas só pode usar produto. Exemplo: Usuário entra 5 e 3, o programa faz 5 * 5 * 5 e retorna 125."
   ]
  },
  {
   "cell_type": "markdown",
   "metadata": {},
   "source": [
    "<b><i>Exercício 6.5</i></b>: Faça um programa que receba um número de 0 a 9 e traduza isso para uma letra, com 0 representando a, 1 representando b e assim por diante até a letra j. O programa deve imprimir o resultado na tela, e funcionar para qualquer uma das letras de a até j, ou seja, números 0 até 9. "
   ]
  },
  {
   "cell_type": "markdown",
   "metadata": {},
   "source": [
    "<b><i>Exercício 6.6</i></b>: Faça um programa que receba uma mensagem em números e traduza isso para letras, com 0 representando a, 1 representando b e assim por diante até a letra j. As palavras que você deve testar são: 2080, 2062 e 1420, mas o programa deve funcionar para qualquer palavra que só contenha as letras a, b, c, d, e, f, g, h, i, j."
   ]
  },
  {
   "cell_type": "markdown",
   "metadata": {},
   "source": [
    "<b><i>Exercício 6.7</i></b>: Faça um programa que receba uma palavra e retorne essa mesma palavra sem suas vogais. Ex input: programar, output: prgrmr."
   ]
  },
  {
   "cell_type": "markdown",
   "metadata": {},
   "source": [
    "<b><i>Exercício 6.8</i></b>: Faça um programa que pegue um inteiro como input do usuário e teste se esse número é ou não um primo. Ele deve imprimir o resultado \"é primo\" ou \"não é primo\" na tela.\n",
    "\n",
    "<i>Um número primo é aquele que só é divisível por 1 e por ele mesmo, ou seja, um número x é primo se para qualquer y diferente de 1 ou x, <b>y % x != 0</b></i>"
   ]
  },
  {
   "cell_type": "markdown",
   "metadata": {},
   "source": [
    "___"
   ]
  },
  {
   "cell_type": "markdown",
   "metadata": {},
   "source": [
    "<h1><b>7. Os Loops while</b></h1>"
   ]
  },
  {
   "cell_type": "markdown",
   "metadata": {},
   "source": [
    "___"
   ]
  },
  {
   "cell_type": "code",
   "execution_count": 7,
   "metadata": {},
   "outputs": [
    {
     "name": "stdout",
     "output_type": "stream",
     "text": [
      "0\n",
      "1\n",
      "2\n"
     ]
    }
   ],
   "source": [
    "num = 0\n",
    "\n",
    "while num != 3:\n",
    "    print(num)\n",
    "    num += 1"
   ]
  },
  {
   "cell_type": "markdown",
   "metadata": {},
   "source": [
    "Agora vamos falar um pouco dos loops <b><i>while</i></b>. Esse tipo de loop é muito poderoso, mas muito perigoso! Ele vai rodar um bloco de código <b>enquanto</b> uma certa condição for verdadeira, e é aí que mora o perigo. Esse <b>enquanto</b> pode ser <b>para sempre</b>, e você deve tomar muito cuidado com isso."
   ]
  },
  {
   "cell_type": "markdown",
   "metadata": {},
   "source": [
    "A estrutura básica de um loop while vai ser\n",
    "\n",
    "<p><b>while</b> <i>(condição == True)</i><b>:</b></p>\n",
    "&nbsp;&nbsp;&nbsp;&nbsp;<i>código</i>"
   ]
  },
  {
   "cell_type": "markdown",
   "metadata": {},
   "source": [
    "Mas você pode escrever só <b>while (condição):</b> e o código já entende que é quando ela for verdadeira."
   ]
  },
  {
   "cell_type": "markdown",
   "metadata": {},
   "source": [
    "Vamos ver um exemplo de como resolver um problema com o loop while."
   ]
  },
  {
   "cell_type": "markdown",
   "metadata": {},
   "source": [
    "____"
   ]
  },
  {
   "cell_type": "markdown",
   "metadata": {},
   "source": [
    "<b><i>Exemplo</i></b>: Imprima na tela os 100 primeiros números que são múltiplos de 3."
   ]
  },
  {
   "cell_type": "markdown",
   "metadata": {},
   "source": [
    " "
   ]
  },
  {
   "cell_type": "markdown",
   "metadata": {},
   "source": [
    "Esse problema pode ser resolvido de várias formas, mas vamos resolver com while para entender como usar a ferramenta\n",
    "\n",
    "Primeiro vamos pensar em como podemos resolver esse problema:\n",
    "\n",
    ".Vamos criar uma variável counter, que vai funcionar como um contador\n",
    "\n",
    ".Vamos criar também uma variável number, que vai ser o número a ser testado se é múltiplo de 3\n",
    "\n",
    ".Vamos adicionar 1 ao contador sempre que number for múltiplo de 3\n",
    "\n",
    ".O while deve executar <b>enquanto</b> o contador for menor que 100\n",
    "\n",
    ".Dentro desse while nós temos uma condição, se number for múltiplo de 3, nós somamos 1 ao contador e printamos number\n",
    "\n",
    "Mas nós precisamos alterar number, se não ele vai ficar só em 1 e o loop vai executar eternamente\n",
    "\n",
    ".Toda vez que ele sair do if nós adicionamos 1, assim ele vai testando para 1, 2, 3... até sair do while."
   ]
  },
  {
   "cell_type": "code",
   "execution_count": 18,
   "metadata": {},
   "outputs": [
    {
     "name": "stdout",
     "output_type": "stream",
     "text": [
      "3,6,9,12,15,18,21,24,27,30,33,36,39,42,45,48,51,54,57,60,63,66,69,72,75,78,81,84,87,90,93,96,99,102,105,108,111,114,117,120,123,126,129,132,135,138,141,144,147,150,153,156,159,162,165,168,171,174,177,180,183,186,189,192,195,198,201,204,207,210,213,216,219,222,225,228,231,234,237,240,243,246,249,252,255,258,261,264,267,270,273,276,279,282,285,288,291,294,297,300,fim\n"
     ]
    }
   ],
   "source": [
    "counter = 0\n",
    "number = 1\n",
    "while counter < 100:\n",
    "    if number % 3 == 0:\n",
    "        counter += 1\n",
    "        print(number, end=',')\n",
    "    number += 1\n",
    "\n",
    "print(\"fim\")\n",
    "    "
   ]
  },
  {
   "cell_type": "markdown",
   "metadata": {},
   "source": [
    "Agora vamos para os exercícios!"
   ]
  },
  {
   "cell_type": "markdown",
   "metadata": {},
   "source": [
    "___"
   ]
  },
  {
   "cell_type": "markdown",
   "metadata": {},
   "source": [
    "<h3><b>Exercícios:</b></h3>"
   ]
  },
  {
   "cell_type": "markdown",
   "metadata": {},
   "source": [
    "<b><i>Exercício 7.1</i></b>: Faça um programa que peça um número inteiro <i>num</i> como input do usuário, o programa deve, então, imprimir na tela todos os números múltiplos de 2 ou 7 até <i>num</i> (incluindo <i>num</i>, caso ele seja). Ex: <i>num</i> = 10, output = 2, 4, 6, 7, 8, 10. "
   ]
  },
  {
   "cell_type": "markdown",
   "metadata": {},
   "source": [
    "<b><i>Exercício 7.2</i></b>: Faça um programa que peça um número inteiro <i>num</i> como input do usuário, o programa deve, então, imprimir na tela os <i>num</i> primeiros múltiplos de 2 <b>e</b> 7. Ex: <i>num</i> = 3, out = 14, 28, 42"
   ]
  },
  {
   "cell_type": "markdown",
   "metadata": {},
   "source": [
    "<b><i>Exercício 7.3</i></b>: Faça um programa que peça um número inteiro <i>num</i> como input do usuário, esse programa deve, então, printar todos os números primos até <i>num</i>. Ex: input = 10, output = 2, 3, 5, 7\n",
    "\n",
    "<i>Um número primo é aquele que só é divisível por 1 e por ele mesmo, ou seja, um número x é primo se para qualquer y diferente de 1 ou x, <b>y % x != 0</b></i>"
   ]
  },
  {
   "cell_type": "markdown",
   "metadata": {},
   "source": [
    "<b><i>Exercício 7.4</i></b>: Faça um programa que peça um número inteiro <i>num</i> como input do usuário, esse programa deve, então, printar os <i>num</i> primeiros primos. Ex: input = 10, output = 2, 3, 5, 7, 11, 13, 17, 19, 23, 29"
   ]
  },
  {
   "cell_type": "markdown",
   "metadata": {},
   "source": [
    "___"
   ]
  },
  {
   "cell_type": "markdown",
   "metadata": {},
   "source": [
    "<h3>Dicas para Loops for e while:</h3>\n",
    "\n",
    "Lembre-se que um loop executa o bloco de código e depois volta para o começo. No programa:\n",
    "\n",
    "    \n"
   ]
  },
  {
   "cell_type": "code",
   "execution_count": 1,
   "metadata": {},
   "outputs": [
    {
     "name": "stdout",
     "output_type": "stream",
     "text": [
      "0\n",
      "1\n",
      "2\n"
     ]
    }
   ],
   "source": [
    "for i in range(3):\n",
    "    print(i)"
   ]
  },
  {
   "cell_type": "markdown",
   "metadata": {},
   "source": [
    "O programa começa na linha do for, executa o bloco de código em baixo, depois volta para a linha do for. E isso se repete até que o loop termine (nesse caso, quando a variável local i assume o valor 3)."
   ]
  },
  {
   "cell_type": "markdown",
   "metadata": {},
   "source": [
    " "
   ]
  },
  {
   "cell_type": "markdown",
   "metadata": {},
   "source": [
    "<b>A diferença entre for e while</b> é que o for itera (ou executa o loop) de acordo com uma coleção de coisas, como um range() ou uma lista. Um while pode iterar quanto você quiser, inclusive <b>para sempre</b>, o que torna ele mais difícil de ser usado bem. Por isso você deve sempre evitar usar o while, a menos que ele seja necessário. Embora seja muito poderoso, pode causar muitos erros fatais. \n",
    "\n",
    "Para resumir, algumas dicas:"
   ]
  },
  {
   "cell_type": "markdown",
   "metadata": {},
   "source": [
    ".Use um for no lugar de um while sempre que possível\n",
    "\n",
    ".Só use o while quando isso significar que o programa pode rodar pra sempre, ou por um número de vezes que você ainda não sabe (essa regra é específica para programação em python)"
   ]
  },
  {
   "cell_type": "markdown",
   "metadata": {},
   "source": [
    "___"
   ]
  },
  {
   "cell_type": "markdown",
   "metadata": {},
   "source": [
    "<h1><b>8. Tuplas, Listas e Mutabilidade</b></h1>"
   ]
  },
  {
   "cell_type": "markdown",
   "metadata": {},
   "source": [
    "___"
   ]
  },
  {
   "cell_type": "code",
   "execution_count": 28,
   "metadata": {},
   "outputs": [],
   "source": [
    "tupla = (0, 1, 2, 3, 4, 5)\n",
    "\n",
    "lista = [0, 1, 2, 3, 4 ,5]"
   ]
  },
  {
   "cell_type": "markdown",
   "metadata": {},
   "source": [
    "Agora vamos falar sobre tuplas e listas. Esses construtos vão ser muito úteis, e vão tornar ainda mais poderosos os programas que você já consegue fazer até aqui."
   ]
  },
  {
   "cell_type": "markdown",
   "metadata": {},
   "source": [
    "___"
   ]
  },
  {
   "cell_type": "markdown",
   "metadata": {},
   "source": [
    "<h2><b>- Tuplas</b></h2>"
   ]
  },
  {
   "cell_type": "markdown",
   "metadata": {},
   "source": [
    "Uma tupla é, assim como uma string, uma sequência de elementos, a diferença é que uma tupla não precisa ser formada por caracteres, pode ter dados de tipos como, por exemplo, inteiros. Exemplo:"
   ]
  },
  {
   "cell_type": "code",
   "execution_count": 9,
   "metadata": {},
   "outputs": [
    {
     "name": "stdout",
     "output_type": "stream",
     "text": [
      "elemento 1 é 1\n",
      "elemento 2 é a\n",
      "elemento 3 é 4.5\n",
      "elemento 4 é True\n",
      "elemento 5 é (1, 2.5, False, 'a')\n"
     ]
    }
   ],
   "source": [
    "tupla = (1, \"a\", 4.5, True, (1, 2.5, False, \"a\")) #essa é nossa tupla, agora vamos printar todos os elementos dela:\n",
    "\n",
    "for i in range(len(tupla)):\n",
    "    print(\"elemento\", str(i + 1), \"é\", tupla[i])"
   ]
  },
  {
   "cell_type": "markdown",
   "metadata": {},
   "source": [
    "Aqui vemos o primeiro elemento, que é do tipo inteiro, enquanto o segundo é uma string, o terceiro um float, o quarto um bool e o quinto elemento é outra tupla. Sim, podemos até ter tuplas como elementos de tuplas, e também podemos acessar os elementos dessas tuplas de dentro também. Exemplo:"
   ]
  },
  {
   "cell_type": "code",
   "execution_count": 16,
   "metadata": {},
   "outputs": [],
   "source": [
    "tupla = ((1, 2, 3), (4, 5, 6), (7, 8, 9))"
   ]
  },
  {
   "cell_type": "markdown",
   "metadata": {},
   "source": [
    "Aqui vemos que essa tupla é formada por três outras tuplas, cada uma com seus elementos. Vamos agora acessar essas tuplas:"
   ]
  },
  {
   "cell_type": "code",
   "execution_count": 13,
   "metadata": {},
   "outputs": [
    {
     "name": "stdout",
     "output_type": "stream",
     "text": [
      "(1, 2, 3)\n"
     ]
    }
   ],
   "source": [
    "print(tupla[0])"
   ]
  },
  {
   "cell_type": "markdown",
   "metadata": {},
   "source": [
    "e para acessar os elementos da tupla de dentro, é só fazermos a mesma coisa"
   ]
  },
  {
   "cell_type": "code",
   "execution_count": 15,
   "metadata": {},
   "outputs": [
    {
     "name": "stdout",
     "output_type": "stream",
     "text": [
      "3\n"
     ]
    }
   ],
   "source": [
    "print(tupla[0][2])"
   ]
  },
  {
   "cell_type": "markdown",
   "metadata": {},
   "source": [
    "Assim acessamos o terceiro elemento da primeira tupla. Agora para printar todos os elementos de todas as tuplas internas, o que podemos fazer? Vamos tornar isso um exemplo!"
   ]
  },
  {
   "cell_type": "markdown",
   "metadata": {},
   "source": [
    "<b><i>Exemplo</i></b>: Tendo uma tupla = ((1, 2, 3), (4, 5, 6), (7, 8, 9)), printe todos os elementos internos na forma de um quadrado de elementos."
   ]
  },
  {
   "cell_type": "markdown",
   "metadata": {},
   "source": [
    "Vamos pensar em como resolver isso. Para acessar todos os elementos da tupla, podemos usar um for que acesse do elemento 0 até o 2. Na tupla interna, podemos simplesmente fazer a mesma coisa, então usamos um for dentro de um for."
   ]
  },
  {
   "cell_type": "code",
   "execution_count": 21,
   "metadata": {},
   "outputs": [
    {
     "name": "stdout",
     "output_type": "stream",
     "text": [
      "1\n",
      "2\n",
      "3\n",
      "4\n",
      "5\n",
      "6\n",
      "7\n",
      "8\n",
      "9\n"
     ]
    }
   ],
   "source": [
    "tupla = ((1, 2, 3), (4, 5, 6), (7, 8, 9))\n",
    "\n",
    "for i in range(3):\n",
    "    for j in range(3):\n",
    "        print(tupla[i][j])"
   ]
  },
  {
   "cell_type": "markdown",
   "metadata": {},
   "source": [
    "Agora já conseguimos printar todos os elementos na ordem que queríamos, mas para ficar na forma de um quadrado, como podemos fazer? É só nós não pularmos linha no print dentro do segundo for, e pularmos sempre que sair desse segundo for. Da seguinte forma:"
   ]
  },
  {
   "cell_type": "code",
   "execution_count": 22,
   "metadata": {},
   "outputs": [
    {
     "name": "stdout",
     "output_type": "stream",
     "text": [
      "1 2 3 \n",
      "4 5 6 \n",
      "7 8 9 \n"
     ]
    }
   ],
   "source": [
    "tupla = ((1, 2, 3), (4, 5, 6), (7, 8, 9))\n",
    "\n",
    "for i in range(3):\n",
    "    for j in range(3):\n",
    "        print(tupla[i][j], end=\" \")\n",
    "    print()"
   ]
  },
  {
   "cell_type": "markdown",
   "metadata": {},
   "source": [
    "E assim nós temos nosso quadrado com os elementos da tupla!"
   ]
  },
  {
   "cell_type": "markdown",
   "metadata": {},
   "source": [
    " "
   ]
  },
  {
   "cell_type": "markdown",
   "metadata": {},
   "source": [
    "<h3>Imutabilidade de Tuplas</h3>"
   ]
  },
  {
   "cell_type": "markdown",
   "metadata": {},
   "source": [
    "Antes de continuar, é importante notar que <b>tuplas são imutáveis!</b> O que isso significa? Significa que nós não podemos alterar elementos de uma tupla. Uma vez que uma tupla é definida, seus elementos tupla[0], tupla[1] e assim por diante até tupla[len(tupla)] nunca podem ser trocados, serão sempre os mesmos. Vamos ver o que acontece se nós tentarmos alterar um dos elementos de uma tupla:"
   ]
  },
  {
   "cell_type": "code",
   "execution_count": 24,
   "metadata": {},
   "outputs": [
    {
     "ename": "TypeError",
     "evalue": "'tuple' object does not support item assignment",
     "output_type": "error",
     "traceback": [
      "\u001b[1;31m---------------------------------------------------------------------------\u001b[0m",
      "\u001b[1;31mTypeError\u001b[0m                                 Traceback (most recent call last)",
      "\u001b[1;32m<ipython-input-24-1929ec7928ef>\u001b[0m in \u001b[0;36m<module>\u001b[1;34m\u001b[0m\n\u001b[0;32m      1\u001b[0m \u001b[0mtupla\u001b[0m \u001b[1;33m=\u001b[0m \u001b[1;33m(\u001b[0m\u001b[1;34m\"a\"\u001b[0m\u001b[1;33m,\u001b[0m \u001b[1;34m\"b\"\u001b[0m\u001b[1;33m,\u001b[0m \u001b[1;34m\"c\"\u001b[0m\u001b[1;33m)\u001b[0m\u001b[1;33m\u001b[0m\u001b[1;33m\u001b[0m\u001b[0m\n\u001b[0;32m      2\u001b[0m \u001b[1;33m\u001b[0m\u001b[0m\n\u001b[1;32m----> 3\u001b[1;33m \u001b[0mtupla\u001b[0m\u001b[1;33m[\u001b[0m\u001b[1;36m0\u001b[0m\u001b[1;33m]\u001b[0m \u001b[1;33m=\u001b[0m \u001b[1;36m1\u001b[0m\u001b[1;33m\u001b[0m\u001b[1;33m\u001b[0m\u001b[0m\n\u001b[0m",
      "\u001b[1;31mTypeError\u001b[0m: 'tuple' object does not support item assignment"
     ]
    }
   ],
   "source": [
    "tupla = (\"a\", \"b\", \"c\")\n",
    "\n",
    "tupla[0] = 1"
   ]
  },
  {
   "cell_type": "markdown",
   "metadata": {},
   "source": [
    "'tuple' object does not support item assignment é a mensagem que nós obtivemos. Ou seja, uma tupla não pode ter seus elementos mudados, isso resulta em um erro. "
   ]
  },
  {
   "cell_type": "markdown",
   "metadata": {},
   "source": [
    " "
   ]
  },
  {
   "cell_type": "markdown",
   "metadata": {},
   "source": [
    "<h3>Adicionar Elementos a Tuplas</h3>"
   ]
  },
  {
   "cell_type": "markdown",
   "metadata": {},
   "source": [
    "Embora a tupla seja imutável no sentido de não podermos alterar seus elementos, nós podemos adicionar elementos a tuplas. Isso é facilmente feito usando o operador de + da seguinte forma:"
   ]
  },
  {
   "cell_type": "code",
   "execution_count": 29,
   "metadata": {},
   "outputs": [
    {
     "name": "stdout",
     "output_type": "stream",
     "text": [
      "('a', 'b', 'c', 'd', 'e', 'f')\n"
     ]
    }
   ],
   "source": [
    "tupla1 = (\"a\", \"b\", \"c\")\n",
    "tupla2 = (\"d\", \"e\", \"f\")\n",
    "\n",
    "tupla1 = tupla1 + tupla2\n",
    "\n",
    "print(tupla1)"
   ]
  },
  {
   "cell_type": "markdown",
   "metadata": {},
   "source": [
    "E assim nós adicionamos os elementos da tupla2 à tupla1 e formamos uma nova tupla. Mesmo se quisermos adicionar só um elemento, nós devemos deixar esse 1 elemento dentro de uma tupla, da seguinte forma:"
   ]
  },
  {
   "cell_type": "code",
   "execution_count": 33,
   "metadata": {},
   "outputs": [
    {
     "name": "stdout",
     "output_type": "stream",
     "text": [
      "(1, 2, 3, 4)\n"
     ]
    }
   ],
   "source": [
    "tupla1 = (1, 2, 3)\n",
    "tupla1 = tupla1 + tuple([4])\n",
    "\n",
    "print(tupla)"
   ]
  },
  {
   "cell_type": "markdown",
   "metadata": {},
   "source": [
    "Aqui nós usamos a função tuple, que é uma função que recebe uma lista como seu argumento, e transforma essa lista em uma tupla. Mas o que é uma lista? vamos ver agora!"
   ]
  },
  {
   "cell_type": "markdown",
   "metadata": {},
   "source": [
    "___"
   ]
  },
  {
   "cell_type": "markdown",
   "metadata": {},
   "source": [
    "<h2><b>- Listas</b></h2>"
   ]
  },
  {
   "cell_type": "markdown",
   "metadata": {},
   "source": [
    "Uma lista, assim como uma tupla e uma string, também é uma sequência de elementos, e esses elementos também podem ser de diferentes tipos, mas a lista tem um extra que é: <b>listas podem ser mudadas!</b>"
   ]
  },
  {
   "cell_type": "code",
   "execution_count": 38,
   "metadata": {},
   "outputs": [],
   "source": [
    "lista1 = [(1, 2, 3), 2, [\"a\", True], False, 3.5, \"a\", [1, 2, \"abc\"]]"
   ]
  },
  {
   "cell_type": "markdown",
   "metadata": {},
   "source": [
    "Aqui, por exemplo, nós temos uma lista que tem, como seus elementos, outras listas, uma tupla, inteiro, bool, float. Agora vamos ver um exemplo de como mudar uma lista:"
   ]
  },
  {
   "cell_type": "code",
   "execution_count": 39,
   "metadata": {},
   "outputs": [
    {
     "name": "stdout",
     "output_type": "stream",
     "text": [
      "[1, 2, 'olá', 4, 5]\n"
     ]
    }
   ],
   "source": [
    "lista1 = [1, 2, 3, 4, 5]\n",
    "\n",
    "lista1[2] = \"olá\"\n",
    "print(lista1)"
   ]
  },
  {
   "cell_type": "markdown",
   "metadata": {},
   "source": [
    "Aqui nós percebemos que, para acessar um elemento de uma lista, nós fazemos assim como na tupla! O primeiro elemento pode ser acessado com lista[0]. Mas o que nós não tinhamos falado na tupla, que você pode fazer para acessar múltiplos elementos em listas ou em tuplas, é que você pode, assim como em string slicing, fazer, por exemplo, lista[0:2], ou tupla[0:2]."
   ]
  },
  {
   "cell_type": "code",
   "execution_count": 41,
   "metadata": {},
   "outputs": [
    {
     "data": {
      "text/plain": [
       "[1, 2]"
      ]
     },
     "execution_count": 41,
     "metadata": {},
     "output_type": "execute_result"
    }
   ],
   "source": [
    "lista1[0:2]"
   ]
  },
  {
   "cell_type": "markdown",
   "metadata": {},
   "source": [
    "Para adicionar elementos a listas nós também fazemos assim como na tupla, é só adicionarmos esses elementos dentro de uma outra lista e usar o operador +."
   ]
  },
  {
   "cell_type": "code",
   "execution_count": 42,
   "metadata": {},
   "outputs": [
    {
     "name": "stdout",
     "output_type": "stream",
     "text": [
      "[1, 2, 3, 4, 5, 6]\n"
     ]
    }
   ],
   "source": [
    "lista1 = [1, 2, 3]\n",
    "lista2 = [4, 5]\n",
    "elemento = [6]\n",
    "\n",
    "lista = lista1 + lista2 + elemento\n",
    "\n",
    "print(lista)"
   ]
  },
  {
   "cell_type": "markdown",
   "metadata": {},
   "source": [
    "___"
   ]
  },
  {
   "cell_type": "markdown",
   "metadata": {},
   "source": [
    "<h2>- Vetores e Listas</h2>"
   ]
  },
  {
   "cell_type": "markdown",
   "metadata": {},
   "source": [
    "Um vetor é quase como uma lista, porém todos os seus elementos são do mesmo tipo. Assim, teoricamente, ao dividir um vetor por 3 você deveria dividir todos os seus elementos por 3, mas nós não temos vetores suportados nativamente em python (sem bibliotecas extra), então nós usamos listas para agir como vetores. Então para dividir todos os elementos de um vetor por 3, nós não podemos fazer array/3, temos que acessar cada elemento da seguinte forma:"
   ]
  },
  {
   "cell_type": "code",
   "execution_count": 47,
   "metadata": {},
   "outputs": [
    {
     "name": "stdout",
     "output_type": "stream",
     "text": [
      "[1.0, 2.0, 3.0, 4.0, 5.0]\n"
     ]
    }
   ],
   "source": [
    "array1 = [3, 6, 9, 12, 15]\n",
    "\n",
    "for i in range(len(vector1)):\n",
    "    array1[i] = array1[i] / 3\n",
    "    \n",
    "print(array1)"
   ]
  },
  {
   "cell_type": "markdown",
   "metadata": {},
   "source": [
    "Ao somar dois vetores, nós devemos somar cada um de seus elementos. Assim, [1, 2, 3, 4] + [-1, -2, -3, -4] deveria resultar em [0, 0, 0, 0], mas com as listas em python isso resulta:"
   ]
  },
  {
   "cell_type": "code",
   "execution_count": 83,
   "metadata": {},
   "outputs": [
    {
     "name": "stdout",
     "output_type": "stream",
     "text": [
      "[1, 2, 3, 4, -1, -2, -3, -4]\n"
     ]
    }
   ],
   "source": [
    "print([1, 2, 3, 4] + [-1, -2, -3, -4])"
   ]
  },
  {
   "cell_type": "markdown",
   "metadata": {},
   "source": [
    "Então, para transformar listas em vetores no python, nós mesmos devemos implementar as operações."
   ]
  },
  {
   "cell_type": "markdown",
   "metadata": {},
   "source": [
    "___"
   ]
  },
  {
   "cell_type": "markdown",
   "metadata": {},
   "source": [
    "<h2><b>- Matrizes</b></h2>"
   ]
  },
  {
   "attachments": {
    "identidade.png": {
     "image/png": "[encoded data removed]"
    }
   },
   "cell_type": "markdown",
   "metadata": {},
   "source": [
    "Você se lembra como é uma matriz? uma matriz é algo como isto:\n",
    "\n",
    "![identidade.png](attachment:identidade.png)\n",
    "&nbsp;&nbsp;&nbsp;&nbsp;&nbsp;&nbsp;&nbsp;&nbsp;&nbsp;&nbsp;&nbsp;&nbsp;&nbsp;&nbsp;&nbsp;&nbsp;&nbsp;&nbsp;&nbsp;&nbsp;&nbsp;&nbsp;&nbsp;&nbsp;&nbsp;&nbsp;&nbsp;&nbsp;&nbsp;&nbsp;&nbsp;&nbsp;&nbsp;&nbsp;&nbsp;&nbsp;&nbsp;&nbsp;&nbsp;&nbsp;&nbsp;&nbsp;&nbsp;&nbsp;&nbsp;&nbsp;&nbsp;&nbsp;&nbsp;&nbsp;&nbsp;&nbsp;&nbsp;&nbsp;&nbsp;&nbsp;&nbsp;&nbsp;&nbsp;&nbsp;&nbsp;&nbsp;&nbsp;&nbsp;&nbsp;&nbsp;&nbsp;&nbsp;&nbsp;&nbsp;&nbsp;&nbsp;&nbsp;&nbsp;&nbsp;&nbsp;&nbsp;&nbsp;&nbsp;&nbsp;&nbsp;&nbsp;&nbsp;&nbsp;<i>Matriz quadrada de ordem 4, ou seja, 4 linhas e 4 colunas</i>\n",
    "\n",
    "\n",
    "ou seja, basicamente um vetor bidimensional. Na matemática, chamando uma matriz de A, nós falamos dos seus elementos como Aij, com i sendo a linha e j sendo a coluna. Assim, cada elemento da diagonal principal dessa matriz, A11, A22, A33 e A44 são iguais a 1, enquanto todos os outros são iguais a 0. Na primeira linha nós temos os elementos A11, A12, A13 e A14 e assim por diante."
   ]
  },
  {
   "cell_type": "markdown",
   "metadata": {},
   "source": [
    "Programando em python, nós vamos tratar a matriz da mesma forma que tratamos na matemática, porém a matriz aqui vai ser uma lista de listas, da seguinte forma:"
   ]
  },
  {
   "cell_type": "code",
   "execution_count": 53,
   "metadata": {},
   "outputs": [
    {
     "name": "stdout",
     "output_type": "stream",
     "text": [
      "[[1, 2, 3], [4, 5, 6], [7, 8, 9]]\n"
     ]
    }
   ],
   "source": [
    "matrizA = [[1, 2, 3], [4, 5, 6], [7, 8, 9]]\n",
    "\n",
    "print(matrizA)"
   ]
  },
  {
   "cell_type": "markdown",
   "metadata": {},
   "source": [
    "Ou também podemos escrever, de uma forma mais fácil de reconhecer, como:"
   ]
  },
  {
   "cell_type": "code",
   "execution_count": 54,
   "metadata": {},
   "outputs": [
    {
     "name": "stdout",
     "output_type": "stream",
     "text": [
      "[[1, 2, 3], [4, 5, 6], [7, 8, 9]]\n"
     ]
    }
   ],
   "source": [
    "matrizA = [[1, 2, 3],\n",
    "           [4, 5, 6],\n",
    "           [7, 8, 9]]\n",
    "\n",
    "print(matrizA)"
   ]
  },
  {
   "cell_type": "markdown",
   "metadata": {},
   "source": [
    "As duas formas são equivalentes."
   ]
  },
  {
   "cell_type": "markdown",
   "metadata": {},
   "source": [
    "Para acessar os elementos da matriz, nós fazemos assim como fazíamos com tuplas dentro de tuplas ou listas dentro de listas (que é exatamente o que é uma matriz), da seguinte forma:"
   ]
  },
  {
   "cell_type": "markdown",
   "metadata": {},
   "source": [
    "Para acessar o primeiro elemento da primeira linha da matriz, ou o elemento A11, fazemos:"
   ]
  },
  {
   "cell_type": "code",
   "execution_count": 57,
   "metadata": {},
   "outputs": [
    {
     "name": "stdout",
     "output_type": "stream",
     "text": [
      "1\n"
     ]
    }
   ],
   "source": [
    "print(matrizA[0][0])"
   ]
  },
  {
   "cell_type": "markdown",
   "metadata": {},
   "source": [
    "Assim como para acessar o segundo elemento da primeira linha, fazemos:"
   ]
  },
  {
   "cell_type": "code",
   "execution_count": 59,
   "metadata": {},
   "outputs": [
    {
     "name": "stdout",
     "output_type": "stream",
     "text": [
      "2\n"
     ]
    }
   ],
   "source": [
    "print(matrizA[0][1])"
   ]
  },
  {
   "cell_type": "markdown",
   "metadata": {},
   "source": [
    "E para acessar o primeiro elemento da segunda linha? Muito simples também! Só fazer:"
   ]
  },
  {
   "cell_type": "code",
   "execution_count": 61,
   "metadata": {},
   "outputs": [
    {
     "name": "stdout",
     "output_type": "stream",
     "text": [
      "4\n"
     ]
    }
   ],
   "source": [
    "print(matrizA[1][0])"
   ]
  },
  {
   "cell_type": "markdown",
   "metadata": {},
   "source": [
    "E se quisermos toda uma coluna, digamos a terceira coluna da matriz? Fazemos o seguinte:"
   ]
  },
  {
   "cell_type": "code",
   "execution_count": 62,
   "metadata": {},
   "outputs": [
    {
     "name": "stdout",
     "output_type": "stream",
     "text": [
      "[7, 8, 9]\n"
     ]
    }
   ],
   "source": [
    "print(matrizA[2])"
   ]
  },
  {
   "cell_type": "markdown",
   "metadata": {},
   "source": [
    "Viu como é simples? Agora vamos ver um exemplo disso."
   ]
  },
  {
   "cell_type": "markdown",
   "metadata": {},
   "source": [
    "___"
   ]
  },
  {
   "cell_type": "markdown",
   "metadata": {},
   "source": [
    "<b><i>Exemplo</i></b>: Faça um programa que peça um input de um número inteiro <i>ordem</i> ao usuário, o programa deve, então fazer uma matriz identidade quadrada usando a <i>ordem</i> que o usuário especificou.\n",
    "\n",
    "<i>Uma matriz identidade é aquela que tem 1 em todos os elementos da sua diagonal principal, e 0 nos outros elementos.</i>"
   ]
  },
  {
   "cell_type": "markdown",
   "metadata": {},
   "source": [
    "___"
   ]
  },
  {
   "cell_type": "markdown",
   "metadata": {},
   "source": [
    "Vamos ver como fazer esse programa:\n",
    "\n",
    ".Primeiro nós devemos pegar o input do usuário\n",
    "\n",
    ".Depois nós definimos uma matriz vazia, que é a matriz a qual nós vamos adicionar os elementos\n",
    "\n",
    ".Vamos começar lembrando que queremos criar um número <i>ordem</i> de linhas, então fazemos isso com um for\n",
    "\n",
    ".Agora nós criamos uma variável <i>linha</i> que é uma lista vazia, para que nós adicionemos os elementos a ela, e depois adicionemos ela à matriz. Essa variável tem que ser zerada cada vez que entrar de novo no loop.\n",
    "\n",
    ".Agora, no segundo for, adicionamos os elementos à linha, lembrando da restrição que o elemento é 1 se i for igual a j, e 0 no caso contrário\n",
    "\n",
    ".Por fim adicionamos a linha à matriz, lembrando de adicionar ela dentro de outra lista, se não só seus elementos serão adicionados, e não a lista de elementos\n",
    "\n",
    ".O loop se repete até todas as linhas estarem adicionadas."
   ]
  },
  {
   "cell_type": "code",
   "execution_count": 79,
   "metadata": {},
   "outputs": [
    {
     "name": "stdout",
     "output_type": "stream",
     "text": [
      "Entre uma ordem para a matriz: 5\n",
      "[[1, 0, 0, 0, 0], [0, 1, 0, 0, 0], [0, 0, 1, 0, 0], [0, 0, 0, 1, 0], [0, 0, 0, 0, 1]]\n"
     ]
    }
   ],
   "source": [
    "ordem = int(input(\"Entre uma ordem para a matriz: \"))\n",
    "matriz = []\n",
    "\n",
    "for i in range(ordem):\n",
    "    linha = []\n",
    "    for j in range(ordem):\n",
    "        if i == j:\n",
    "            linha += [1]\n",
    "        else:\n",
    "            linha += [0]\n",
    "    matriz += [linha]\n",
    "            \n",
    "print(matriz)"
   ]
  },
  {
   "cell_type": "markdown",
   "metadata": {},
   "source": [
    "Agora para printar os elementos no formato da matriz nós só fazemos como já vimos no exemplo de printar os elementos de uma tupla na forma de um quadrado:"
   ]
  },
  {
   "cell_type": "code",
   "execution_count": 80,
   "metadata": {},
   "outputs": [
    {
     "name": "stdout",
     "output_type": "stream",
     "text": [
      "1 0 0 0 0 \n",
      "0 1 0 0 0 \n",
      "0 0 1 0 0 \n",
      "0 0 0 1 0 \n",
      "0 0 0 0 1 \n"
     ]
    }
   ],
   "source": [
    "for i in range(len(matriz)):\n",
    "    for j in range(len(matriz)):\n",
    "        print(matriz[i][j], end=\" \")\n",
    "    print()"
   ]
  },
  {
   "cell_type": "markdown",
   "metadata": {},
   "source": [
    "Ufa! Agora vamos para os exercícios:"
   ]
  },
  {
   "cell_type": "markdown",
   "metadata": {},
   "source": [
    "___"
   ]
  },
  {
   "cell_type": "markdown",
   "metadata": {},
   "source": [
    "<h3><b>Exercícios:</b></h3>"
   ]
  },
  {
   "cell_type": "markdown",
   "metadata": {},
   "source": [
    "<b><i>Exercício 8.1</i></b>: Qual é a diferença entre uma tupla e uma lista? "
   ]
  },
  {
   "cell_type": "markdown",
   "metadata": {},
   "source": [
    "<b><i>Exercício 8.2</i></b>: Qual é a diferença entre uma lista e um vetor? "
   ]
  },
  {
   "cell_type": "markdown",
   "metadata": {},
   "source": [
    "<b><i>Exercício 8.3</i></b>: Faça um programa que receba uma tupla como input e transforme ela em uma lista. O programa deve imprimir o resultado na tela."
   ]
  },
  {
   "cell_type": "markdown",
   "metadata": {},
   "source": [
    "<b><i>Exercício 8.4</i></b>: Faça um programa que receba uma lista como input e transforme ela em uma tupla. O programa deve imprimir o resultado na tela."
   ]
  },
  {
   "cell_type": "markdown",
   "metadata": {},
   "source": [
    "<b><i>Exercício 8.5</i></b>: Faça um programa que peça um número inteiro <i>n</i> do usuário, e faça uma lista de tamanho <i>n</i> com o elemento 1 em todas as suas posições. O programa deve imprimir o resultado na tela. "
   ]
  },
  {
   "cell_type": "markdown",
   "metadata": {},
   "source": [
    "<b><i>Exercício 8.6</i></b>: Faça um programa que peça um número inteiro <i>n</i> do usuário, e faça uma lista de tamanho <i>n</i> com os elementos 1, 2, 3, ... até <i>n</i> ocupando todas as suas posições. O programa deve imprimir o resultado na tela. "
   ]
  },
  {
   "cell_type": "markdown",
   "metadata": {},
   "source": [
    "<b><i>Exercício 8.7</i></b>: Faça um programa que receba uma lista como input e faça a lista ficar com seus elementos de trás para frente. O programa deve imprimir o resultado na tela."
   ]
  },
  {
   "cell_type": "markdown",
   "metadata": {},
   "source": [
    "<b><i>Exercício 8.8</i></b>: Faça um programa que permita a um usuário criar uma lista. O programa deve pedir input dos elementos até que o usuário entre com um número negativo, o programa deve então printar o resultado na tela (sem o número negativo)."
   ]
  },
  {
   "cell_type": "markdown",
   "metadata": {},
   "source": [
    "<b><i>Exercício 8.9</i></b>: Faça um programa que receba uma mensagem em letras e traduza isso para números, com 0 representando a, 1 representando b e assim por diante com todas as letras do alfabeto."
   ]
  },
  {
   "cell_type": "markdown",
   "metadata": {},
   "source": [
    "<b><i>Exercício 8.10</i></b>: Faça um programa que implemente a soma de dois vetores, como descrita na seção de vetores. O programa deve receber 2 vetores como inputs e imprimir na tela o resultado da sua soma."
   ]
  },
  {
   "cell_type": "markdown",
   "metadata": {},
   "source": [
    "<b><i>Exercício 8.11</i></b>: Faça um programa que pela um número inteiro como input do usuário e gere uma matriz quadrada da ordem desse input. Todos os elementos da matriz devem ser 0."
   ]
  },
  {
   "cell_type": "markdown",
   "metadata": {},
   "source": [
    "<b><i>Exercício 8.12</i></b>: Faça um programa que receba uma matriz como input e transforme todos os seus elementos em 1. O programa deve imprimir o resultado na tela."
   ]
  },
  {
   "cell_type": "markdown",
   "metadata": {},
   "source": [
    "<b><i>Exercício 8.13</i></b>: Faça um programa que receba um número <i>ordem</i> como input e crie uma matriz quadrada da ordem do input. Seus elementos devem ser 1, 2, 3, 4, 5, 6... até preencher todos os espaços da matriz. O programa deve imprimir o resultado na tela."
   ]
  },
  {
   "cell_type": "markdown",
   "metadata": {},
   "source": [
    "<b><i>Exercício 8.14</i></b>: Faça um programa que receba uma matriz como input e a transforme na sua matriz transposta. O programa deve imprimir o resultado na tela.\n",
    "\n",
    "<i>A matriz transposta é aquela na qual a ordem dos elementos é trocada de forma à matriz Aij virar a matriz Bji, sua linha vira sua coluna e sua coluna vira sua linha.</i>"
   ]
  },
  {
   "cell_type": "markdown",
   "metadata": {},
   "source": [
    "<b><i>Exercício 8.15</i></b>: Faça um programa que receba duas matrizes como input e realize o produto entre essas matrizes. O programa deve imprimir o resultado na tela.\n",
    "\n",
    "<i>A multiplicação de matrizes é feita multiplicando coluna por linha e somando, como na imagem a seguir:</i>"
   ]
  },
  {
   "attachments": {
    "produtomatriz.png": {
     "image/png": "[encoded data removed]"
    }
   },
   "cell_type": "markdown",
   "metadata": {},
   "source": [
    "![produtomatriz.png](attachment:produtomatriz.png)"
   ]
  },
  {
   "cell_type": "markdown",
   "metadata": {},
   "source": [
    "<b><i>8.16</i></b>: Faça um programa que receba uma lista como input, e, então, retorne essa lista com todos os seus elementos ordenados. O programa deve imprimir o resultado na tela."
   ]
  },
  {
   "cell_type": "markdown",
   "metadata": {},
   "source": [
    "___"
   ]
  },
  {
   "cell_type": "markdown",
   "metadata": {},
   "source": [
    "<h1><b>9. Funções e Abstração</b></h1>"
   ]
  },
  {
   "cell_type": "markdown",
   "metadata": {},
   "source": [
    "___"
   ]
  },
  {
   "cell_type": "markdown",
   "metadata": {},
   "source": [
    "Nós já usamos várias funções até agora, mas aqui é onde daremos um passo à frente nesse quesito. Vamos começar com um problema:"
   ]
  },
  {
   "cell_type": "markdown",
   "metadata": {},
   "source": [
    "<b>Problema</b>: faça um programa que peça um inteiro <i>num</i> como input do usuário e imprima na tela os <i>num</i> primeiros primos."
   ]
  },
  {
   "cell_type": "markdown",
   "metadata": {},
   "source": [
    "Nós podemos começar pensando em um programa pra testar se é primo ou não, como esse:"
   ]
  },
  {
   "cell_type": "code",
   "execution_count": 27,
   "metadata": {},
   "outputs": [
    {
     "name": "stdout",
     "output_type": "stream",
     "text": [
      "Entre um número: 23\n",
      "é primo\n"
     ]
    }
   ],
   "source": [
    "numero = int(input(\"Entre um número: \"))\n",
    "\n",
    "prime = True\n",
    "for i in range(2, numero):\n",
    "    if numero == 1:\n",
    "        prime = False\n",
    "        \n",
    "    elif numero % (i) == 0:\n",
    "        prime = False\n",
    "        \n",
    "if prime:\n",
    "    print(\"é primo\")\n",
    "else:\n",
    "    print(\"não é primo\")"
   ]
  },
  {
   "cell_type": "markdown",
   "metadata": {},
   "source": [
    "Agora fazemos um programa com um contador, esse programa deve adicionar 1 ao contador sempre que achar um número primo, algo assim:"
   ]
  },
  {
   "cell_type": "code",
   "execution_count": 34,
   "metadata": {},
   "outputs": [
    {
     "name": "stdout",
     "output_type": "stream",
     "text": [
      "Entre um inteiro: 10\n",
      "2, 3, 5, 7, 11, 13, 17, 19, 23, 29, fim\n"
     ]
    }
   ],
   "source": [
    "num = int(input(\"Entre um inteiro: \"))\n",
    "\n",
    "numero = 2\n",
    "counter = 0\n",
    "\n",
    "while counter < num:\n",
    "    \n",
    "    ##########################\n",
    "    prime = True\n",
    "    for i in range(2, numero):\n",
    "        if numero == 1:\n",
    "            prime = False\n",
    "        \n",
    "        elif numero % (i) == 0:\n",
    "            prime = False \n",
    "    ###########################        \n",
    "    \n",
    "    if prime:\n",
    "        print(numero, end=\", \")\n",
    "        counter += 1\n",
    "    numero +=1\n",
    "    \n",
    "print(\"fim\")"
   ]
  },
  {
   "cell_type": "markdown",
   "metadata": {},
   "source": [
    "Mas perceba que esse bloco de código entre os ##### é simplesmente o código que checa se é primo ou não. Não seria muito mais fácil e simples se nós pudéssemos transformar esse bloco de código em uma função? Agora nós poderemos!"
   ]
  },
  {
   "cell_type": "markdown",
   "metadata": {},
   "source": [
    "<h2>Definindo uma função</h2>"
   ]
  },
  {
   "cell_type": "markdown",
   "metadata": {},
   "source": [
    "___"
   ]
  },
  {
   "cell_type": "markdown",
   "metadata": {},
   "source": [
    "A forma que nós definimos uma função em python é a seguinte:\n",
    "\n",
    "<p><b>def</b> nomeDaFunção<b>(</b>parâmetro1, parâmetro2, ...<b>):</b></p>\n",
    "&nbsp;&nbsp;&nbsp;&nbsp;corpoDaFunção"
   ]
  },
  {
   "cell_type": "markdown",
   "metadata": {},
   "source": [
    "Na qual nós escolhemos o nome da nossa função e quantos (pode até ser 0) parâmetros ela vai ter (e quais seus nomes), depois decidimos o que ela vai executar. Normalmente, quando definirmos uma função, ela vai ter algo chamado <b><i>return</i></b>, que vai ser o resultado final do código que nós queremos que ela execute, o valor que ela vai assumir depois que o código executar.\n",
    "\n",
    "<p>Exemplo:</p>\n",
    "Na função len(), que já conhecemos, o return que ela dá é um número, o número que representa o tamanho de uma sequência."
   ]
  },
  {
   "cell_type": "markdown",
   "metadata": {},
   "source": [
    "___"
   ]
  },
  {
   "cell_type": "markdown",
   "metadata": {},
   "source": [
    "Voltando no nosso problema acima, vamos definir uma função que testa se um número é primo ou não:"
   ]
  },
  {
   "cell_type": "code",
   "execution_count": 2,
   "metadata": {},
   "outputs": [],
   "source": [
    "def isPrime(numero):\n",
    "    prime = True\n",
    "    for i in range(2, numero):\n",
    "        if numero == 1:\n",
    "            prime = False\n",
    "        \n",
    "        elif numero % (i) == 0:\n",
    "            prime = False \n",
    "            \n",
    "    return prime"
   ]
  },
  {
   "cell_type": "markdown",
   "metadata": {},
   "source": [
    "Como nós colocamos a função para retornar o valor de prime, agora a função <i>isPrime(numero)</i> vai ter o valor <b>True</b> se <i>numero</i> for um primo, e <b>False</b> se <i>numero</i> não for um número primo. Quer ver como isso simplificou aquele nosso código? Olha só:"
   ]
  },
  {
   "cell_type": "code",
   "execution_count": 43,
   "metadata": {},
   "outputs": [
    {
     "name": "stdout",
     "output_type": "stream",
     "text": [
      "Entre um inteiro: 10\n",
      "2, 3, 5, 7, 11, 13, 17, 19, 23, 29, fim\n"
     ]
    }
   ],
   "source": [
    "num = int(input(\"Entre um inteiro: \"))\n",
    "\n",
    "numero = 2\n",
    "counter = 0\n",
    "\n",
    "while counter < num:    \n",
    "    if isPrime(numero):\n",
    "        print(numero, end=\", \")\n",
    "        counter += 1\n",
    "    numero +=1\n",
    "    \n",
    "print(\"fim\")"
   ]
  },
  {
   "cell_type": "markdown",
   "metadata": {},
   "source": [
    "Assim nós acabamos com um código bem mais simples e mais fácil de ler, mas que executa a mesma função. E outro ponto positivo, agora nós podemos usar a função <i>isPrime(numero)</i> sempre que quisermos!"
   ]
  },
  {
   "cell_type": "markdown",
   "metadata": {},
   "source": [
    "Esse é o importante de fazer seus códigos sempre tão <b>modulares</b> quanto possível! É sempre melhor se você puder quebrar um problema maior em problemas menores, resolver esses problemas menores com funções e, só então, resolver o problema maior. Sempre que você se pegar copiando código, pense se você talvez não devesse definir uma função pra esse problema."
   ]
  },
  {
   "cell_type": "markdown",
   "metadata": {},
   "source": [
    "Antes de partir para os exercícios, é <b>importante</b> lembrar, <b>as variáveis definidas dentro da função só existem nesse contexto, apenas dentro da função!</b> Isso vai ser algo importante para alguns dos próximos conceitos que vamos definir."
   ]
  },
  {
   "cell_type": "markdown",
   "metadata": {},
   "source": [
    " "
   ]
  },
  {
   "cell_type": "markdown",
   "metadata": {},
   "source": [
    "Dicas para funções:\n",
    "\n",
    ".Tente sempre dar a uma função e a seu(s) parâmetro(s) nomes fáceis de identificar. Idealmente, você deve ser capaz de identificar exatamente o que uma função faz e o que ela requer como argumentos só ao ler seu nome.\n",
    "\n",
    ".Tente sempre colocar só um <i>return</i>, de preferência ao final da função. Ao ver uma função definida deve ser fácil de ver o que ela retorna.\n",
    "\n",
    ".Documente sua função, em python nós temos algo '''Assim''', que você coloca ao começo da sua função para dizer o que ela faz. Escreva o que a sua função tem como argumento, o que ela faz, o que ela retorna ao fim. Exemplo:"
   ]
  },
  {
   "cell_type": "markdown",
   "metadata": {},
   "source": [
    "___"
   ]
  },
  {
   "cell_type": "markdown",
   "metadata": {},
   "source": [
    "<h2>A função main()</h2>"
   ]
  },
  {
   "cell_type": "markdown",
   "metadata": {},
   "source": [
    "___"
   ]
  },
  {
   "cell_type": "markdown",
   "metadata": {},
   "source": [
    "A função main() não é obrigatória no python, mas é uma boa prática de programação que deixa seu código muito mais organizado e legível. Você pode definir as funções que vai usar antes da função main(), e na função main() você só define o que vai rodar no seu código. Algo assim:"
   ]
  },
  {
   "cell_type": "code",
   "execution_count": 3,
   "metadata": {},
   "outputs": [
    {
     "name": "stdout",
     "output_type": "stream",
     "text": [
      "Entre um número inteiro: 10\n",
      "2, 3, 5, 7, 11, 13, 17, 19, 23, 29, fim\n"
     ]
    }
   ],
   "source": [
    "def maxNumberInList(numberList):\n",
    "    \n",
    "    '''Essa função recebe uma lista de números, \n",
    "    procura o maior número dessa lista e o retorna.'''\n",
    "    \n",
    "    out = numberList[0]\n",
    "    for i in range(len(numberList)):\n",
    "        if numberList[i] > out:\n",
    "            out = numberList[i]\n",
    "            \n",
    "    return out\n",
    "\n",
    "def primesUpTo(num):\n",
    "    numero = 2\n",
    "    counter = 0\n",
    "\n",
    "    while counter < num:    \n",
    "        if isPrime(numero):\n",
    "            print(numero, end=\", \")\n",
    "            counter += 1\n",
    "        numero +=1\n",
    "    \n",
    "    print(\"fim\")\n",
    "\n",
    "################################################\n",
    "    \n",
    "def main():\n",
    "    num = int(input(\"Entre um número inteiro: \"))\n",
    "    primesUpTo(num)\n",
    "    \n",
    "main()"
   ]
  },
  {
   "cell_type": "markdown",
   "metadata": {},
   "source": [
    "Dessa forma nosso código fica mais organizado e legível, com a parte de definir funções separada da parte do programa <b>principal</b> de fato."
   ]
  },
  {
   "cell_type": "markdown",
   "metadata": {},
   "source": [
    "Você pode, ainda, ver muitas vezes uma linha como a seguinte:"
   ]
  },
  {
   "cell_type": "code",
   "execution_count": 54,
   "metadata": {},
   "outputs": [
    {
     "name": "stdout",
     "output_type": "stream",
     "text": [
      "Entre um número inteiro: 10\n",
      "2, 3, 5, 7, 11, 13, 17, 19, 23, 29, fim\n"
     ]
    }
   ],
   "source": [
    "def main():\n",
    "    num = int(input(\"Entre um número inteiro: \"))\n",
    "    primesUpTo(num)\n",
    "\n",
    "if __name__ == \"__main__\":\n",
    "    main()"
   ]
  },
  {
   "cell_type": "markdown",
   "metadata": {},
   "source": [
    "Se vir isso, não estranhe, tem a ver com importar módulos, e é algo que você não precisa se preocupar por enquanto."
   ]
  },
  {
   "cell_type": "markdown",
   "metadata": {},
   "source": [
    "___"
   ]
  },
  {
   "cell_type": "markdown",
   "metadata": {},
   "source": [
    "<h2>Variáveis Globais</h2>"
   ]
  },
  {
   "cell_type": "markdown",
   "metadata": {},
   "source": [
    "___\n"
   ]
  },
  {
   "cell_type": "markdown",
   "metadata": {},
   "source": [
    "Uma variável global é, assim como o nome diz, uma variável que pode ser acessada de qualquer lugar do código. Ela fica na memória por todo o programa, podendo ser trocada por qualquer função e acabar afetando o programa. Fazer variáveis globais é algo que você deve sempre evitar no seu programa, já que com elas você pode facilmente perder o controle do que você tem definido em um código mais complexo. <b>Não entenda errado</b>, variáveis globais podem ser úteis muitas vezes, mas, assim como while, é algo que pode ser desastroso se usado de forma errada."
   ]
  },
  {
   "cell_type": "markdown",
   "metadata": {},
   "source": [
    "___"
   ]
  },
  {
   "cell_type": "markdown",
   "metadata": {},
   "source": [
    "<h3><b>Exercícios:</b></h3>"
   ]
  },
  {
   "cell_type": "markdown",
   "metadata": {},
   "source": [
    "<b><i>Exercício extra</i></b>: Refaça os exercícios das outras seções, mas usando os conceitos de funções e código modular, definindo uma main e evitando variáveis globais."
   ]
  },
  {
   "cell_type": "markdown",
   "metadata": {},
   "source": [
    "<b><i>Exercício 9.1</i></b>: Faça um programa que é uma calculadora, ele deve ter um menu de texto para o usuário escolher qual operação quer executar (adição, subtração, multiplicação, divisão, potenciação, raíz quadrada e fatoração). Quando uma operação for executada, o programa deve voltar ao menu, e ele deve continuar rodando até que o usuário digite <b>sair</b>. Use os conceitos aprendidos nesse capítulo, como funções, main, modularidade e evitar variáveis globais."
   ]
  },
  {
   "cell_type": "markdown",
   "metadata": {},
   "source": [
    "<b><i>Exercício 9.2</i></b>: Faça um programa que é um sistema de cadastro. O sistema deve ter uma matriz na qual cada linha tem as seguintes informações de uma pessoa: nome, idade, cidade. O programa deve ter um menu no qual o usuário pode escolher entre as seguintes funcionalidades: ver a matriz de cadastrados (na forma de matriz, mostrando o que cada variável representa em cima dela), cadastrar uma pessoa, remover o cadastro de uma pessoa, alterar algum dado cadastrado de alguém pelo seu nome."
   ]
  },
  {
   "cell_type": "markdown",
   "metadata": {},
   "source": [
    "___"
   ]
  },
  {
   "cell_type": "markdown",
   "metadata": {},
   "source": [
    "<h1>10. Recursão</h1>"
   ]
  },
  {
   "cell_type": "markdown",
   "metadata": {},
   "source": [
    "___"
   ]
  },
  {
   "cell_type": "markdown",
   "metadata": {},
   "source": [
    "Recursão é uma ideia muito importante na programação e fora dela. Vamos começar com um exemplo:"
   ]
  },
  {
   "cell_type": "markdown",
   "metadata": {},
   "source": [
    "___"
   ]
  },
  {
   "cell_type": "markdown",
   "metadata": {},
   "source": [
    "<b><i>Exemplo</i></b>: Faça uma função que receba um número inteiro <i>num</i> como input e retorne o <i>num</i> fibonacci. O programa deve imprimir o resultado na tela. Comece a contar do 1.\n",
    "\n",
    "<i>Os números fibonacci são uma sequência na qual o enésimo fibonacci é igual à soma dos dois anteriores. Assim, n = (n-1) + (n-2). Os primeiros da sequência se dão da seguinte forma: 1, 1, 2, 3, 5, 8, 13, 21, 34...</i>"
   ]
  },
  {
   "cell_type": "markdown",
   "metadata": {},
   "source": [
    "Vamos pensar em como implementar essa função. \n",
    "\n",
    "Vamos primeiro tirar da jogada os casos mais fáceis, se <i>num</i> for 1 ou 2, já retornamos 1. Mas e se não for um desses? Simples, nós retornamos fibonacci(num -1) + fibonacci(num - 2), que são exatamente os dois anteriores ao fibonacci(num). Pareceu estranho? A verdade é que nós podemos chamar a função dentro da definição da própria função. E é isso que é a recursão."
   ]
  },
  {
   "cell_type": "code",
   "execution_count": 9,
   "metadata": {},
   "outputs": [
    {
     "name": "stdout",
     "output_type": "stream",
     "text": [
      "21\n"
     ]
    }
   ],
   "source": [
    "def fibonacci(num):\n",
    "    if num == 1 or num == 2:\n",
    "        out = 1\n",
    "    else:\n",
    "        out = fibonacci(num - 1) + fibonacci(num - 2)\n",
    "        \n",
    "    return out\n",
    "\n",
    "print(fibonacci(8))"
   ]
  },
  {
   "cell_type": "markdown",
   "metadata": {},
   "source": [
    "Assim como no exemplo acima, as recursões têm pelo menos um <b>caso base</b>, como foram o 1 e o 2 no exemplo acima. Os próximos casos normalmente constroem em cima do caso base. Vamos analisar exatamente como essa função funciona:"
   ]
  },
  {
   "cell_type": "markdown",
   "metadata": {},
   "source": [
    "Vamos analisar o que acontece se nós chamarmos a função como fibonacci(4), ou seja, o quarto fibonacci:\n",
    "\n",
    ".como <i>num</i> não é igual a 1 ou 2 (é 4), o if é passado e o código entra no else\n",
    "\n",
    ".o que o código tenta fazer agora é <b>fibonacci(4 - 1) + fibonacci(4 - 2)</b>, ou <b>fibonacci(3) + fibonacci(2)</b>.\n",
    "\n",
    ".fibonacci(2) é fácil, é um caso base (que entra no if), então o código para ser computado fica em <b>fibonacci(3) + 1</b>.\n",
    "\n",
    ".agora resta para o programa computar <b>fibonacci(3)</b>, que é <b>fibonacci(3 - 1) + fibonacci(3 - 2)</b>.\n",
    "\n",
    ".então o que o código quer resolver agora é <b>fibonacci(2) + fibonacci(1)</b>, ambos são <b>casos base</b>, o que é fácil de computar, já que os dois entram no <b>if</b>. Isso fica então fibonacci(3) = 1 + 1, que é igual a 2\n",
    "\n",
    ".voltando, fibonacci(4) = fibonacci(3) + 1, então fibonacci(4) = 2 + 1, ou 3, que é o valor atribuído à variável <b>out</b>, e o valor retornado pela função."
   ]
  },
  {
   "cell_type": "markdown",
   "metadata": {},
   "source": [
    "___"
   ]
  },
  {
   "cell_type": "markdown",
   "metadata": {},
   "source": [
    "E assim funciona a recursão, você chama a função dentro da própria função, até chegar em um caso base. Vamos ver mais um exemplo agora, descobrir se uma palavra é um <i>palíndromo</i>"
   ]
  },
  {
   "cell_type": "markdown",
   "metadata": {},
   "source": [
    "___"
   ]
  },
  {
   "cell_type": "markdown",
   "metadata": {},
   "source": [
    "<b><i>Exemplo</i></b>: Fazer uma função que receba uma string como um input e teste se essa string é um <i>palíndromo</i>. Se a palavra for um <i>palíndromo</i> a função deve retornar <b>True</b>, caso contrário ela deve retornar <b>False</b>. \n",
    "\n",
    "<i>Palíndromo é uma sequência de caracteres que se mantém igual se for invertida. Assim, \"1001\" é um palíndromo, assim como \"reviver\".</i>"
   ]
  },
  {
   "cell_type": "markdown",
   "metadata": {},
   "source": [
    "___"
   ]
  },
  {
   "cell_type": "markdown",
   "metadata": {},
   "source": [
    "Uma forma de resolver esse problema é começar definindo uma função que inverte a string, depois testar se a string invertida é igual à string normal. Da seguinte forma:"
   ]
  },
  {
   "cell_type": "code",
   "execution_count": 31,
   "metadata": {},
   "outputs": [],
   "source": [
    "def invertedString(string):\n",
    "    out = \"\"\n",
    "    out += string[::-1]\n",
    "    \n",
    "    return out"
   ]
  },
  {
   "cell_type": "markdown",
   "metadata": {},
   "source": [
    "Assim nós fizemos uma função que usa simplesmente string slicing para inverter uma string, agora vamos fazer uma outra função que usa a <i>inversorString</i> para testar se uma string é um palíndromo:"
   ]
  },
  {
   "cell_type": "code",
   "execution_count": 32,
   "metadata": {},
   "outputs": [
    {
     "name": "stdout",
     "output_type": "stream",
     "text": [
      "True\n"
     ]
    }
   ],
   "source": [
    "def isPalindrome(string):\n",
    "    out = False\n",
    "    \n",
    "    if string == invertedString(string):\n",
    "        out = True\n",
    "        \n",
    "    return out\n",
    "\n",
    "print(isPalindrome(\"reviver\"))"
   ]
  },
  {
   "cell_type": "markdown",
   "metadata": {},
   "source": [
    "___"
   ]
  },
  {
   "cell_type": "markdown",
   "metadata": {},
   "source": [
    "Essa é uma forma possível de resolver esse problema, mas vamos tentar resolver agora de forma recursiva:"
   ]
  },
  {
   "cell_type": "markdown",
   "metadata": {},
   "source": [
    ".Se a string tem menos de duas letras, ela é automaticamente um palíndromo.\n",
    "\n",
    ".Se a primeira letra da palavra é diferente da última, a palavra não é um palíndromo.\n",
    "\n",
    "Esses foram os casos bases, agora para a parte recursiva:\n",
    "\n",
    ".Se a função não entrar em nenhum dos dois casos acima, ela deve retornar a própria função, mas testando a palavra sem a primeira e a última letra."
   ]
  },
  {
   "cell_type": "code",
   "execution_count": 30,
   "metadata": {},
   "outputs": [
    {
     "name": "stdout",
     "output_type": "stream",
     "text": [
      "True\n"
     ]
    }
   ],
   "source": [
    "def recursiveIsPalindrome(string):\n",
    "    if len(string) < 2:\n",
    "        out = True\n",
    "    elif string[0] != string[-1]:\n",
    "        out = False\n",
    "    else:    \n",
    "        out = recursiveIsPalindrome(string[1:-1])\n",
    "    \n",
    "    return out\n",
    "    \n",
    "print(recursiveIsPalindrome(\"reviver\"))"
   ]
  },
  {
   "cell_type": "markdown",
   "metadata": {},
   "source": [
    "Vamos analisar o que acontece nesse programa com o exemplo \"101\", ou seja, quando fazemos recursiveIsPalindrome(\"101\"):"
   ]
  },
  {
   "cell_type": "markdown",
   "metadata": {},
   "source": [
    ".O programa começa testando se len(\"101\") < 2, sabemos que len(\"101\") é 3, então passamos para o próximo caso\n",
    "\n",
    ".o programa testa se \"101\"[0] (o primeiro caracter) é diferente de \"101\"[-1] (o último caracter), como ambos são 1, passamos para o próximo caso\n",
    "\n",
    ".como nenhum dos casos acima foi atendido, o programa retorna recursiveIsPalindrome(\"101\"[1:-1]), que é equivalente a recursiveIsPalindrome de \"101\" sem o primeiro e o último caracteres, ou seja, recursiveIsPalindrome(\"1\")\n",
    "\n",
    ".Agora o programa vai tentar computar recursiveIsPalindrome(\"1\")\n",
    "\n",
    ".O programa começa testando se len(\"1\") < 2, sabemos que len(\"1\") é 1, então esse <b>if</b> é atendido, e o valor <b>True</b> é atribuído à variável <b>out</b>, que é retornada pela função, acabando o programa."
   ]
  },
  {
   "cell_type": "markdown",
   "metadata": {},
   "source": [
    "___"
   ]
  },
  {
   "cell_type": "markdown",
   "metadata": {},
   "source": [
    "<h3><b>Exercícios:</b></h3>"
   ]
  },
  {
   "cell_type": "markdown",
   "metadata": {},
   "source": [
    "<b><i>Exercício 10.1</i></b>: Defina uma função que receba um inteiro <i>n</i> como argumento e retorne <i>n!</i> imprimindo o resultado na tela. <b>Essa função não pode usar recursão.</b>\n",
    "\n",
    "<i>O fatorial de um número é equivalente a esse número multiplicado por todos os seus antecessores até chegar em 1. Exemplo: 5! = 5 * 4 * 3 * 2 * 1. Assim, n! = n * (n-1) * (n-2) * ... * 2 * 1.</i>"
   ]
  },
  {
   "cell_type": "markdown",
   "metadata": {},
   "source": [
    "<b><i>Exercício 10.2</i></b>: Defina uma função que receba um inteiro <i>n</i> como argumento e retorne <i>n!</i> imprimindo o resultado na tela. <b>Essa função deve usar recursão.</b>"
   ]
  },
  {
   "attachments": {
    "combina%C3%A7ao.jpg": {
     "image/jpeg": "[encoded data removed]"
    }
   },
   "cell_type": "markdown",
   "metadata": {},
   "source": [
    "<b><i>Exercício 10.3</i></b>: Defina uma função que receba dois números inteiros como seus argumentos, ela deve, então, retornar a combinação desses dois números C(n, p). \n",
    "\n",
    "<i>A combinação de dois inteiros n e p, C(n, p) é igual a (n!)/((p!)*((n - p)!)).</i>\n",
    "\n",
    "![combina%C3%A7ao.jpg](attachment:combina%C3%A7ao.jpg)"
   ]
  },
  {
   "cell_type": "markdown",
   "metadata": {},
   "source": [
    "___"
   ]
  },
  {
   "cell_type": "markdown",
   "metadata": {},
   "source": [
    "<h3>Dicas para Recursão:</h3>\n",
    "\n",
    ".Muitas vezes a recursão simplifica um código, principalmente aqueles com iterações dentro de iterações, e deixa esse código mais limpo e elegante\n",
    "\n",
    ".Lembre-se de começar pelos casos base e seguir recursivamente até chegar neles para terminar a função\n",
    "\n",
    ".Recursões usam muita memória e tempo, evite usar elas quando isso for possível, mas é uma ferramenta muito boa pra se ter na manga"
   ]
  },
  {
   "cell_type": "markdown",
   "metadata": {},
   "source": [
    "___"
   ]
  },
  {
   "cell_type": "markdown",
   "metadata": {},
   "source": [
    "<h1>11. Dicionários</h1>"
   ]
  },
  {
   "cell_type": "markdown",
   "metadata": {},
   "source": [
    "___"
   ]
  },
  {
   "cell_type": "code",
   "execution_count": null,
   "metadata": {},
   "outputs": [],
   "source": []
  }
 ],
 "metadata": {
  "kernelspec": {
   "display_name": "Python 3",
   "language": "python",
   "name": "python3"
  },
  "language_info": {
   "codemirror_mode": {
    "name": "ipython",
    "version": 3
   },
   "file_extension": ".py",
   "mimetype": "text/x-python",
   "name": "python",
   "nbconvert_exporter": "python",
   "pygments_lexer": "ipython3",
   "version": "3.7.3"
  }
 },
 "nbformat": 4,
 "nbformat_minor": 2
}
